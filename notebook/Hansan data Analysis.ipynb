{
 "cells": [
  {
   "cell_type": "code",
   "execution_count": 15,
   "metadata": {
    "collapsed": false
   },
   "outputs": [
    {
     "data": {
      "text/html": [
       "\n",
       "    <div class=\"bk-banner\">\n",
       "        <a href=\"http://bokeh.pydata.org\" target=\"_blank\" class=\"bk-logo bk-logo-small bk-logo-notebook\"></a>\n",
       "        <span id=\"471cc522-4904-4f6b-859f-84aaed29d81f\">Loading BokehJS ...</span>\n",
       "    </div>"
      ]
     },
     "metadata": {},
     "output_type": "display_data"
    },
    {
     "data": {
      "application/javascript": [
       "\n",
       "(function(global) {\n",
       "  function now() {\n",
       "    return new Date();\n",
       "  }\n",
       "\n",
       "  if (typeof (window._bokeh_onload_callbacks) === \"undefined\") {\n",
       "    window._bokeh_onload_callbacks = [];\n",
       "  }\n",
       "\n",
       "  function run_callbacks() {\n",
       "    window._bokeh_onload_callbacks.forEach(function(callback) { callback() });\n",
       "    delete window._bokeh_onload_callbacks\n",
       "    console.info(\"Bokeh: all callbacks have finished\");\n",
       "  }\n",
       "\n",
       "  function load_libs(js_urls, callback) {\n",
       "    window._bokeh_onload_callbacks.push(callback);\n",
       "    if (window._bokeh_is_loading > 0) {\n",
       "      console.log(\"Bokeh: BokehJS is being loaded, scheduling callback at\", now());\n",
       "      return null;\n",
       "    }\n",
       "    if (js_urls == null || js_urls.length === 0) {\n",
       "      run_callbacks();\n",
       "      return null;\n",
       "    }\n",
       "    console.log(\"Bokeh: BokehJS not loaded, scheduling load and callback at\", now());\n",
       "    window._bokeh_is_loading = js_urls.length;\n",
       "    for (var i = 0; i < js_urls.length; i++) {\n",
       "      var url = js_urls[i];\n",
       "      var s = document.createElement('script');\n",
       "      s.src = url;\n",
       "      s.async = false;\n",
       "      s.onreadystatechange = s.onload = function() {\n",
       "        window._bokeh_is_loading--;\n",
       "        if (window._bokeh_is_loading === 0) {\n",
       "          console.log(\"Bokeh: all BokehJS libraries loaded\");\n",
       "          run_callbacks()\n",
       "        }\n",
       "      };\n",
       "      s.onerror = function() {\n",
       "        console.warn(\"failed to load library \" + url);\n",
       "      };\n",
       "      console.log(\"Bokeh: injecting script tag for BokehJS library: \", url);\n",
       "      document.getElementsByTagName(\"head\")[0].appendChild(s);\n",
       "    }\n",
       "  };\n",
       "\n",
       "  var js_urls = ['https://cdn.pydata.org/bokeh/release/bokeh-0.11.1.min.js', 'https://cdn.pydata.org/bokeh/release/bokeh-widgets-0.11.1.min.js', 'https://cdn.pydata.org/bokeh/release/bokeh-compiler-0.11.1.min.js'];\n",
       "\n",
       "  var inline_js = [\n",
       "    function(Bokeh) {\n",
       "      Bokeh.set_log_level(\"info\");\n",
       "    },\n",
       "    \n",
       "    function(Bokeh) {\n",
       "      Bokeh.$(\"#471cc522-4904-4f6b-859f-84aaed29d81f\").text(\"BokehJS successfully loaded\");\n",
       "    },\n",
       "    function(Bokeh) {\n",
       "      console.log(\"Bokeh: injecting CSS: https://cdn.pydata.org/bokeh/release/bokeh-0.11.1.min.css\");\n",
       "      Bokeh.embed.inject_css(\"https://cdn.pydata.org/bokeh/release/bokeh-0.11.1.min.css\");\n",
       "      console.log(\"Bokeh: injecting CSS: https://cdn.pydata.org/bokeh/release/bokeh-widgets-0.11.1.min.css\");\n",
       "      Bokeh.embed.inject_css(\"https://cdn.pydata.org/bokeh/release/bokeh-widgets-0.11.1.min.css\");\n",
       "    }\n",
       "  ];\n",
       "\n",
       "  function run_inline_js() {\n",
       "    for (var i = 0; i < inline_js.length; i++) {\n",
       "      inline_js[i](window.Bokeh);\n",
       "    }\n",
       "  }\n",
       "\n",
       "  if (window._bokeh_is_loading === 0) {\n",
       "    console.log(\"Bokeh: BokehJS loaded, going straight to plotting\");\n",
       "    run_inline_js();\n",
       "  } else {\n",
       "    load_libs(js_urls, function() {\n",
       "      console.log(\"Bokeh: BokehJS plotting callback run at\", now());\n",
       "      run_inline_js();\n",
       "    });\n",
       "  }\n",
       "}(this));"
      ]
     },
     "metadata": {},
     "output_type": "display_data"
    }
   ],
   "source": [
    "%matplotlib inline\n",
    "import pandas as pd\n",
    "import numpy as np\n",
    "import matplotlib.pyplot as plt\n",
    "import seaborn as sns\n",
    "from bokeh.plotting import figure, output_file, show, output_notebook\n",
    "from bokeh.charts import Bar\n",
    "import thinkstats2\n",
    "import thinkplot\n",
    "from scipy import stats\n",
    "output_notebook()"
   ]
  },
  {
   "cell_type": "code",
   "execution_count": 16,
   "metadata": {
    "collapsed": true
   },
   "outputs": [],
   "source": [
    "def ttest_onesided(high_vita, low_vita, confidence_interval, ttest_variant=\"welch\"):\n",
    "    # Welch’s t-test, independent variable\n",
    "    high_vita_name, high_vita_dataset = high_vita\n",
    "    low_vita_name, low_vita_dataset = low_vita\n",
    "    \n",
    "    if ttest_variant == \"welch\":\n",
    "        tstat, pval = stats.ttest_ind(high_vita_dataset, low_vita_dataset, equal_var=False)\n",
    "    elif ttest_variant == \"student\":\n",
    "        tstat, pval = stats.ttest_rel(high_vita_dataset, low_vita_dataset)\n",
    "        \n",
    "    one_tailed_pval = pval/2\n",
    "    \n",
    "    pval_critical = 1 - (confidence_interval / 100)\n",
    "    if one_tailed_pval < pval_critical:\n",
    "        print(\"PVALUE = {} (P-Critical = {})\".format(one_tailed_pval, pval_critical))\n",
    "        print(\"Tstatistics = {}\".format(tstat))\n",
    "        print(\"{} is significantly different than {}\".format(high_vita_name, low_vita_name))\n",
    "        if tstat > 0:\n",
    "            print(\"{} > {}\".format(high_vita_name, low_vita_name))\n",
    "        elif tstat < 0:\n",
    "            print(\"{} < {}\".format(high_vita_name, low_vita_name))\n",
    "    else:\n",
    "        print(\"High group is not significantly different\")\n",
    "\n",
    "def calculate_iqr_limit(series):\n",
    "    q1 = series.quantile(q=0.25)\n",
    "    q2 = series.quantile(q=0.5)\n",
    "    q3 = series.quantile(q=0.75)\n",
    "    iqr = q3 - q1\n",
    "    upper = q3 + 1.5*iqr\n",
    "    lower = q1 - 1.5*iqr\n",
    "    print(\"upper limit = {}\".format(upper))\n",
    "    print(\"lower limit = {}\".format(lower))\n",
    "    return float(upper), float(lower)\n",
    "\n",
    "def get_outlier(df, col_name):\n",
    "    uplim, lowlim = calculate_iqr_limit(df[col_name])\n",
    "    return df[(df[col_name] < lowlim) | df[col_name] > uplim]"
   ]
  },
  {
   "cell_type": "code",
   "execution_count": 31,
   "metadata": {
    "collapsed": true
   },
   "outputs": [],
   "source": [
    "excel_file = pd.ExcelFile(\"hansan.xlsx\")\n",
    "df = pd.read_excel(excel_file)\n",
    "df[\"svg_ca\"] = df.CA / 100"
   ]
  },
  {
   "cell_type": "code",
   "execution_count": 34,
   "metadata": {
    "collapsed": false
   },
   "outputs": [
    {
     "data": {
      "text/plain": [
       "<matplotlib.axes._subplots.AxesSubplot at 0x112af9f60>"
      ]
     },
     "execution_count": 34,
     "metadata": {},
     "output_type": "execute_result"
    },
    {
     "data": {
      "image/png": "[encoded data removed]",
      "text/plain": [
       "<matplotlib.figure.Figure at 0x112ae5c18>"
      ]
     },
     "metadata": {},
     "output_type": "display_data"
    }
   ],
   "source": [
    "high_vita = df[df.VIT >= 60]\n",
    "# HIGH VITA ALL REGION OUTLIER REMOVED\n",
    "high_vita.IPR.hist()"
   ]
  },
  {
   "cell_type": "code",
   "execution_count": 33,
   "metadata": {
    "collapsed": false
   },
   "outputs": [
    {
     "name": "stdout",
     "output_type": "stream",
     "text": [
      "upper limit = 0.9124430973720747\n",
      "lower limit = 0.8889054708508526\n",
      "HIGH VITA OUTLIER REMOVED\n",
      "count    47.000000\n",
      "mean      0.900666\n",
      "std       0.004250\n",
      "min       0.889986\n",
      "25%       0.898226\n",
      "50%       0.900935\n",
      "75%       0.903733\n",
      "max       0.908953\n",
      "Name: IPR, dtype: float64\n",
      "n = 47\n"
     ]
    },
    {
     "data": {
      "image/png": "[encoded data removed]",
      "text/plain": [
       "<matplotlib.figure.Figure at 0x11289bc18>"
      ]
     },
     "metadata": {},
     "output_type": "display_data"
    }
   ],
   "source": [
    "hvar_up_lim, hvar_low_lim = calculate_iqr_limit(high_vita.IPR)\n",
    "hvar_wo_df = high_vita[(hvar_low_lim <= high_vita.IPR) & (high_vita.IPR <= hvar_up_lim)]\n",
    "print(\"HIGH VITA OUTLIER REMOVED\")\n",
    "print(hvar_wo_df.IPR.describe())\n",
    "hvar_wo_df.IPR.hist(bins=15)\n",
    "print(\"n = {}\".format(len(hvar_wo_df)))"
   ]
  },
  {
   "cell_type": "code",
   "execution_count": 19,
   "metadata": {
    "collapsed": false
   },
   "outputs": [
    {
     "data": {
      "text/plain": [
       "<matplotlib.axes._subplots.AxesSubplot at 0x1127d0c88>"
      ]
     },
     "execution_count": 19,
     "metadata": {},
     "output_type": "execute_result"
    },
    {
     "data": {
      "image/png": "[encoded data removed]",
      "text/plain": [
       "<matplotlib.figure.Figure at 0x112770c50>"
      ]
     },
     "metadata": {},
     "output_type": "display_data"
    }
   ],
   "source": [
    "low_vita = df[df.VIT <= 40]\n",
    "low_vita.IPR.hist()"
   ]
  },
  {
   "cell_type": "code",
   "execution_count": 35,
   "metadata": {
    "collapsed": false
   },
   "outputs": [
    {
     "name": "stdout",
     "output_type": "stream",
     "text": [
      "upper limit = 0.9211568609336472\n",
      "lower limit = 0.8735196689620931\n",
      "LOW VITA ALL REGION OUTLIER REMOVED\n",
      "count    120.000000\n",
      "mean       0.897511\n",
      "std        0.008116\n",
      "min        0.873988\n",
      "25%        0.893050\n",
      "50%        0.900320\n",
      "75%        0.903450\n",
      "max        0.907887\n",
      "Name: IPR, dtype: float64\n",
      "n = 120\n"
     ]
    },
    {
     "data": {
      "image/png": "[encoded data removed]",
      "text/plain": [
       "<matplotlib.figure.Figure at 0x112c3a978>"
      ]
     },
     "metadata": {},
     "output_type": "display_data"
    }
   ],
   "source": [
    "# LOW VITA ALL REGION OUTLIER REMOVED\n",
    "lvar_up_lim, lvar_low_lim = calculate_iqr_limit(low_vita.IPR)\n",
    "lvar_wo_df = low_vita[(lvar_low_lim <= low_vita.IPR) & (low_vita.IPR <= lvar_up_lim)]\n",
    "print(\"LOW VITA ALL REGION OUTLIER REMOVED\")\n",
    "print(lvar_wo_df.IPR.describe())\n",
    "lvar_wo_df.IPR.hist(bins=15)\n",
    "print(\"n = {}\".format(len(lvar_wo_df)))"
   ]
  },
  {
   "cell_type": "code",
   "execution_count": null,
   "metadata": {
    "collapsed": true
   },
   "outputs": [],
   "source": []
  }
 ],
 "metadata": {
  "kernelspec": {
   "display_name": "Python 3",
   "language": "python",
   "name": "python3"
  },
  "language_info": {
   "codemirror_mode": {
    "name": "ipython",
    "version": 3
   },
   "file_extension": ".py",
   "mimetype": "text/x-python",
   "name": "python",
   "nbconvert_exporter": "python",
   "pygments_lexer": "ipython3",
   "version": "3.5.1"
  }
 },
 "nbformat": 4,
 "nbformat_minor": 0
}
