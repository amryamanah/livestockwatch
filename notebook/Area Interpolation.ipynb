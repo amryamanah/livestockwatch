{
 "cells": [
  {
   "cell_type": "code",
   "execution_count": 1,
   "metadata": {
    "collapsed": false
   },
   "outputs": [
    {
     "data": {
      "text/html": [
       "\n",
       "    <div class=\"bk-banner\">\n",
       "        <a href=\"http://bokeh.pydata.org\" target=\"_blank\" class=\"bk-logo bk-logo-small bk-logo-notebook\"></a>\n",
       "        <span id=\"0fac114d-0181-4cc9-a77b-73ffcd5c3749\">Loading BokehJS ...</span>\n",
       "    </div>"
      ]
     },
     "metadata": {},
     "output_type": "display_data"
    },
    {
     "data": {
      "application/javascript": [
       "\n",
       "(function(global) {\n",
       "  function now() {\n",
       "    return new Date();\n",
       "  }\n",
       "\n",
       "  if (typeof (window._bokeh_onload_callbacks) === \"undefined\") {\n",
       "    window._bokeh_onload_callbacks = [];\n",
       "  }\n",
       "\n",
       "  function run_callbacks() {\n",
       "    window._bokeh_onload_callbacks.forEach(function(callback) { callback() });\n",
       "    delete window._bokeh_onload_callbacks\n",
       "    console.info(\"Bokeh: all callbacks have finished\");\n",
       "  }\n",
       "\n",
       "  function load_libs(js_urls, callback) {\n",
       "    window._bokeh_onload_callbacks.push(callback);\n",
       "    if (window._bokeh_is_loading > 0) {\n",
       "      console.log(\"Bokeh: BokehJS is being loaded, scheduling callback at\", now());\n",
       "      return null;\n",
       "    }\n",
       "    if (js_urls == null || js_urls.length === 0) {\n",
       "      run_callbacks();\n",
       "      return null;\n",
       "    }\n",
       "    console.log(\"Bokeh: BokehJS not loaded, scheduling load and callback at\", now());\n",
       "    window._bokeh_is_loading = js_urls.length;\n",
       "    for (var i = 0; i < js_urls.length; i++) {\n",
       "      var url = js_urls[i];\n",
       "      var s = document.createElement('script');\n",
       "      s.src = url;\n",
       "      s.async = false;\n",
       "      s.onreadystatechange = s.onload = function() {\n",
       "        window._bokeh_is_loading--;\n",
       "        if (window._bokeh_is_loading === 0) {\n",
       "          console.log(\"Bokeh: all BokehJS libraries loaded\");\n",
       "          run_callbacks()\n",
       "        }\n",
       "      };\n",
       "      s.onerror = function() {\n",
       "        console.warn(\"failed to load library \" + url);\n",
       "      };\n",
       "      console.log(\"Bokeh: injecting script tag for BokehJS library: \", url);\n",
       "      document.getElementsByTagName(\"head\")[0].appendChild(s);\n",
       "    }\n",
       "  };\n",
       "\n",
       "  var js_urls = ['https://cdn.pydata.org/bokeh/release/bokeh-0.11.1.min.js', 'https://cdn.pydata.org/bokeh/release/bokeh-widgets-0.11.1.min.js', 'https://cdn.pydata.org/bokeh/release/bokeh-compiler-0.11.1.min.js'];\n",
       "\n",
       "  var inline_js = [\n",
       "    function(Bokeh) {\n",
       "      Bokeh.set_log_level(\"info\");\n",
       "    },\n",
       "    \n",
       "    function(Bokeh) {\n",
       "      Bokeh.$(\"#0fac114d-0181-4cc9-a77b-73ffcd5c3749\").text(\"BokehJS successfully loaded\");\n",
       "    },\n",
       "    function(Bokeh) {\n",
       "      console.log(\"Bokeh: injecting CSS: https://cdn.pydata.org/bokeh/release/bokeh-0.11.1.min.css\");\n",
       "      Bokeh.embed.inject_css(\"https://cdn.pydata.org/bokeh/release/bokeh-0.11.1.min.css\");\n",
       "      console.log(\"Bokeh: injecting CSS: https://cdn.pydata.org/bokeh/release/bokeh-widgets-0.11.1.min.css\");\n",
       "      Bokeh.embed.inject_css(\"https://cdn.pydata.org/bokeh/release/bokeh-widgets-0.11.1.min.css\");\n",
       "    }\n",
       "  ];\n",
       "\n",
       "  function run_inline_js() {\n",
       "    for (var i = 0; i < inline_js.length; i++) {\n",
       "      inline_js[i](window.Bokeh);\n",
       "    }\n",
       "  }\n",
       "\n",
       "  if (window._bokeh_is_loading === 0) {\n",
       "    console.log(\"Bokeh: BokehJS loaded, going straight to plotting\");\n",
       "    run_inline_js();\n",
       "  } else {\n",
       "    load_libs(js_urls, function() {\n",
       "      console.log(\"Bokeh: BokehJS plotting callback run at\", now());\n",
       "      run_inline_js();\n",
       "    });\n",
       "  }\n",
       "}(this));"
      ]
     },
     "metadata": {},
     "output_type": "display_data"
    }
   ],
   "source": [
    "%matplotlib inline\n",
    "import pandas as pd\n",
    "import numpy as np\n",
    "import matplotlib.pyplot as plt\n",
    "import seaborn as sns\n",
    "from bokeh.plotting import figure, output_file, show, output_notebook\n",
    "from bokeh.charts import Bar\n",
    "import thinkstats2\n",
    "import thinkplot\n",
    "from scipy import stats\n",
    "import pymongo\n",
    "from datetime import datetime\n",
    "from collections import OrderedDict\n",
    "output_notebook()"
   ]
  },
  {
   "cell_type": "code",
   "execution_count": 2,
   "metadata": {
    "collapsed": true
   },
   "outputs": [],
   "source": [
    "MONGO_URL = \"mongodb://localhost:27017\"\n",
    "connection = pymongo.MongoClient(MONGO_URL)\n",
    "db = connection.livestockwatch20160415\n",
    "cs_collection = db.capture_session"
   ]
  },
  {
   "cell_type": "code",
   "execution_count": 3,
   "metadata": {
    "collapsed": true
   },
   "outputs": [],
   "source": [
    "excel_handler = pd.ExcelFile(\"april172016.xlsx\")\n",
    "excel_data = pd.read_excel(excel_handler, sheetname=None)\n",
    "plr_df = excel_data[\"plr_all\"]"
   ]
  },
  {
   "cell_type": "code",
   "execution_count": 4,
   "metadata": {
    "collapsed": false
   },
   "outputs": [
    {
     "data": {
      "text/html": [
       "<div>\n",
       "<table border=\"1\" class=\"dataframe\">\n",
       "  <thead>\n",
       "    <tr style=\"text-align: right;\">\n",
       "      <th></th>\n",
       "      <th>frametime</th>\n",
       "      <th>svg_ca</th>\n",
       "      <th>max_area</th>\n",
       "    </tr>\n",
       "  </thead>\n",
       "  <tbody>\n",
       "    <tr>\n",
       "      <th>698</th>\n",
       "      <td>1.93</td>\n",
       "      <td>0.358344</td>\n",
       "      <td>15951.456532</td>\n",
       "    </tr>\n",
       "  </tbody>\n",
       "</table>\n",
       "</div>"
      ],
      "text/plain": [
       "     frametime    svg_ca      max_area\n",
       "698       1.93  0.358344  15951.456532"
      ]
     },
     "execution_count": 4,
     "metadata": {},
     "output_type": "execute_result"
    }
   ],
   "source": [
    "plr_df[plr_df.cs_name == \"WA02_2015_11_26_10_50_10_19934\"][[\"frametime\", \"svg_ca\",\"max_area\"]]"
   ]
  },
  {
   "cell_type": "code",
   "execution_count": 5,
   "metadata": {
    "collapsed": false
   },
   "outputs": [
    {
     "data": {
      "text/plain": [
       "frametime\n",
       "0.53    15902.288367\n",
       "0.60    15631.457711\n",
       "0.67    15624.215501\n",
       "0.73    15679.022394\n",
       "0.80    15937.743685\n",
       "0.87    15951.456532\n",
       "0.93    15401.231407\n",
       "1.00    14966.150300\n",
       "1.07    14177.672711\n",
       "1.13    13606.640637\n",
       "1.20    12862.729228\n",
       "1.27    12301.638996\n",
       "1.33    11885.900237\n",
       "1.40    11619.415334\n",
       "1.47             NaN\n",
       "1.53             NaN\n",
       "1.60             NaN\n",
       "1.67             NaN\n",
       "1.73             NaN\n",
       "1.80             NaN\n",
       "1.87    10232.502510\n",
       "1.93    10141.590613\n",
       "Name: area, dtype: float64"
      ]
     },
     "execution_count": 5,
     "metadata": {},
     "output_type": "execute_result"
    },
    {
     "data": {
      "image/png": "[encoded data removed]",
      "text/plain": [
       "<matplotlib.figure.Figure at 0x1106ff2b0>"
      ]
     },
     "metadata": {},
     "output_type": "display_data"
    }
   ],
   "source": [
    "cs_cursor = cs_collection.find({\"cs_name\":\"WA02_2015_11_26_10_50_10_19934\"})\n",
    "cs_df = pd.DataFrame([cs for cs in cs_cursor])\n",
    "cs_df.index = cs_df.frametime\n",
    "cs_df[cs_df.area == cs_df.max_area]\n",
    "cs_df.area.plot(legend=\"area\")\n",
    "cs_df.svg_area.plot(legend=\"area interpolation\")\n",
    "cs_df.area"
   ]
  },
  {
   "cell_type": "code",
   "execution_count": 6,
   "metadata": {
    "collapsed": false
   },
   "outputs": [
    {
     "data": {
      "text/html": [
       "<div>\n",
       "<table border=\"1\" class=\"dataframe\">\n",
       "  <thead>\n",
       "    <tr style=\"text-align: right;\">\n",
       "      <th></th>\n",
       "      <th>_id</th>\n",
       "      <th>angle</th>\n",
       "      <th>area</th>\n",
       "      <th>aspect_ratio</th>\n",
       "      <th>ca</th>\n",
       "      <th>cattle_id</th>\n",
       "      <th>centroid</th>\n",
       "      <th>contour_area</th>\n",
       "      <th>contour_perimeter</th>\n",
       "      <th>cs_name</th>\n",
       "      <th>...</th>\n",
       "      <th>svg_area</th>\n",
       "      <th>svg_ca</th>\n",
       "      <th>svg_eccentricity</th>\n",
       "      <th>svg_ipr</th>\n",
       "      <th>svg_max_area</th>\n",
       "      <th>svg_perimeter</th>\n",
       "      <th>svg_pupil_major_axis</th>\n",
       "      <th>svg_pupil_minor_axis</th>\n",
       "      <th>timestamp</th>\n",
       "      <th>totd</th>\n",
       "    </tr>\n",
       "    <tr>\n",
       "      <th>frametime</th>\n",
       "      <th></th>\n",
       "      <th></th>\n",
       "      <th></th>\n",
       "      <th></th>\n",
       "      <th></th>\n",
       "      <th></th>\n",
       "      <th></th>\n",
       "      <th></th>\n",
       "      <th></th>\n",
       "      <th></th>\n",
       "      <th></th>\n",
       "      <th></th>\n",
       "      <th></th>\n",
       "      <th></th>\n",
       "      <th></th>\n",
       "      <th></th>\n",
       "      <th></th>\n",
       "      <th></th>\n",
       "      <th></th>\n",
       "      <th></th>\n",
       "      <th></th>\n",
       "    </tr>\n",
       "  </thead>\n",
       "  <tbody>\n",
       "    <tr>\n",
       "      <th>0.87</th>\n",
       "      <td>WA02_2015_11_26_10_50_10_19934_0.87</td>\n",
       "      <td>112.004364</td>\n",
       "      <td>15951.456532</td>\n",
       "      <td>1.139706</td>\n",
       "      <td>0.0</td>\n",
       "      <td>1372243682</td>\n",
       "      <td>[704, 318]</td>\n",
       "      <td>15264.0</td>\n",
       "      <td>565.386864</td>\n",
       "      <td>WA02_2015_11_26_10_50_10_19934</td>\n",
       "      <td>...</td>\n",
       "      <td>15382.778014</td>\n",
       "      <td>0.038859</td>\n",
       "      <td>0.634223</td>\n",
       "      <td>0.967792</td>\n",
       "      <td>15951.456532</td>\n",
       "      <td>446.921609</td>\n",
       "      <td>159.162454</td>\n",
       "      <td>123.056417</td>\n",
       "      <td>2015-11-26 01:50:10</td>\n",
       "      <td>day</td>\n",
       "    </tr>\n",
       "  </tbody>\n",
       "</table>\n",
       "<p>1 rows × 34 columns</p>\n",
       "</div>"
      ],
      "text/plain": [
       "                                           _id       angle          area  \\\n",
       "frametime                                                                  \n",
       "0.87       WA02_2015_11_26_10_50_10_19934_0.87  112.004364  15951.456532   \n",
       "\n",
       "           aspect_ratio   ca   cattle_id    centroid  contour_area  \\\n",
       "frametime                                                            \n",
       "0.87           1.139706  0.0  1372243682  [704, 318]       15264.0   \n",
       "\n",
       "           contour_perimeter                         cs_name  ...   \\\n",
       "frametime                                                     ...    \n",
       "0.87              565.386864  WA02_2015_11_26_10_50_10_19934  ...    \n",
       "\n",
       "               svg_area    svg_ca  svg_eccentricity   svg_ipr  svg_max_area  \\\n",
       "frametime                                                                     \n",
       "0.87       15382.778014  0.038859          0.634223  0.967792  15951.456532   \n",
       "\n",
       "           svg_perimeter  svg_pupil_major_axis  svg_pupil_minor_axis  \\\n",
       "frametime                                                              \n",
       "0.87          446.921609            159.162454            123.056417   \n",
       "\n",
       "                    timestamp  totd  \n",
       "frametime                            \n",
       "0.87      2015-11-26 01:50:10   day  \n",
       "\n",
       "[1 rows x 34 columns]"
      ]
     },
     "execution_count": 6,
     "metadata": {},
     "output_type": "execute_result"
    }
   ],
   "source": [
    "cs_df[cs_df.area == cs_df.max_area]"
   ]
  },
  {
   "cell_type": "code",
   "execution_count": 7,
   "metadata": {
    "collapsed": false
   },
   "outputs": [
    {
     "data": {
      "text/plain": [
       "frametime\n",
       "0.53    15987.027967\n",
       "0.60    16004.706516\n",
       "0.67    15966.115370\n",
       "0.73    15854.054582\n",
       "0.80    15659.843860\n",
       "0.87    15382.778014\n",
       "0.93    15029.267356\n",
       "1.00    14611.636872\n",
       "1.07    14153.585156\n",
       "1.13    13667.649346\n",
       "1.20    13168.582737\n",
       "1.27    12673.554934\n",
       "1.33    12199.545359\n",
       "1.40    11760.917357\n",
       "1.47    11367.197090\n",
       "1.53    11056.472951\n",
       "1.60    10823.542240\n",
       "1.67    10663.955750\n",
       "1.73    10542.113407\n",
       "1.80    10433.286414\n",
       "1.87    10350.778584\n",
       "1.93    10269.520756\n",
       "Name: svg_area, dtype: float64"
      ]
     },
     "execution_count": 7,
     "metadata": {},
     "output_type": "execute_result"
    }
   ],
   "source": [
    "cs_df.svg_area"
   ]
  },
  {
   "cell_type": "code",
   "execution_count": null,
   "metadata": {
    "collapsed": true
   },
   "outputs": [],
   "source": []
  }
 ],
 "metadata": {
  "kernelspec": {
   "display_name": "Python 3",
   "language": "python",
   "name": "python3"
  },
  "language_info": {
   "codemirror_mode": {
    "name": "ipython",
    "version": 3
   },
   "file_extension": ".py",
   "mimetype": "text/x-python",
   "name": "python",
   "nbconvert_exporter": "python",
   "pygments_lexer": "ipython3",
   "version": "3.5.1"
  }
 },
 "nbformat": 4,
 "nbformat_minor": 0
}
