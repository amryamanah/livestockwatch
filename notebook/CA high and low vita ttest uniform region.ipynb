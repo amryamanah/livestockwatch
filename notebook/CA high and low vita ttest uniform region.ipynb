{
 "cells": [
  {
   "cell_type": "code",
   "execution_count": 1,
   "metadata": {
    "collapsed": false
   },
   "outputs": [
    {
     "name": "stdout",
     "output_type": "stream",
     "text": [
      "[Errno 2] No such file or directory: 'logging.json'\n"
     ]
    },
    {
     "name": "stderr",
     "output_type": "stream",
     "text": [
      "/Users/fitram/anaconda/envs/livestockwatch/lib/python3.5/site-packages/matplotlib/__init__.py:1350: UserWarning:  This call to matplotlib.use() has no effect\n",
      "because the backend has already been chosen;\n",
      "matplotlib.use() must be called *before* pylab, matplotlib.pyplot,\n",
      "or matplotlib.backends is imported for the first time.\n",
      "\n",
      "  warnings.warn(_use_error_msg)\n"
     ]
    },
    {
     "data": {
      "text/html": [
       "\n",
       "    <div class=\"bk-banner\">\n",
       "        <a href=\"http://bokeh.pydata.org\" target=\"_blank\" class=\"bk-logo bk-logo-small bk-logo-notebook\"></a>\n",
       "        <span id=\"38b68741-ca7b-4801-859b-9e99602cdfaf\">Loading BokehJS ...</span>\n",
       "    </div>"
      ]
     },
     "metadata": {},
     "output_type": "display_data"
    },
    {
     "data": {
      "application/javascript": [
       "\n",
       "(function(global) {\n",
       "  function now() {\n",
       "    return new Date();\n",
       "  }\n",
       "\n",
       "  if (typeof (window._bokeh_onload_callbacks) === \"undefined\") {\n",
       "    window._bokeh_onload_callbacks = [];\n",
       "  }\n",
       "\n",
       "  function run_callbacks() {\n",
       "    window._bokeh_onload_callbacks.forEach(function(callback) { callback() });\n",
       "    delete window._bokeh_onload_callbacks\n",
       "    console.info(\"Bokeh: all callbacks have finished\");\n",
       "  }\n",
       "\n",
       "  function load_libs(js_urls, callback) {\n",
       "    window._bokeh_onload_callbacks.push(callback);\n",
       "    if (window._bokeh_is_loading > 0) {\n",
       "      console.log(\"Bokeh: BokehJS is being loaded, scheduling callback at\", now());\n",
       "      return null;\n",
       "    }\n",
       "    if (js_urls == null || js_urls.length === 0) {\n",
       "      run_callbacks();\n",
       "      return null;\n",
       "    }\n",
       "    console.log(\"Bokeh: BokehJS not loaded, scheduling load and callback at\", now());\n",
       "    window._bokeh_is_loading = js_urls.length;\n",
       "    for (var i = 0; i < js_urls.length; i++) {\n",
       "      var url = js_urls[i];\n",
       "      var s = document.createElement('script');\n",
       "      s.src = url;\n",
       "      s.async = false;\n",
       "      s.onreadystatechange = s.onload = function() {\n",
       "        window._bokeh_is_loading--;\n",
       "        if (window._bokeh_is_loading === 0) {\n",
       "          console.log(\"Bokeh: all BokehJS libraries loaded\");\n",
       "          run_callbacks()\n",
       "        }\n",
       "      };\n",
       "      s.onerror = function() {\n",
       "        console.warn(\"failed to load library \" + url);\n",
       "      };\n",
       "      console.log(\"Bokeh: injecting script tag for BokehJS library: \", url);\n",
       "      document.getElementsByTagName(\"head\")[0].appendChild(s);\n",
       "    }\n",
       "  };\n",
       "\n",
       "  var js_urls = ['https://cdn.pydata.org/bokeh/release/bokeh-0.11.1.min.js', 'https://cdn.pydata.org/bokeh/release/bokeh-widgets-0.11.1.min.js', 'https://cdn.pydata.org/bokeh/release/bokeh-compiler-0.11.1.min.js'];\n",
       "\n",
       "  var inline_js = [\n",
       "    function(Bokeh) {\n",
       "      Bokeh.set_log_level(\"info\");\n",
       "    },\n",
       "    \n",
       "    function(Bokeh) {\n",
       "      Bokeh.$(\"#38b68741-ca7b-4801-859b-9e99602cdfaf\").text(\"BokehJS successfully loaded\");\n",
       "    },\n",
       "    function(Bokeh) {\n",
       "      console.log(\"Bokeh: injecting CSS: https://cdn.pydata.org/bokeh/release/bokeh-0.11.1.min.css\");\n",
       "      Bokeh.embed.inject_css(\"https://cdn.pydata.org/bokeh/release/bokeh-0.11.1.min.css\");\n",
       "      console.log(\"Bokeh: injecting CSS: https://cdn.pydata.org/bokeh/release/bokeh-widgets-0.11.1.min.css\");\n",
       "      Bokeh.embed.inject_css(\"https://cdn.pydata.org/bokeh/release/bokeh-widgets-0.11.1.min.css\");\n",
       "    }\n",
       "  ];\n",
       "\n",
       "  function run_inline_js() {\n",
       "    for (var i = 0; i < inline_js.length; i++) {\n",
       "      inline_js[i](window.Bokeh);\n",
       "    }\n",
       "  }\n",
       "\n",
       "  if (window._bokeh_is_loading === 0) {\n",
       "    console.log(\"Bokeh: BokehJS loaded, going straight to plotting\");\n",
       "    run_inline_js();\n",
       "  } else {\n",
       "    load_libs(js_urls, function() {\n",
       "      console.log(\"Bokeh: BokehJS plotting callback run at\", now());\n",
       "      run_inline_js();\n",
       "    });\n",
       "  }\n",
       "}(this));"
      ]
     },
     "metadata": {},
     "output_type": "display_data"
    }
   ],
   "source": [
    "%matplotlib inline\n",
    "import os\n",
    "import pandas as pd\n",
    "import numpy as np\n",
    "import matplotlib.pyplot as plt\n",
    "import seaborn as sns\n",
    "from bokeh.plotting import figure, output_file, show, output_notebook\n",
    "from bokeh.charts import Bar\n",
    "import thinkstats2\n",
    "import thinkplot\n",
    "from scipy import stats\n",
    "from livestockwatch.manualdata_utils import DataProvider\n",
    "output_notebook()"
   ]
  },
  {
   "cell_type": "code",
   "execution_count": 2,
   "metadata": {
    "collapsed": true
   },
   "outputs": [],
   "source": [
    "def ttest_onesided(high_vita, low_vita, confidence_interval, ttest_variant=\"welch\"):\n",
    "    # Welch’s t-test, independent variable\n",
    "    high_vita_name, high_vita_dataset = high_vita\n",
    "    low_vita_name, low_vita_dataset = low_vita\n",
    "    \n",
    "    if ttest_variant == \"welch\":\n",
    "        tstat, pval = stats.ttest_ind(high_vita_dataset, low_vita_dataset, equal_var=False)\n",
    "    elif ttest_variant == \"student\":\n",
    "        tstat, pval = stats.ttest_rel(high_vita_dataset, low_vita_dataset)\n",
    "        \n",
    "    one_tailed_pval = pval/2\n",
    "    \n",
    "    pval_critical = 1 - (confidence_interval / 100)\n",
    "    if one_tailed_pval < pval_critical:\n",
    "        print(\"PVALUE = {} (P-Critical = {})\".format(one_tailed_pval, pval_critical))\n",
    "        print(\"Tstatistics = {}\".format(tstat))\n",
    "        print(\"{} is significantly different than {}\".format(high_vita_name, low_vita_name))\n",
    "        if tstat > 0:\n",
    "            print(\"{} > {}\".format(high_vita_name, low_vita_name))\n",
    "        elif tstat < 0:\n",
    "            print(\"{} < {}\".format(high_vita_name, low_vita_name))\n",
    "    else:\n",
    "        print(\"High group is not significantly different\")\n",
    "\n",
    "def calculate_iqr_limit(series):\n",
    "    q1 = series.quantile(q=0.25)\n",
    "    q2 = series.quantile(q=0.5)\n",
    "    q3 = series.quantile(q=0.75)\n",
    "    iqr = q3 - q1\n",
    "    upper = q3 + 1.5*iqr\n",
    "    lower = q1 - 1.5*iqr\n",
    "    print(\"upper limit = {}\".format(upper))\n",
    "    print(\"lower limit = {}\".format(lower))\n",
    "    return float(upper), float(lower)\n",
    "\n",
    "def get_outlier(df, col_name):\n",
    "    uplim, lowlim = calculate_iqr_limit(df[col_name])\n",
    "    outlier_df = df[df.apply(lambda x: (x[col_name] < lowlim) | (x[col_name] > uplim), axis=1)]\n",
    "    return outlier_df"
   ]
  },
  {
   "cell_type": "code",
   "execution_count": 3,
   "metadata": {
    "collapsed": false
   },
   "outputs": [],
   "source": [
    "ca_path = \"ca.xlsx\"\n",
    "if not os.path.exists(ca_path):\n",
    "    base_path = \"/Volumes/fitramhd/BISE/WA02_month/\"\n",
    "    lst_excel_path = [\n",
    "        os.path.join(base_path, \"2015-7-data.xlsx\"),\n",
    "        os.path.join(base_path, \"2015-6-data.xlsx\"),\n",
    "        os.path.join(base_path, \"manual_data.xlsx\")\n",
    "    ]\n",
    "    lst_ca_df = []\n",
    "    lst_cs_df = []\n",
    "\n",
    "    data_provider = DataProvider(excel_result_path=ca_path)\n",
    "\n",
    "    for excel_path in lst_excel_path:\n",
    "        ca_df, cs_df = data_provider.process_excel_ca(excel_path)\n",
    "        if not ca_df.empty:\n",
    "            lst_ca_df.append(ca_df)\n",
    "            lst_cs_df.append(cs_df)\n",
    "\n",
    "    lst_ca_df.append(data_provider.process_mongo_ca(\"livestockwatch\", \"cs1secfirstframe\"))\n",
    "\n",
    "    if lst_ca_df:\n",
    "        data_provider.save_plr_data(lst_ca_df)"
   ]
  },
  {
   "cell_type": "code",
   "execution_count": 4,
   "metadata": {
    "collapsed": true
   },
   "outputs": [],
   "source": [
    "excel_handler = pd.ExcelFile(\"ca.xlsx\")\n",
    "excel_data = pd.read_excel(excel_handler, sheetname=None)\n",
    "plr_df = excel_data[\"plr_all\"]"
   ]
  },
  {
   "cell_type": "code",
   "execution_count": 5,
   "metadata": {
    "collapsed": false
   },
   "outputs": [
    {
     "data": {
      "text/plain": [
       "(95, 27)"
      ]
     },
     "execution_count": 5,
     "metadata": {},
     "output_type": "execute_result"
    }
   ],
   "source": [
    "b = plr_df[plr_df.vit_a > 60 ]\n",
    "b.shape"
   ]
  },
  {
   "cell_type": "markdown",
   "metadata": {
    "slideshow": {
     "slide_type": "slide"
    }
   },
   "source": [
    "# All region"
   ]
  },
  {
   "cell_type": "code",
   "execution_count": 6,
   "metadata": {
    "collapsed": false,
    "slideshow": {
     "slide_type": "subslide"
    }
   },
   "outputs": [
    {
     "name": "stdout",
     "output_type": "stream",
     "text": [
      "HIGH VITA ALL REGION\n",
      "count    74.000000\n",
      "mean      0.362418\n",
      "std       0.077442\n",
      "min       0.250714\n",
      "25%       0.318339\n",
      "50%       0.339371\n",
      "75%       0.380056\n",
      "max       0.704899\n",
      "Name: svg_ca, dtype: float64\n"
     ]
    },
    {
     "data": {
      "text/plain": [
       "<matplotlib.axes._subplots.AxesSubplot at 0x116835e10>"
      ]
     },
     "execution_count": 6,
     "metadata": {},
     "output_type": "execute_result"
    },
    {
     "data": {
      "image/png": "[encoded data removed]",
      "text/plain": [
       "<matplotlib.figure.Figure at 0x116988128>"
      ]
     },
     "metadata": {},
     "output_type": "display_data"
    }
   ],
   "source": [
    "# HIGH VITA ALL REGION\n",
    "hvar_df = plr_df[(plr_df.vit_a > 60) & (plr_df.same_region == True)]\n",
    "\n",
    "# hvar_df = plr_df[(plr_df.vit_a > 60) & (plr_df.svg_ca > 0.5)]\n",
    "print(\"HIGH VITA ALL REGION\")\n",
    "print(hvar_df.svg_ca.describe())\n",
    "hvar_df.svg_ca.hist(bins=15)\n",
    "# a = hvar_df[[\"cattle_id\",\"cs_name\",\"timestamp\",\"svg_ca\"]]\n",
    "# a.sort(columns=[\"cattle_id\", \"timestamp\"])\n",
    "# # a[a.cattle_id==1445186816]\n",
    "# a"
   ]
  },
  {
   "cell_type": "code",
   "execution_count": 7,
   "metadata": {
    "collapsed": false
   },
   "outputs": [
    {
     "name": "stdout",
     "output_type": "stream",
     "text": [
      "upper limit = 0.4726315015130925\n",
      "lower limit = 0.22576321208668293\n",
      "HIGH VITA OUTLIER REMOVED\n",
      "count    68.000000\n",
      "mean      0.345608\n",
      "std       0.049717\n",
      "min       0.250714\n",
      "25%       0.314179\n",
      "50%       0.337109\n",
      "75%       0.369822\n",
      "max       0.461242\n",
      "Name: svg_ca, dtype: float64\n",
      "n = 68\n"
     ]
    },
    {
     "data": {
      "image/png": "[encoded data removed]",
      "text/plain": [
       "<matplotlib.figure.Figure at 0x116b5d358>"
      ]
     },
     "metadata": {},
     "output_type": "display_data"
    }
   ],
   "source": [
    "# HIGH VITA ALL REGION OUTLIER REMOVED\n",
    "hvar_up_lim, hvar_low_lim = calculate_iqr_limit(hvar_df.svg_ca)\n",
    "hvar_wo_df = hvar_df[(hvar_low_lim <= hvar_df.svg_ca) & (hvar_df.svg_ca <= hvar_up_lim)]\n",
    "print(\"HIGH VITA OUTLIER REMOVED\")\n",
    "print(hvar_wo_df.svg_ca.describe())\n",
    "hvar_wo_df.svg_ca.hist(bins=15)\n",
    "print(\"n = {}\".format(len(hvar_wo_df)))"
   ]
  },
  {
   "cell_type": "code",
   "execution_count": 8,
   "metadata": {
    "collapsed": false
   },
   "outputs": [
    {
     "data": {
      "text/plain": [
       "['WA02_2014_12_10_16_35_6',\n",
       " 'WA02_2014_12_12_17_4_59',\n",
       " 'WA02_2014_12_12_17_8_15',\n",
       " 'WA02_2014_12_16_16_59_31',\n",
       " 'WA02_2014_12_16_17_20_5',\n",
       " 'WA02_2014_12_19_0_8_59',\n",
       " 'WA02_2014_12_19_16_56_24',\n",
       " 'WA02_2015_6_14_7_46_46',\n",
       " 'WA02_2015_6_15_15_36_0',\n",
       " 'WA02_2015_6_16_9_37_57',\n",
       " 'WA02_2015_6_16_10_0_53',\n",
       " 'WA02_2015_6_16_10_55_10',\n",
       " 'WA02_2015_7_15_15_37_45',\n",
       " 'WA02_2015_7_25_6_27_6_677863',\n",
       " 'WA02_2015_7_25_17_20_5_355224']"
      ]
     },
     "execution_count": 8,
     "metadata": {},
     "output_type": "execute_result"
    }
   ],
   "source": [
    "normal_plr = hvar_df[(0.37 <= hvar_df.svg_ca) & (hvar_df.svg_ca <= 0.45)]\n",
    "list(normal_plr.cs_name.values)"
   ]
  },
  {
   "cell_type": "code",
   "execution_count": 9,
   "metadata": {
    "collapsed": false
   },
   "outputs": [
    {
     "name": "stdout",
     "output_type": "stream",
     "text": [
      "LOW VITA ALL REGION\n",
      "count    211.000000\n",
      "mean       0.322906\n",
      "std        0.101444\n",
      "min        0.002286\n",
      "25%        0.267100\n",
      "50%        0.325722\n",
      "75%        0.378649\n",
      "max        0.816815\n",
      "Name: svg_ca, dtype: float64\n"
     ]
    },
    {
     "data": {
      "text/plain": [
       "<matplotlib.axes._subplots.AxesSubplot at 0x116cfcf60>"
      ]
     },
     "execution_count": 9,
     "metadata": {},
     "output_type": "execute_result"
    },
    {
     "data": {
      "image/png": "[encoded data removed]",
      "text/plain": [
       "<matplotlib.figure.Figure at 0x116bdf908>"
      ]
     },
     "metadata": {},
     "output_type": "display_data"
    }
   ],
   "source": [
    "# LOW VITA ALL REGION\n",
    "lvar_df = plr_df[(plr_df.vit_a < 30) & (plr_df.same_region == True)]\n",
    "\n",
    "# lvar_df = plr_df[(plr_df.vit_a < 30) & (plr_df.svg_ca < 0.3)]\n",
    "print(\"LOW VITA ALL REGION\")\n",
    "print(lvar_df.svg_ca.describe())\n",
    "lvar_df.svg_ca.hist()\n",
    "\n",
    "# a = lvar_df[[\"cattle_id\",\"cs_name\",\"timestamp\",\"svg_ca\"]]\n",
    "# a.sort(columns=[\"cattle_id\", \"timestamp\"])\n",
    "# # a[a.cattle_id==1445186816]\n",
    "# a\n",
    "# from pymongo import MongoClient\n",
    "# client = MongoClient()\n",
    "# db = client['livestockwatch']\n",
    "# collection = db['cs1secfirstframe']\n",
    "# for cs_name in a.cs_name:\n",
    "#     garbage = collection.delete_one({\"cs_name\": cs_name})\n",
    "#     print(garbage)"
   ]
  },
  {
   "cell_type": "code",
   "execution_count": 10,
   "metadata": {
    "collapsed": false
   },
   "outputs": [
    {
     "data": {
      "text/plain": [
       "['WA02_2015_7_23_18_33_34_77300',\n",
       " 'WA02_2015_9_29_23_2_43_853979',\n",
       " 'WA02_2015_10_30_16_53_32_497555',\n",
       " 'WA02_2015_10_30_17_5_26_510297',\n",
       " 'WA02_2015_11_1_15_0_18_655803',\n",
       " 'WA02_2015_11_2_16_2_4_221244',\n",
       " 'WA02_2015_11_3_7_19_1_386689',\n",
       " 'WA02_2015_11_3_7_22_15_27555',\n",
       " 'WA02_2015_11_24_9_45_39_142290',\n",
       " 'WA02_2015_11_25_15_58_25_904009',\n",
       " 'WA02_2015_11_28_7_34_9_610990',\n",
       " 'WA02_2015_11_28_16_26_30_445963',\n",
       " 'WA02_2015_11_29_15_22_43_101295',\n",
       " 'WA02_2015_12_3_16_32_43_885142',\n",
       " 'WA02_2015_12_6_7_21_16_45104']"
      ]
     },
     "execution_count": 10,
     "metadata": {},
     "output_type": "execute_result"
    },
    {
     "data": {
      "image/png": "[encoded data removed]",
      "text/plain": [
       "<matplotlib.figure.Figure at 0x116e96be0>"
      ]
     },
     "metadata": {},
     "output_type": "display_data"
    }
   ],
   "source": [
    "# lvar_outlier_df = get_outlier(lvar_df, \"svg_ca\")\n",
    "# lvar_outlier_df[[\"cs_name\",\"svg_ca\"]]\n",
    "# lvar_outlier_df[\"svg_ca\"].hist()\n",
    "# list(lvar_outlier_df.cs_name[lvar_outlier_df.svg_ca > 0.4].values)\n",
    "\n",
    "lst_weak_plr = lvar_df[(0.05 <= lvar_df.svg_ca) & (lvar_df.svg_ca <= 0.2)]\n",
    "\n",
    "lst_weak_plr.svg_ca.hist()\n",
    "list(lst_weak_plr.cs_name.values)"
   ]
  },
  {
   "cell_type": "code",
   "execution_count": 11,
   "metadata": {
    "collapsed": false
   },
   "outputs": [
    {
     "name": "stdout",
     "output_type": "stream",
     "text": [
      "upper limit = 0.5459716234492676\n",
      "lower limit = 0.0997769853476479\n",
      "LOW VITA ALL REGION OUTLIER REMOVED\n",
      "count    205.000000\n",
      "mean       0.321324\n",
      "std        0.082520\n",
      "min        0.104471\n",
      "25%        0.270632\n",
      "50%        0.325722\n",
      "75%        0.373140\n",
      "max        0.536388\n",
      "Name: svg_ca, dtype: float64\n",
      "n = 205\n"
     ]
    },
    {
     "data": {
      "image/png": "[encoded data removed]",
      "text/plain": [
       "<matplotlib.figure.Figure at 0x11722d320>"
      ]
     },
     "metadata": {},
     "output_type": "display_data"
    }
   ],
   "source": [
    "# LOW VITA ALL REGION OUTLIER REMOVED\n",
    "lvar_up_lim, lvar_low_lim = calculate_iqr_limit(lvar_df.svg_ca)\n",
    "lvar_wo_df = lvar_df[(lvar_low_lim <= lvar_df.svg_ca) & (lvar_df.svg_ca <= lvar_up_lim)]\n",
    "print(\"LOW VITA ALL REGION OUTLIER REMOVED\")\n",
    "print(lvar_wo_df.svg_ca.describe())\n",
    "lvar_wo_df.svg_ca.hist(bins=15)\n",
    "print(\"n = {}\".format(len(lvar_wo_df)))"
   ]
  },
  {
   "cell_type": "code",
   "execution_count": 12,
   "metadata": {
    "collapsed": false
   },
   "outputs": [
    {
     "name": "stdout",
     "output_type": "stream",
     "text": [
      "68\n",
      "count    68.000000\n",
      "mean      0.345608\n",
      "std       0.049717\n",
      "min       0.250714\n",
      "25%       0.314179\n",
      "50%       0.337109\n",
      "75%       0.369822\n",
      "max       0.461242\n",
      "Name: svg_ca, dtype: float64\n"
     ]
    },
    {
     "data": {
      "text/plain": [
       "<matplotlib.axes._subplots.AxesSubplot at 0x11725d908>"
      ]
     },
     "execution_count": 12,
     "metadata": {},
     "output_type": "execute_result"
    },
    {
     "data": {
      "image/png": "[encoded data removed]",
      "text/plain": [
       "<matplotlib.figure.Figure at 0x116988080>"
      ]
     },
     "metadata": {},
     "output_type": "display_data"
    }
   ],
   "source": [
    "ca_high_RA = hvar_wo_df.svg_ca\n",
    "print(ca_high_RA.shape[0])\n",
    "print(ca_high_RA.describe())\n",
    "ca_high_RA.hist()"
   ]
  },
  {
   "cell_type": "code",
   "execution_count": 13,
   "metadata": {
    "collapsed": false
   },
   "outputs": [
    {
     "name": "stdout",
     "output_type": "stream",
     "text": [
      "205\n",
      "count    205.000000\n",
      "mean       0.321324\n",
      "std        0.082520\n",
      "min        0.104471\n",
      "25%        0.270632\n",
      "50%        0.325722\n",
      "75%        0.373140\n",
      "max        0.536388\n",
      "Name: svg_ca, dtype: float64\n"
     ]
    },
    {
     "data": {
      "image/png": "[encoded data removed]",
      "text/plain": [
       "<matplotlib.figure.Figure at 0x11749acc0>"
      ]
     },
     "metadata": {},
     "output_type": "display_data"
    }
   ],
   "source": [
    "ca_low_RA_s = lvar_wo_df.svg_ca.sample(n=ca_high_RA.shape[0])\n",
    "ca_low_RA = lvar_wo_df.svg_ca\n",
    "ca_low_RA.hist()\n",
    "print(ca_low_RA.shape[0])\n",
    "print(ca_low_RA.describe())\n",
    "# print(ca_low_RA)"
   ]
  },
  {
   "cell_type": "markdown",
   "metadata": {},
   "source": [
    "## T-test dependent"
   ]
  },
  {
   "cell_type": "code",
   "execution_count": 14,
   "metadata": {
    "collapsed": false
   },
   "outputs": [
    {
     "name": "stdout",
     "output_type": "stream",
     "text": [
      "PVALUE = 0.027850306697409167 (P-Critical = 0.050000000000000044)\n",
      "Tstatistics = 1.9472259870439579\n",
      "CA High all region is significantly different than CA low all region\n",
      "CA High all region > CA low all region\n"
     ]
    }
   ],
   "source": [
    "ttest_onesided((\"CA High all region\",ca_high_RA), (\"CA low all region\",ca_low_RA_s), 95, ttest_variant=\"student\")"
   ]
  },
  {
   "cell_type": "markdown",
   "metadata": {},
   "source": [
    "## Welch’s t-test, independent variable, 95 % confidence interval"
   ]
  },
  {
   "cell_type": "code",
   "execution_count": 15,
   "metadata": {
    "collapsed": false
   },
   "outputs": [
    {
     "name": "stdout",
     "output_type": "stream",
     "text": [
      "PVALUE = 0.0003338812618720894 (P-Critical = 0.050000000000000044)\n",
      "Tstatistics = 3.4679065419108466\n",
      "CA High all region is significantly different than CA low all region\n",
      "CA High all region > CA low all region\n"
     ]
    }
   ],
   "source": [
    "ttest_onesided((\"CA High all region\",hvar_df.svg_ca), (\"CA low all region\",lvar_df.svg_ca), 95, ttest_variant=\"welch\")"
   ]
  },
  {
   "cell_type": "code",
   "execution_count": 16,
   "metadata": {
    "collapsed": false
   },
   "outputs": [
    {
     "data": {
      "text/html": [
       "\n",
       "\n",
       "    <div class=\"plotdiv\" id=\"9f6b039a-b954-4ea9-9bff-8cc385a1c62c\"></div>\n",
       "<script type=\"text/javascript\">\n",
       "  \n",
       "  (function(global) {\n",
       "    function now() {\n",
       "      return new Date();\n",
       "    }\n",
       "  \n",
       "    if (typeof (window._bokeh_onload_callbacks) === \"undefined\") {\n",
       "      window._bokeh_onload_callbacks = [];\n",
       "    }\n",
       "  \n",
       "    function run_callbacks() {\n",
       "      window._bokeh_onload_callbacks.forEach(function(callback) { callback() });\n",
       "      delete window._bokeh_onload_callbacks\n",
       "      console.info(\"Bokeh: all callbacks have finished\");\n",
       "    }\n",
       "  \n",
       "    function load_libs(js_urls, callback) {\n",
       "      window._bokeh_onload_callbacks.push(callback);\n",
       "      if (window._bokeh_is_loading > 0) {\n",
       "        console.log(\"Bokeh: BokehJS is being loaded, scheduling callback at\", now());\n",
       "        return null;\n",
       "      }\n",
       "      if (js_urls == null || js_urls.length === 0) {\n",
       "        run_callbacks();\n",
       "        return null;\n",
       "      }\n",
       "      console.log(\"Bokeh: BokehJS not loaded, scheduling load and callback at\", now());\n",
       "      window._bokeh_is_loading = js_urls.length;\n",
       "      for (var i = 0; i < js_urls.length; i++) {\n",
       "        var url = js_urls[i];\n",
       "        var s = document.createElement('script');\n",
       "        s.src = url;\n",
       "        s.async = false;\n",
       "        s.onreadystatechange = s.onload = function() {\n",
       "          window._bokeh_is_loading--;\n",
       "          if (window._bokeh_is_loading === 0) {\n",
       "            console.log(\"Bokeh: all BokehJS libraries loaded\");\n",
       "            run_callbacks()\n",
       "          }\n",
       "        };\n",
       "        s.onerror = function() {\n",
       "          console.warn(\"failed to load library \" + url);\n",
       "        };\n",
       "        console.log(\"Bokeh: injecting script tag for BokehJS library: \", url);\n",
       "        document.getElementsByTagName(\"head\")[0].appendChild(s);\n",
       "      }\n",
       "    };var element = document.getElementById(\"9f6b039a-b954-4ea9-9bff-8cc385a1c62c\");\n",
       "    if (element == null) {\n",
       "      console.log(\"Bokeh: ERROR: autoload.js configured with elementid '9f6b039a-b954-4ea9-9bff-8cc385a1c62c' but no matching script tag was found. \")\n",
       "      return false;\n",
       "    }\n",
       "  \n",
       "    var js_urls = [];\n",
       "  \n",
       "    var inline_js = [\n",
       "      function(Bokeh) {\n",
       "        Bokeh.$(function() {\n",
       "            var docs_json = {\"ba0c0499-e809-45b6-bead-299a3d1c47a1\":{\"roots\":{\"references\":[{\"attributes\":{},\"id\":\"ebd22c99-ae50-45d4-9eac-5b7a0effafc0\",\"type\":\"ToolEvents\"},{\"attributes\":{\"data_source\":{\"id\":\"ea0d83f1-cc83-43cf-ab5b-57ff56343a64\",\"type\":\"ColumnDataSource\"},\"glyph\":{\"id\":\"57c17793-881a-4399-b005-d90bb496486c\",\"type\":\"Circle\"},\"hover_glyph\":null,\"nonselection_glyph\":{\"id\":\"5c881ff3-4d25-4de2-a5ea-e0f6ec06b98f\",\"type\":\"Circle\"},\"selection_glyph\":null},\"id\":\"6cff0ee5-6e4d-4ce3-bfda-575d7f204b55\",\"type\":\"GlyphRenderer\"},{\"attributes\":{},\"id\":\"d8a1766f-1930-4f8b-aaed-5e380aca355e\",\"type\":\"BasicTicker\"},{\"attributes\":{},\"id\":\"19ed4823-3cd5-4924-a465-629b816bcc90\",\"type\":\"BasicTicker\"},{\"attributes\":{\"callback\":null},\"id\":\"c9bac3a5-6628-4d2e-9bb3-315457e3426b\",\"type\":\"DataRange1d\"},{\"attributes\":{\"plot\":{\"id\":\"1416677a-0921-4815-b170-0a969b5637ed\",\"subtype\":\"Figure\",\"type\":\"Plot\"}},\"id\":\"08ba56ba-cf94-4bcc-93de-f0996f243283\",\"type\":\"WheelZoomTool\"},{\"attributes\":{\"bottom_units\":\"screen\",\"fill_alpha\":{\"value\":0.5},\"fill_color\":{\"value\":\"lightgrey\"},\"left_units\":\"screen\",\"level\":\"overlay\",\"line_alpha\":{\"value\":1.0},\"line_color\":{\"value\":\"black\"},\"line_dash\":[4,4],\"line_width\":{\"value\":2},\"plot\":null,\"render_mode\":\"css\",\"right_units\":\"screen\",\"top_units\":\"screen\"},\"id\":\"1497a082-7b1a-4ff7-86f5-4f8ee2075f38\",\"type\":\"BoxAnnotation\"},{\"attributes\":{\"below\":[{\"id\":\"7e861e47-1d09-4138-ae86-f1f5b098d41d\",\"type\":\"LinearAxis\"}],\"left\":[{\"id\":\"8d4a1355-cc6b-4a0c-a3f0-b993c456eb94\",\"type\":\"LinearAxis\"}],\"plot_height\":500,\"plot_width\":800,\"renderers\":[{\"id\":\"7e861e47-1d09-4138-ae86-f1f5b098d41d\",\"type\":\"LinearAxis\"},{\"id\":\"b15885fe-93d7-404a-bc3e-ba7be0a78fa9\",\"type\":\"Grid\"},{\"id\":\"8d4a1355-cc6b-4a0c-a3f0-b993c456eb94\",\"type\":\"LinearAxis\"},{\"id\":\"0e380e55-3eaa-478a-b3c1-4c8d09dfa7b9\",\"type\":\"Grid\"},{\"id\":\"1497a082-7b1a-4ff7-86f5-4f8ee2075f38\",\"type\":\"BoxAnnotation\"},{\"id\":\"962fd7ef-42f5-4b5c-8eae-e9ee861fa7eb\",\"type\":\"Legend\"},{\"id\":\"6cff0ee5-6e4d-4ce3-bfda-575d7f204b55\",\"type\":\"GlyphRenderer\"},{\"id\":\"23cc1338-4571-4c61-88c3-c4c63c923358\",\"type\":\"GlyphRenderer\"}],\"tool_events\":{\"id\":\"ebd22c99-ae50-45d4-9eac-5b7a0effafc0\",\"type\":\"ToolEvents\"},\"tools\":[{\"id\":\"fd11ae69-dbb5-4566-9591-8eb6468c2a48\",\"type\":\"PanTool\"},{\"id\":\"08ba56ba-cf94-4bcc-93de-f0996f243283\",\"type\":\"WheelZoomTool\"},{\"id\":\"19f97e8f-5875-46bb-8129-b52ed6cfa0cc\",\"type\":\"BoxZoomTool\"},{\"id\":\"e3bde7b8-cbfa-497e-8bdb-72d743e13a6d\",\"type\":\"PreviewSaveTool\"},{\"id\":\"111b18f0-59a2-4dd8-93d9-6be9b32439a9\",\"type\":\"ResizeTool\"},{\"id\":\"efb585d2-d42e-4fc0-aeaa-c41b14e9117f\",\"type\":\"ResetTool\"},{\"id\":\"02f591f6-ea3c-474c-8869-83aa838f4401\",\"type\":\"HelpTool\"}],\"x_range\":{\"id\":\"7b5ce35f-911a-4492-85a8-ca5f784c1d17\",\"type\":\"DataRange1d\"},\"y_range\":{\"id\":\"c9bac3a5-6628-4d2e-9bb3-315457e3426b\",\"type\":\"DataRange1d\"}},\"id\":\"1416677a-0921-4815-b170-0a969b5637ed\",\"subtype\":\"Figure\",\"type\":\"Plot\"},{\"attributes\":{\"overlay\":{\"id\":\"1497a082-7b1a-4ff7-86f5-4f8ee2075f38\",\"type\":\"BoxAnnotation\"},\"plot\":{\"id\":\"1416677a-0921-4815-b170-0a969b5637ed\",\"subtype\":\"Figure\",\"type\":\"Plot\"}},\"id\":\"19f97e8f-5875-46bb-8129-b52ed6cfa0cc\",\"type\":\"BoxZoomTool\"},{\"attributes\":{\"plot\":{\"id\":\"1416677a-0921-4815-b170-0a969b5637ed\",\"subtype\":\"Figure\",\"type\":\"Plot\"}},\"id\":\"fd11ae69-dbb5-4566-9591-8eb6468c2a48\",\"type\":\"PanTool\"},{\"attributes\":{\"plot\":{\"id\":\"1416677a-0921-4815-b170-0a969b5637ed\",\"subtype\":\"Figure\",\"type\":\"Plot\"}},\"id\":\"111b18f0-59a2-4dd8-93d9-6be9b32439a9\",\"type\":\"ResizeTool\"},{\"attributes\":{},\"id\":\"44ab1aca-6ae0-44cb-b35c-aedbb5cee7ef\",\"type\":\"BasicTickFormatter\"},{\"attributes\":{\"data_source\":{\"id\":\"8da38ac4-2eb3-4b4c-929b-946911a705ad\",\"type\":\"ColumnDataSource\"},\"glyph\":{\"id\":\"79837900-0e56-4b7d-aaf9-949596af18b8\",\"type\":\"Triangle\"},\"hover_glyph\":null,\"nonselection_glyph\":{\"id\":\"9b750892-aba3-4811-beda-f39e7590444a\",\"type\":\"Triangle\"},\"selection_glyph\":null},\"id\":\"23cc1338-4571-4c61-88c3-c4c63c923358\",\"type\":\"GlyphRenderer\"},{\"attributes\":{\"axis_label\":\"CA\",\"formatter\":{\"id\":\"44ab1aca-6ae0-44cb-b35c-aedbb5cee7ef\",\"type\":\"BasicTickFormatter\"},\"plot\":{\"id\":\"1416677a-0921-4815-b170-0a969b5637ed\",\"subtype\":\"Figure\",\"type\":\"Plot\"},\"ticker\":{\"id\":\"d8a1766f-1930-4f8b-aaed-5e380aca355e\",\"type\":\"BasicTicker\"}},\"id\":\"8d4a1355-cc6b-4a0c-a3f0-b993c456eb94\",\"type\":\"LinearAxis\"},{\"attributes\":{\"dimension\":1,\"plot\":{\"id\":\"1416677a-0921-4815-b170-0a969b5637ed\",\"subtype\":\"Figure\",\"type\":\"Plot\"},\"ticker\":{\"id\":\"d8a1766f-1930-4f8b-aaed-5e380aca355e\",\"type\":\"BasicTicker\"}},\"id\":\"0e380e55-3eaa-478a-b3c1-4c8d09dfa7b9\",\"type\":\"Grid\"},{\"attributes\":{\"callback\":null,\"column_names\":[\"x\",\"y\"],\"data\":{\"x\":[29.88095238095238,29.88095238095238,29.88095238095238,28.80952380952381,28.27380952380952,25.59523809523809,25.59523809523809,25.05952380952381,25.05952380952381,24.52380952380952,24.52380952380952,23.45238095238095,23.45238095238095,23.45238095238095,22.88690476190476,22.88690476190476,22.88690476190476,22.70833333333333,22.67857142857143,22.67857142857143,22.67857142857143,22.61904761904762,22.5,22.47023809523809,22.29166666666667,22.29166666666667,22.23214285714286,22.20238095238095,29.58333333333334,23.33333333333334,29.58333333333334,23.95833333333334,23.95833333333334,25.20833333333333,25.20833333333333,25.20833333333333,29.58333333333334,29.58333333333334,25.83333333333333,25.83333333333333,26.04166666666666,29.58333333333334,26.04166666666666,26.25,26.25,26.45833333333333,26.45833333333333,26.66666666666666,26.66666666666666,15.44642857142857,26.875,26.875,26.875,26.875,26.875,26.875,27.08333333333333,27.08333333333333,27.08333333333333,27.5,27.5,27.5,27.70833333333333,29.58333333333334,27.79761904761904,27.67857142857143,27.67857142857143,27.67857142857143,27.67857142857143,27.55952380952381,27.55952380952381,27.32142857142857,29.88095238095238,27.20238095238095,27.20238095238095,27.08333333333333,24.88095238095238,24.88095238095238,23.58630952380952,26.72619047619048,23.58630952380952,23.80952380952381,23.80952380952381,27.02380952380953,24.03273809523809,27.32142857142857,27.32142857142857,24.03273809523809,27.32142857142857,24.25595238095238,27.61904761904762,24.47916666666666,24.47916666666666,24.70238095238095,28.21428571428572,24.70238095238095,24.70238095238095,24.92559523809524,28.51190476190476,25.14880952380952,25.14880952380952,25.14880952380952,29.10714285714286,26.71130952380952,26.71130952380952,26.71130952380952,26.71130952380952,26.71130952380952,26.93452380952381,26.93452380952381,27.15773809523809,27.38095238095238,27.82738095238095,28.05059523809524,29.34523809523809,28.15476190476191,28.30357142857143,29.10714285714286,29.10714285714286,28.98809523809524,28.98809523809524,28.98809523809524,28.45238095238095,28.86904761904762,28.86904761904762,28.86904761904762,28.60119047619047,28.60119047619047,28.86904761904762,28.86904761904762,28.75,28.75,28.75,28.75,28.75,28.75,28.86904761904762,28.86904761904762,28.77976190476191,28.77976190476191,28.86904761904762,28.86904761904762,28.86904761904762,29.30059523809524,28.77976190476191,28.77976190476191,29.30059523809524,28.80952380952381,28.80952380952381,28.80952380952381,28.98809523809524,28.98809523809524,28.80952380952381,29.56845238095238,29.10714285714286,28.83928571428572,29.10714285714286,29.10714285714286,29.22619047619048,28.86904761904762,28.86904761904762,29.22619047619048,29.22619047619048,28.89880952380953,29.34523809523809,29.34523809523809,28.89880952380953,29.83630952380952,29.34523809523809,28.92857142857143,28.92857142857143,29.46428571428572,29.46428571428572,29.46428571428572,29.58333333333334,29.58333333333334,28.95833333333334,28.95833333333334,29.58333333333334,29.58333333333334,28.98809523809524,28.98809523809524,28.98809523809524,29.70238095238095,29.82142857142857,29.01785714285714,29.01785714285714,29.82142857142857,29.01785714285714,29.01785714285714,29.82142857142857,29.82142857142857,29.82142857142857,29.94047619047619,29.04761904761905,29.04761904761905,29.94047619047619,29.94047619047619,29.07738095238095,29.10714285714286,29.10714285714286,29.10714285714286,29.10714285714286,29.10714285714286,29.22619047619048],\"y\":[0.4189448030331896,0.2124009138248547,0.4190723556277222,0.3348272814948953,0.3501018806266036,0.2816169111897081,0.2706320904981364,0.425040531147086,0.3520127083338613,0.4717255366264752,0.3543193010484597,0.2904154894924946,0.336525837441418,0.3951772642293246,0.4141428161371665,0.4901210427199512,0.4200906815428109,0.3414629262761433,0.3795559239996728,0.2559755198988275,0.3994875101963719,0.3969101756574854,0.3919790519270604,0.4877745870412767,0.454169734841037,0.4614372589339699,0.3318445734637635,0.4111934763048591,0.3565140951387116,0.3487703951619125,0.4193865011374405,0.4372466569375159,0.3777746329502422,0.5128458511168372,0.3975651962804964,0.3690200472533029,0.314487641674651,0.2826070374177588,0.3721080107987222,0.3551425831263775,0.2754912334792629,0.2924135528469131,0.2301667684193456,0.3661456952239923,0.3029851153454726,0.2597413810535374,0.3795226353720783,0.3467864325856316,0.4404084833277693,0.3683340244447165,0.2369359588396665,0.4229888414090732,0.2946826636373735,0.3613664653807865,0.3130652069719094,0.3030915538420517,0.3802784951219316,0.3867872134280813,0.4100604214465568,0.3087770622738953,0.2901540810257917,0.3644713259308703,0.3542854720068684,0.1441851636052108,0.3655114229013942,0.3087593681419521,0.3616316617796652,0.3365151960976487,0.3515319368042601,0.3057588126851068,0.295441042319036,0.2905529698972688,0.3382341900492329,0.3194782220797051,0.2720820326216095,0.2617803986304915,0.2424921667031847,0.32490715674384,0.1842240403505555,0.1601347093865488,0.2285492573483522,0.301562376417764,0.4286181297343203,0.3116669061152671,0.1769361263108277,0.3169767878108649,0.3979940904133879,0.2065390597027461,0.4826537199959165,0.326278348048116,0.1860927165449493,0.1720437229619474,0.1044714472984177,0.2972559471750426,0.224581064680338,0.3901259763942979,0.2782098331157732,0.2550180739947909,0.4824038657266416,0.263704851895509,0.403531452480968,0.2520347727970638,0.3141342157211839,0.3479661733491681,0.327246195886452,0.3234484872515843,0.2237673373217689,0.3731401781307208,0.282281606479862,0.2561698517584562,0.2582553437977706,0.3520327062799213,0.2034985657524191,0.2199704975065398,0.4899056680344496,0.3923133140506722,0.3860930373136755,0.4241303674622111,0.2439782438100451,0.2361727825855251,0.3254700977665073,0.4016060157681673,0.536388291775809,0.4477796090930194,0.2013213974137148,0.3375543263157536,0.270660962422229,0.2006623533221634,0.2438724861964444,0.325722208143998,0.3860812405664273,0.1635886958126573,0.2607794842547577,0.3263092027196672,0.2298074001538091,0.4398497280261273,0.2733349622038223,0.3447762346176463,0.3012908472883821,0.2440818373106637,0.3716217044863652,0.3311488938105473,0.3559519875358484,0.2464948911302431,0.3120882654064934,0.2935233106923162,0.1054837350201289,0.3349437766288754,0.275185046929496,0.3091736521623654,0.3369170332843275,0.3876614726140677,0.3338820326244261,0.2105211678095394,0.3727980647621061,0.2943863604345351,0.4098605878653614,0.3379036779356689,0.1934537974729806,0.326447542087878,0.3386840078884946,0.1152241151573564,0.4055812317337194,0.3108972684119001,0.2568962744555248,0.3559459320736276,0.403150075256394,0.2280131653177043,0.1621907008991478,0.3290036658985722,0.2704950973760016,0.2146454234853774,0.3557194332615584,0.3223466917078517,0.4093472338594131,0.270666746107179,0.3153704686454662,0.2766808384700851,0.3666053905750512,0.40898984245496,0.284638009867792,0.3073651087754331,0.3357997791579218,0.2465995060293359,0.2382861425806056,0.3480341273298507,0.3368379130069189,0.2529020994926972,0.2712224002716596,0.2881480532385102,0.4662084019460108,0.321986287677684,0.1993099156532921,0.2978915746590164,0.3865308790766878,0.2214624851724167,0.3003497410077625,0.3273860617253105,0.3606476838154311,0.4993466941699544,0.3041397882428917,0.1256199114055849,0.2100988363299605,0.351447691964605,0.2860292636288574]}},\"id\":\"ea0d83f1-cc83-43cf-ab5b-57ff56343a64\",\"type\":\"ColumnDataSource\"},{\"attributes\":{\"plot\":{\"id\":\"1416677a-0921-4815-b170-0a969b5637ed\",\"subtype\":\"Figure\",\"type\":\"Plot\"}},\"id\":\"02f591f6-ea3c-474c-8869-83aa838f4401\",\"type\":\"HelpTool\"},{\"attributes\":{},\"id\":\"1777c5a4-5b0c-4a92-9b0b-389d3e8fc92b\",\"type\":\"BasicTickFormatter\"},{\"attributes\":{\"plot\":{\"id\":\"1416677a-0921-4815-b170-0a969b5637ed\",\"subtype\":\"Figure\",\"type\":\"Plot\"},\"ticker\":{\"id\":\"19ed4823-3cd5-4924-a465-629b816bcc90\",\"type\":\"BasicTicker\"}},\"id\":\"b15885fe-93d7-404a-bc3e-ba7be0a78fa9\",\"type\":\"Grid\"},{\"attributes\":{\"fill_alpha\":{\"value\":0.5},\"fill_color\":{\"value\":\"blue\"},\"line_alpha\":{\"value\":0.5},\"line_color\":{\"value\":\"blue\"},\"size\":{\"units\":\"screen\",\"value\":10},\"x\":{\"field\":\"x\"},\"y\":{\"field\":\"y\"}},\"id\":\"79837900-0e56-4b7d-aaf9-949596af18b8\",\"type\":\"Triangle\"},{\"attributes\":{\"fill_alpha\":{\"value\":0.1},\"fill_color\":{\"value\":\"#1f77b4\"},\"line_alpha\":{\"value\":0.1},\"line_color\":{\"value\":\"#1f77b4\"},\"size\":{\"units\":\"screen\",\"value\":10},\"x\":{\"field\":\"x\"},\"y\":{\"field\":\"y\"}},\"id\":\"5c881ff3-4d25-4de2-a5ea-e0f6ec06b98f\",\"type\":\"Circle\"},{\"attributes\":{\"callback\":null},\"id\":\"7b5ce35f-911a-4492-85a8-ca5f784c1d17\",\"type\":\"DataRange1d\"},{\"attributes\":{\"fill_alpha\":{\"value\":0.1},\"fill_color\":{\"value\":\"#1f77b4\"},\"line_alpha\":{\"value\":0.1},\"line_color\":{\"value\":\"#1f77b4\"},\"size\":{\"units\":\"screen\",\"value\":10},\"x\":{\"field\":\"x\"},\"y\":{\"field\":\"y\"}},\"id\":\"9b750892-aba3-4811-beda-f39e7590444a\",\"type\":\"Triangle\"},{\"attributes\":{\"fill_alpha\":{\"value\":0.5},\"fill_color\":{\"value\":\"red\"},\"line_alpha\":{\"value\":0.5},\"line_color\":{\"value\":\"red\"},\"size\":{\"units\":\"screen\",\"value\":10},\"x\":{\"field\":\"x\"},\"y\":{\"field\":\"y\"}},\"id\":\"57c17793-881a-4399-b005-d90bb496486c\",\"type\":\"Circle\"},{\"attributes\":{\"callback\":null,\"column_names\":[\"x\",\"y\"],\"data\":{\"x\":[117.08,86.25,86.25,86.25,71.67,86.25,86.25,109.58,71.67,108.33,108.33,108.33,109.58,102.5,109.58,86.25,86.25,109.58,86.25,102.5,102.5,108.33,109.58,74.16666666666667,86.25,86.25,86.25,86.25,86.25,74.16666666666667,71.67,109.58,116.3225252525253,106.5750505050505,108.330101010101,108.330101010101,85.46717171717172,85.46717171717172,101.3005050505051,101.3005050505051,106.5750505050505,84.68434343434343,115.5650505050505,70.96272727272728,84.68434343434343,107.080202020202,84.68434343434343,63.00595238095238,62.88690476190476,80.77380952380952,80.47619047619047,80.17857142857142,80.17857142857142,79.88095238095238,79.88095238095238,79.58333333333333,60.52083333333334,79.58333333333333,73.63095238095238,69.6875,69.6875,68.22916666666666,67.5,65.3125,63.85416666666666,60.20833333333334,60.20833333333334,60.20833333333334],\"y\":[0.4104464496458387,0.3564557047164674,0.461241805126359,0.3262451833863849,0.2532956323870044,0.2908888735571423,0.4022609524036949,0.2577526234234453,0.3799173018658624,0.3376886055617489,0.2981512001817276,0.2908543270440389,0.3060989996426326,0.3300892361187866,0.2811609526325797,0.333519630463007,0.3376305461124672,0.3214685063879945,0.3390401629470734,0.3522492159445569,0.3729523853014627,0.3307812716260536,0.2672391369796288,0.3178638237464286,0.3557928494466752,0.4267406091157071,0.2921085338672017,0.3497706554088534,0.3680877480879302,0.250713635691198,0.3555073646207532,0.369469197655683,0.3999957774663252,0.308351226039754,0.3081966934605037,0.3583101550069545,0.3197638112470605,0.3397011957558354,0.3634832317339241,0.3708797225371846,0.366570473492536,0.301090052495846,0.3161218274714806,0.3669139153261653,0.2969795342366031,0.2786682782380395,0.3660520116275653,0.3266178520359914,0.3311537038878905,0.3365882806886318,0.330321118042511,0.4283898600379114,0.3339462627244765,0.4439480201269879,0.3041822685820748,0.3801020900156311,0.3763069283893177,0.4203788495491678,0.348939139196691,0.327062619487717,0.2955790540524953,0.3257736850433601,0.4328869828000862,0.3355368106434369,0.4525519692758976,0.3207413683873984,0.4458011443188989,0.4199584476803115]}},\"id\":\"8da38ac4-2eb3-4b4c-929b-946911a705ad\",\"type\":\"ColumnDataSource\"},{\"attributes\":{\"legends\":[[\"Low vitamin A < 30\",[{\"id\":\"6cff0ee5-6e4d-4ce3-bfda-575d7f204b55\",\"type\":\"GlyphRenderer\"}]],[\"High vitamin A > 60\",[{\"id\":\"23cc1338-4571-4c61-88c3-c4c63c923358\",\"type\":\"GlyphRenderer\"}]]],\"plot\":{\"id\":\"1416677a-0921-4815-b170-0a969b5637ed\",\"subtype\":\"Figure\",\"type\":\"Plot\"}},\"id\":\"962fd7ef-42f5-4b5c-8eae-e9ee861fa7eb\",\"type\":\"Legend\"},{\"attributes\":{\"axis_label\":\"Vit A (IU/DL)\",\"formatter\":{\"id\":\"1777c5a4-5b0c-4a92-9b0b-389d3e8fc92b\",\"type\":\"BasicTickFormatter\"},\"plot\":{\"id\":\"1416677a-0921-4815-b170-0a969b5637ed\",\"subtype\":\"Figure\",\"type\":\"Plot\"},\"ticker\":{\"id\":\"19ed4823-3cd5-4924-a465-629b816bcc90\",\"type\":\"BasicTicker\"}},\"id\":\"7e861e47-1d09-4138-ae86-f1f5b098d41d\",\"type\":\"LinearAxis\"},{\"attributes\":{\"plot\":{\"id\":\"1416677a-0921-4815-b170-0a969b5637ed\",\"subtype\":\"Figure\",\"type\":\"Plot\"}},\"id\":\"efb585d2-d42e-4fc0-aeaa-c41b14e9117f\",\"type\":\"ResetTool\"},{\"attributes\":{\"plot\":{\"id\":\"1416677a-0921-4815-b170-0a969b5637ed\",\"subtype\":\"Figure\",\"type\":\"Plot\"}},\"id\":\"e3bde7b8-cbfa-497e-8bdb-72d743e13a6d\",\"type\":\"PreviewSaveTool\"}],\"root_ids\":[\"1416677a-0921-4815-b170-0a969b5637ed\"]},\"title\":\"Bokeh Application\",\"version\":\"0.11.1\"}};\n",
       "            var render_items = [{\"docid\":\"ba0c0499-e809-45b6-bead-299a3d1c47a1\",\"elementid\":\"9f6b039a-b954-4ea9-9bff-8cc385a1c62c\",\"modelid\":\"1416677a-0921-4815-b170-0a969b5637ed\",\"notebook_comms_target\":\"359307f4-90af-4221-96b7-88678f36752f\"}];\n",
       "            \n",
       "            Bokeh.embed.embed_items(docs_json, render_items);\n",
       "        });\n",
       "      },\n",
       "      function(Bokeh) {\n",
       "      }\n",
       "    ];\n",
       "  \n",
       "    function run_inline_js() {\n",
       "      for (var i = 0; i < inline_js.length; i++) {\n",
       "        inline_js[i](window.Bokeh);\n",
       "      }\n",
       "    }\n",
       "  \n",
       "    if (window._bokeh_is_loading === 0) {\n",
       "      console.log(\"Bokeh: BokehJS loaded, going straight to plotting\");\n",
       "      run_inline_js();\n",
       "    } else {\n",
       "      load_libs(js_urls, function() {\n",
       "        console.log(\"Bokeh: BokehJS plotting callback run at\", now());\n",
       "        run_inline_js();\n",
       "      });\n",
       "    }\n",
       "  }(this));\n",
       "</script>"
      ]
     },
     "metadata": {},
     "output_type": "display_data"
    },
    {
     "data": {
      "text/html": [
       "<p><code>&lt;Bokeh Notebook handle for <strong>In[16]</strong>&gt;</code></p>"
      ],
      "text/plain": [
       "<bokeh.io._CommsHandle at 0x1175af6a0>"
      ]
     },
     "execution_count": 16,
     "metadata": {},
     "output_type": "execute_result"
    }
   ],
   "source": [
    "p = figure(width=800, height=500,  x_axis_label = \"Vit A (IU/DL)\",\n",
    "       y_axis_label = \"CA\")\n",
    "p.circle(lvar_wo_df.vit_a,lvar_wo_df.svg_ca, size=10, color=\"red\", alpha=0.5, legend=\"Low vitamin A < 30\")\n",
    "p.triangle(hvar_wo_df.vit_a,hvar_wo_df.svg_ca, size=10, color=\"blue\", alpha=0.5, legend=\"High vitamin A > 60\")\n",
    "show(p)"
   ]
  },
  {
   "cell_type": "markdown",
   "metadata": {},
   "source": [
    "# Region 2"
   ]
  },
  {
   "cell_type": "code",
   "execution_count": 16,
   "metadata": {
    "collapsed": false
   },
   "outputs": [
    {
     "name": "stdout",
     "output_type": "stream",
     "text": [
      "12\n",
      "count    12.000000\n",
      "mean      0.347247\n",
      "std       0.053967\n",
      "min       0.267239\n",
      "25%       0.305392\n",
      "50%       0.347043\n",
      "75%       0.377101\n",
      "max       0.428390\n",
      "Name: svg_ca, dtype: float64\n"
     ]
    },
    {
     "data": {
      "text/plain": [
       "<matplotlib.axes._subplots.AxesSubplot at 0x116e51a20>"
      ]
     },
     "execution_count": 16,
     "metadata": {},
     "output_type": "execute_result"
    },
    {
     "data": {
      "image/png": "[encoded data removed]",
      "text/plain": [
       "<matplotlib.figure.Figure at 0x1170c4198>"
      ]
     },
     "metadata": {},
     "output_type": "display_data"
    }
   ],
   "source": [
    "ca_high_R2 = hvar_wo_df.svg_ca[hvar_wo_df.region == 2]\n",
    "print(ca_high_R2.shape[0])\n",
    "print(ca_high_R2.describe())\n",
    "ca_high_R2.hist()"
   ]
  },
  {
   "cell_type": "code",
   "execution_count": 17,
   "metadata": {
    "collapsed": false
   },
   "outputs": [
    {
     "name": "stdout",
     "output_type": "stream",
     "text": [
      "52\n",
      "count    52.000000\n",
      "mean      0.324208\n",
      "std       0.078522\n",
      "min       0.162191\n",
      "25%       0.255898\n",
      "50%       0.326016\n",
      "75%       0.376514\n",
      "max       0.487775\n",
      "Name: svg_ca, dtype: float64\n"
     ]
    },
    {
     "data": {
      "image/png": "[encoded data removed]",
      "text/plain": [
       "<matplotlib.figure.Figure at 0x116e43278>"
      ]
     },
     "metadata": {},
     "output_type": "display_data"
    }
   ],
   "source": [
    "ca_low_R2 = lvar_wo_df.svg_ca[lvar_wo_df.region == 2]\n",
    "ca_low_R2_s = ca_low_R2.sample(n=ca_high_R2.shape[0])\n",
    "ca_low_R2.hist()\n",
    "print(ca_low_R2.shape[0])\n",
    "print(ca_low_R2.describe())\n",
    "# print(ca_low_RA)"
   ]
  },
  {
   "cell_type": "markdown",
   "metadata": {},
   "source": [
    "## T-test dependent"
   ]
  },
  {
   "cell_type": "code",
   "execution_count": 18,
   "metadata": {
    "collapsed": false
   },
   "outputs": [
    {
     "name": "stdout",
     "output_type": "stream",
     "text": [
      "High group is not significantly different\n"
     ]
    }
   ],
   "source": [
    "ttest_onesided((\"CA High region 2\",ca_high_R2), (\"CA low region 2\",ca_low_R2_s), 95, ttest_variant=\"student\")"
   ]
  },
  {
   "cell_type": "markdown",
   "metadata": {},
   "source": [
    "## Welch’s t-test, independent variable, 95 % confidence interval"
   ]
  },
  {
   "cell_type": "code",
   "execution_count": 19,
   "metadata": {
    "collapsed": false
   },
   "outputs": [
    {
     "name": "stdout",
     "output_type": "stream",
     "text": [
      "High group is not significantly different\n"
     ]
    }
   ],
   "source": [
    "ttest_onesided((\"CA High region 5\",ca_high_R2), (\"CA low region 5\",ca_low_R2), 95)"
   ]
  },
  {
   "cell_type": "markdown",
   "metadata": {},
   "source": [
    "# Region 5"
   ]
  },
  {
   "cell_type": "code",
   "execution_count": 20,
   "metadata": {
    "collapsed": false
   },
   "outputs": [
    {
     "name": "stdout",
     "output_type": "stream",
     "text": [
      "18\n",
      "count    18.000000\n",
      "mean      0.338048\n",
      "std       0.047448\n",
      "min       0.250714\n",
      "25%       0.310294\n",
      "50%       0.330551\n",
      "75%       0.358961\n",
      "max       0.443948\n",
      "Name: svg_ca, dtype: float64\n"
     ]
    },
    {
     "data": {
      "text/plain": [
       "<matplotlib.axes._subplots.AxesSubplot at 0x116fd7a58>"
      ]
     },
     "execution_count": 20,
     "metadata": {},
     "output_type": "execute_result"
    },
    {
     "data": {
      "image/png": "[encoded data removed]",
      "text/plain": [
       "<matplotlib.figure.Figure at 0x11742abe0>"
      ]
     },
     "metadata": {},
     "output_type": "display_data"
    }
   ],
   "source": [
    "ca_high_R5 = hvar_wo_df.svg_ca[hvar_wo_df.region == 5]\n",
    "print(ca_high_R5.shape[0])\n",
    "print(ca_high_R5.describe())\n",
    "ca_high_R5.hist()"
   ]
  },
  {
   "cell_type": "code",
   "execution_count": 21,
   "metadata": {
    "collapsed": false
   },
   "outputs": [
    {
     "name": "stdout",
     "output_type": "stream",
     "text": [
      "73\n",
      "count    73.000000\n",
      "mean      0.304120\n",
      "std       0.088947\n",
      "min       0.104471\n",
      "25%       0.255018\n",
      "50%       0.301562\n",
      "75%       0.348034\n",
      "max       0.536388\n",
      "Name: svg_ca, dtype: float64\n"
     ]
    },
    {
     "data": {
      "text/plain": [
       "<matplotlib.axes._subplots.AxesSubplot at 0x11773ac18>"
      ]
     },
     "execution_count": 21,
     "metadata": {},
     "output_type": "execute_result"
    },
    {
     "data": {
      "image/png": "[encoded data removed]",
      "text/plain": [
       "<matplotlib.figure.Figure at 0x1175c8f28>"
      ]
     },
     "metadata": {},
     "output_type": "display_data"
    }
   ],
   "source": [
    "ca_low_R5 = lvar_wo_df.svg_ca[lvar_wo_df.region == 5]\n",
    "ca_low_R5_s = ca_low_R5.sample(n=ca_high_R5.shape[0])\n",
    "print(ca_low_R5.shape[0])\n",
    "print(ca_low_R5.describe())\n",
    "ca_low_R5_s.hist()"
   ]
  },
  {
   "cell_type": "markdown",
   "metadata": {},
   "source": [
    "## T-test dependent"
   ]
  },
  {
   "cell_type": "code",
   "execution_count": 22,
   "metadata": {
    "collapsed": false
   },
   "outputs": [
    {
     "name": "stdout",
     "output_type": "stream",
     "text": [
      "High group is not significantly different\n"
     ]
    }
   ],
   "source": [
    "ttest_onesided((\"CA High region 5\",ca_high_R5), (\"CA low region 5\",ca_low_R5_s), 95, ttest_variant=\"student\")"
   ]
  },
  {
   "cell_type": "markdown",
   "metadata": {},
   "source": [
    "## Welch’s t-test, independent variable, 95 % confidence interval"
   ]
  },
  {
   "cell_type": "code",
   "execution_count": 23,
   "metadata": {
    "collapsed": false
   },
   "outputs": [
    {
     "name": "stdout",
     "output_type": "stream",
     "text": [
      "PVALUE = 0.015456733136578065 (P-Critical = 0.050000000000000044)\n",
      "Tstatistics = 2.2205516992926304\n",
      "CA High region 5 is significantly different than CA low region 5\n",
      "CA High region 5 > CA low region 5\n"
     ]
    }
   ],
   "source": [
    "ttest_onesided((\"CA High region 5\",ca_high_R5), (\"CA low region 5\",ca_low_R5), 95)"
   ]
  },
  {
   "cell_type": "markdown",
   "metadata": {},
   "source": [
    "# Region 6"
   ]
  },
  {
   "cell_type": "code",
   "execution_count": 24,
   "metadata": {
    "collapsed": false
   },
   "outputs": [
    {
     "name": "stdout",
     "output_type": "stream",
     "text": [
      "16\n",
      "count    16.000000\n",
      "mean      0.339730\n",
      "std       0.046857\n",
      "min       0.253296\n",
      "25%       0.315095\n",
      "50%       0.339371\n",
      "75%       0.358573\n",
      "max       0.461242\n",
      "Name: svg_ca, dtype: float64\n"
     ]
    },
    {
     "data": {
      "text/plain": [
       "<matplotlib.axes._subplots.AxesSubplot at 0x1177c9f28>"
      ]
     },
     "execution_count": 24,
     "metadata": {},
     "output_type": "execute_result"
    },
    {
     "data": {
      "image/png": "[encoded data removed]",
      "text/plain": [
       "<matplotlib.figure.Figure at 0x1179d56a0>"
      ]
     },
     "metadata": {},
     "output_type": "display_data"
    }
   ],
   "source": [
    "ca_high_R6 = hvar_wo_df.svg_ca[hvar_wo_df.region == 6]\n",
    "print(ca_high_R6.shape[0])\n",
    "print(ca_high_R6.describe())\n",
    "ca_high_R6.hist()"
   ]
  },
  {
   "cell_type": "code",
   "execution_count": 25,
   "metadata": {
    "collapsed": false
   },
   "outputs": [
    {
     "name": "stdout",
     "output_type": "stream",
     "text": [
      "48\n",
      "count    48.000000\n",
      "mean      0.328184\n",
      "std       0.067263\n",
      "min       0.115224\n",
      "25%       0.290453\n",
      "50%       0.329867\n",
      "75%       0.366864\n",
      "max       0.512846\n",
      "Name: svg_ca, dtype: float64\n"
     ]
    },
    {
     "data": {
      "text/plain": [
       "<matplotlib.axes._subplots.AxesSubplot at 0x1179e9ac8>"
      ]
     },
     "execution_count": 25,
     "metadata": {},
     "output_type": "execute_result"
    },
    {
     "data": {
      "image/png": "[encoded data removed]",
      "text/plain": [
       "<matplotlib.figure.Figure at 0x1179f15f8>"
      ]
     },
     "metadata": {},
     "output_type": "display_data"
    }
   ],
   "source": [
    "ca_low_R6 = lvar_wo_df.svg_ca[lvar_wo_df.region == 6]\n",
    "ca_low_R6_s = ca_low_R6.sample(n=ca_high_R6.shape[0])\n",
    "print(ca_low_R6.shape[0])\n",
    "print(ca_low_R6.describe())\n",
    "ca_low_R6_s.hist()"
   ]
  },
  {
   "cell_type": "markdown",
   "metadata": {},
   "source": [
    "## T-test dependent"
   ]
  },
  {
   "cell_type": "code",
   "execution_count": 26,
   "metadata": {
    "collapsed": false
   },
   "outputs": [
    {
     "name": "stdout",
     "output_type": "stream",
     "text": [
      "High group is not significantly different\n"
     ]
    }
   ],
   "source": [
    "ttest_onesided((\"CA High region 6\",ca_high_R6), (\"CA low region 6\",ca_low_R6_s), 95, ttest_variant=\"student\")"
   ]
  },
  {
   "cell_type": "markdown",
   "metadata": {},
   "source": [
    "## Welch’s t-test, independent variable, 95 % confidence interval"
   ]
  },
  {
   "cell_type": "code",
   "execution_count": 27,
   "metadata": {
    "collapsed": false
   },
   "outputs": [
    {
     "name": "stdout",
     "output_type": "stream",
     "text": [
      "High group is not significantly different\n"
     ]
    }
   ],
   "source": [
    "# Welch’s t-test, independent variable\n",
    "ttest_onesided((\"CA High region 6\",ca_high_R6), (\"CA low region 6\",ca_low_R6), 95)"
   ]
  },
  {
   "cell_type": "code",
   "execution_count": 28,
   "metadata": {
    "collapsed": false
   },
   "outputs": [],
   "source": [
    "a = hvar_df.groupby(\"same_region\").describe()"
   ]
  },
  {
   "cell_type": "code",
   "execution_count": 29,
   "metadata": {
    "collapsed": false
   },
   "outputs": [
    {
     "data": {
      "text/html": [
       "<div>\n",
       "<table border=\"1\" class=\"dataframe\">\n",
       "  <thead>\n",
       "    <tr style=\"text-align: right;\">\n",
       "      <th></th>\n",
       "      <th></th>\n",
       "      <th>angle</th>\n",
       "      <th>area</th>\n",
       "      <th>aspect_ratio</th>\n",
       "      <th>cattle_id</th>\n",
       "      <th>contour_area</th>\n",
       "      <th>contour_perimeter</th>\n",
       "      <th>distance</th>\n",
       "      <th>extent</th>\n",
       "      <th>firstframe</th>\n",
       "      <th>frametime</th>\n",
       "      <th>...</th>\n",
       "      <th>max_area</th>\n",
       "      <th>pupil_major_axis</th>\n",
       "      <th>pupil_minor_axis</th>\n",
       "      <th>region</th>\n",
       "      <th>solidity</th>\n",
       "      <th>svg_area</th>\n",
       "      <th>svg_ca</th>\n",
       "      <th>svg_ipr</th>\n",
       "      <th>svg_max_area</th>\n",
       "      <th>vit_a</th>\n",
       "    </tr>\n",
       "    <tr>\n",
       "      <th>same_region</th>\n",
       "      <th></th>\n",
       "      <th></th>\n",
       "      <th></th>\n",
       "      <th></th>\n",
       "      <th></th>\n",
       "      <th></th>\n",
       "      <th></th>\n",
       "      <th></th>\n",
       "      <th></th>\n",
       "      <th></th>\n",
       "      <th></th>\n",
       "      <th></th>\n",
       "      <th></th>\n",
       "      <th></th>\n",
       "      <th></th>\n",
       "      <th></th>\n",
       "      <th></th>\n",
       "      <th></th>\n",
       "      <th></th>\n",
       "      <th></th>\n",
       "      <th></th>\n",
       "      <th></th>\n",
       "    </tr>\n",
       "  </thead>\n",
       "  <tbody>\n",
       "    <tr>\n",
       "      <th rowspan=\"8\" valign=\"top\">True</th>\n",
       "      <th>count</th>\n",
       "      <td>34.000000</td>\n",
       "      <td>61.000000</td>\n",
       "      <td>4.000000</td>\n",
       "      <td>7.400000e+01</td>\n",
       "      <td>4.000000</td>\n",
       "      <td>4.000000</td>\n",
       "      <td>0.0</td>\n",
       "      <td>4.000000</td>\n",
       "      <td>74.0</td>\n",
       "      <td>74.000000</td>\n",
       "      <td>...</td>\n",
       "      <td>74.000000</td>\n",
       "      <td>61.000000</td>\n",
       "      <td>61.000000</td>\n",
       "      <td>74.000000</td>\n",
       "      <td>4.000000</td>\n",
       "      <td>74.000000</td>\n",
       "      <td>74.000000</td>\n",
       "      <td>74.000000</td>\n",
       "      <td>68.000000</td>\n",
       "      <td>74.000000</td>\n",
       "    </tr>\n",
       "    <tr>\n",
       "      <th>mean</th>\n",
       "      <td>6.716820</td>\n",
       "      <td>23531.598171</td>\n",
       "      <td>1.299377</td>\n",
       "      <td>1.395809e+09</td>\n",
       "      <td>11652.375000</td>\n",
       "      <td>491.515021</td>\n",
       "      <td>NaN</td>\n",
       "      <td>0.628032</td>\n",
       "      <td>0.0</td>\n",
       "      <td>1.241757</td>\n",
       "      <td>...</td>\n",
       "      <td>36650.457511</td>\n",
       "      <td>214.707558</td>\n",
       "      <td>137.995422</td>\n",
       "      <td>4.189189</td>\n",
       "      <td>0.871739</td>\n",
       "      <td>23181.808076</td>\n",
       "      <td>0.362418</td>\n",
       "      <td>0.902599</td>\n",
       "      <td>36706.567341</td>\n",
       "      <td>86.665299</td>\n",
       "    </tr>\n",
       "    <tr>\n",
       "      <th>std</th>\n",
       "      <td>19.315096</td>\n",
       "      <td>5498.782701</td>\n",
       "      <td>0.262452</td>\n",
       "      <td>1.326686e+08</td>\n",
       "      <td>4235.626112</td>\n",
       "      <td>110.491676</td>\n",
       "      <td>NaN</td>\n",
       "      <td>0.024846</td>\n",
       "      <td>0.0</td>\n",
       "      <td>0.135872</td>\n",
       "      <td>...</td>\n",
       "      <td>7005.613784</td>\n",
       "      <td>21.431590</td>\n",
       "      <td>22.769311</td>\n",
       "      <td>1.458801</td>\n",
       "      <td>0.028322</td>\n",
       "      <td>5626.206407</td>\n",
       "      <td>0.077442</td>\n",
       "      <td>0.056010</td>\n",
       "      <td>6627.548831</td>\n",
       "      <td>16.963816</td>\n",
       "    </tr>\n",
       "    <tr>\n",
       "      <th>min</th>\n",
       "      <td>0.000000</td>\n",
       "      <td>8019.477980</td>\n",
       "      <td>0.910714</td>\n",
       "      <td>8.600537e+08</td>\n",
       "      <td>6907.500000</td>\n",
       "      <td>365.320848</td>\n",
       "      <td>NaN</td>\n",
       "      <td>0.604648</td>\n",
       "      <td>0.0</td>\n",
       "      <td>1.000000</td>\n",
       "      <td>...</td>\n",
       "      <td>18464.027981</td>\n",
       "      <td>137.113831</td>\n",
       "      <td>74.468903</td>\n",
       "      <td>1.000000</td>\n",
       "      <td>0.832009</td>\n",
       "      <td>7704.884815</td>\n",
       "      <td>0.250714</td>\n",
       "      <td>0.612341</td>\n",
       "      <td>18258.019918</td>\n",
       "      <td>60.208333</td>\n",
       "    </tr>\n",
       "    <tr>\n",
       "      <th>25%</th>\n",
       "      <td>0.000000</td>\n",
       "      <td>19784.017787</td>\n",
       "      <td>1.258213</td>\n",
       "      <td>1.372244e+09</td>\n",
       "      <td>8683.125000</td>\n",
       "      <td>420.230751</td>\n",
       "      <td>NaN</td>\n",
       "      <td>0.613402</td>\n",
       "      <td>0.0</td>\n",
       "      <td>1.200000</td>\n",
       "      <td>...</td>\n",
       "      <td>32477.744063</td>\n",
       "      <td>204.969000</td>\n",
       "      <td>121.023000</td>\n",
       "      <td>3.000000</td>\n",
       "      <td>0.865094</td>\n",
       "      <td>19594.905067</td>\n",
       "      <td>0.318339</td>\n",
       "      <td>0.869959</td>\n",
       "      <td>32702.363567</td>\n",
       "      <td>71.877500</td>\n",
       "    </tr>\n",
       "    <tr>\n",
       "      <th>50%</th>\n",
       "      <td>0.000000</td>\n",
       "      <td>23531.937945</td>\n",
       "      <td>1.405773</td>\n",
       "      <td>1.445174e+09</td>\n",
       "      <td>12053.000000</td>\n",
       "      <td>494.646749</td>\n",
       "      <td>NaN</td>\n",
       "      <td>0.622643</td>\n",
       "      <td>0.0</td>\n",
       "      <td>1.200000</td>\n",
       "      <td>...</td>\n",
       "      <td>37238.880322</td>\n",
       "      <td>215.021000</td>\n",
       "      <td>139.062000</td>\n",
       "      <td>4.000000</td>\n",
       "      <td>0.877973</td>\n",
       "      <td>23937.645832</td>\n",
       "      <td>0.339371</td>\n",
       "      <td>0.912059</td>\n",
       "      <td>37317.067772</td>\n",
       "      <td>85.858586</td>\n",
       "    </tr>\n",
       "    <tr>\n",
       "      <th>75%</th>\n",
       "      <td>0.000000</td>\n",
       "      <td>26848.926216</td>\n",
       "      <td>1.446937</td>\n",
       "      <td>1.445175e+09</td>\n",
       "      <td>15022.250000</td>\n",
       "      <td>565.931020</td>\n",
       "      <td>NaN</td>\n",
       "      <td>0.637272</td>\n",
       "      <td>0.0</td>\n",
       "      <td>1.200000</td>\n",
       "      <td>...</td>\n",
       "      <td>40610.616068</td>\n",
       "      <td>228.020000</td>\n",
       "      <td>153.985000</td>\n",
       "      <td>5.000000</td>\n",
       "      <td>0.884619</td>\n",
       "      <td>27004.737435</td>\n",
       "      <td>0.380056</td>\n",
       "      <td>0.938794</td>\n",
       "      <td>40251.800035</td>\n",
       "      <td>105.556288</td>\n",
       "    </tr>\n",
       "    <tr>\n",
       "      <th>max</th>\n",
       "      <td>67.653755</td>\n",
       "      <td>37400.115772</td>\n",
       "      <td>1.475248</td>\n",
       "      <td>1.445187e+09</td>\n",
       "      <td>15596.000000</td>\n",
       "      <td>611.445739</td>\n",
       "      <td>NaN</td>\n",
       "      <td>0.662194</td>\n",
       "      <td>0.0</td>\n",
       "      <td>1.600000</td>\n",
       "      <td>...</td>\n",
       "      <td>55262.105810</td>\n",
       "      <td>253.991000</td>\n",
       "      <td>188.979000</td>\n",
       "      <td>6.000000</td>\n",
       "      <td>0.899002</td>\n",
       "      <td>37773.923110</td>\n",
       "      <td>0.704899</td>\n",
       "      <td>0.984193</td>\n",
       "      <td>51550.137318</td>\n",
       "      <td>117.080000</td>\n",
       "    </tr>\n",
       "  </tbody>\n",
       "</table>\n",
       "<p>8 rows × 21 columns</p>\n",
       "</div>"
      ],
      "text/plain": [
       "                       angle          area  aspect_ratio     cattle_id  \\\n",
       "same_region                                                              \n",
       "True        count  34.000000     61.000000      4.000000  7.400000e+01   \n",
       "            mean    6.716820  23531.598171      1.299377  1.395809e+09   \n",
       "            std    19.315096   5498.782701      0.262452  1.326686e+08   \n",
       "            min     0.000000   8019.477980      0.910714  8.600537e+08   \n",
       "            25%     0.000000  19784.017787      1.258213  1.372244e+09   \n",
       "            50%     0.000000  23531.937945      1.405773  1.445174e+09   \n",
       "            75%     0.000000  26848.926216      1.446937  1.445175e+09   \n",
       "            max    67.653755  37400.115772      1.475248  1.445187e+09   \n",
       "\n",
       "                   contour_area  contour_perimeter  distance    extent  \\\n",
       "same_region                                                              \n",
       "True        count      4.000000           4.000000       0.0  4.000000   \n",
       "            mean   11652.375000         491.515021       NaN  0.628032   \n",
       "            std     4235.626112         110.491676       NaN  0.024846   \n",
       "            min     6907.500000         365.320848       NaN  0.604648   \n",
       "            25%     8683.125000         420.230751       NaN  0.613402   \n",
       "            50%    12053.000000         494.646749       NaN  0.622643   \n",
       "            75%    15022.250000         565.931020       NaN  0.637272   \n",
       "            max    15596.000000         611.445739       NaN  0.662194   \n",
       "\n",
       "                   firstframe  frametime     ...          max_area  \\\n",
       "same_region                                  ...                     \n",
       "True        count        74.0  74.000000     ...         74.000000   \n",
       "            mean          0.0   1.241757     ...      36650.457511   \n",
       "            std           0.0   0.135872     ...       7005.613784   \n",
       "            min           0.0   1.000000     ...      18464.027981   \n",
       "            25%           0.0   1.200000     ...      32477.744063   \n",
       "            50%           0.0   1.200000     ...      37238.880322   \n",
       "            75%           0.0   1.200000     ...      40610.616068   \n",
       "            max           0.0   1.600000     ...      55262.105810   \n",
       "\n",
       "                   pupil_major_axis  pupil_minor_axis     region  solidity  \\\n",
       "same_region                                                                  \n",
       "True        count         61.000000         61.000000  74.000000  4.000000   \n",
       "            mean         214.707558        137.995422   4.189189  0.871739   \n",
       "            std           21.431590         22.769311   1.458801  0.028322   \n",
       "            min          137.113831         74.468903   1.000000  0.832009   \n",
       "            25%          204.969000        121.023000   3.000000  0.865094   \n",
       "            50%          215.021000        139.062000   4.000000  0.877973   \n",
       "            75%          228.020000        153.985000   5.000000  0.884619   \n",
       "            max          253.991000        188.979000   6.000000  0.899002   \n",
       "\n",
       "                       svg_area     svg_ca    svg_ipr  svg_max_area  \\\n",
       "same_region                                                           \n",
       "True        count     74.000000  74.000000  74.000000     68.000000   \n",
       "            mean   23181.808076   0.362418   0.902599  36706.567341   \n",
       "            std     5626.206407   0.077442   0.056010   6627.548831   \n",
       "            min     7704.884815   0.250714   0.612341  18258.019918   \n",
       "            25%    19594.905067   0.318339   0.869959  32702.363567   \n",
       "            50%    23937.645832   0.339371   0.912059  37317.067772   \n",
       "            75%    27004.737435   0.380056   0.938794  40251.800035   \n",
       "            max    37773.923110   0.704899   0.984193  51550.137318   \n",
       "\n",
       "                        vit_a  \n",
       "same_region                    \n",
       "True        count   74.000000  \n",
       "            mean    86.665299  \n",
       "            std     16.963816  \n",
       "            min     60.208333  \n",
       "            25%     71.877500  \n",
       "            50%     85.858586  \n",
       "            75%    105.556288  \n",
       "            max    117.080000  \n",
       "\n",
       "[8 rows x 21 columns]"
      ]
     },
     "execution_count": 29,
     "metadata": {},
     "output_type": "execute_result"
    }
   ],
   "source": [
    "a"
   ]
  },
  {
   "cell_type": "code",
   "execution_count": null,
   "metadata": {
    "collapsed": true
   },
   "outputs": [],
   "source": []
  }
 ],
 "metadata": {
  "kernelspec": {
   "display_name": "Python 3",
   "language": "python",
   "name": "python3"
  },
  "language_info": {
   "codemirror_mode": {
    "name": "ipython",
    "version": 3
   },
   "file_extension": ".py",
   "mimetype": "text/x-python",
   "name": "python",
   "nbconvert_exporter": "python",
   "pygments_lexer": "ipython3",
   "version": "3.5.1"
  }
 },
 "nbformat": 4,
 "nbformat_minor": 0
}
