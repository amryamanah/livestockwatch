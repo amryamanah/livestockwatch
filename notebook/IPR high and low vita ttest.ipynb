{
 "cells": [
  {
   "cell_type": "code",
   "execution_count": 1,
   "metadata": {
    "collapsed": false
   },
   "outputs": [
    {
     "name": "stdout",
     "output_type": "stream",
     "text": [
      "[Errno 2] No such file or directory: 'logging.json'\n"
     ]
    },
    {
     "name": "stderr",
     "output_type": "stream",
     "text": [
      "/Users/fitram/anaconda/envs/livestockwatch/lib/python3.5/site-packages/matplotlib/__init__.py:1350: UserWarning:  This call to matplotlib.use() has no effect\n",
      "because the backend has already been chosen;\n",
      "matplotlib.use() must be called *before* pylab, matplotlib.pyplot,\n",
      "or matplotlib.backends is imported for the first time.\n",
      "\n",
      "  warnings.warn(_use_error_msg)\n"
     ]
    },
    {
     "data": {
      "text/html": [
       "\n",
       "    <div class=\"bk-banner\">\n",
       "        <a href=\"http://bokeh.pydata.org\" target=\"_blank\" class=\"bk-logo bk-logo-small bk-logo-notebook\"></a>\n",
       "        <span id=\"7a58dc1d-3c13-4ec0-a231-89491c4f6494\">Loading BokehJS ...</span>\n",
       "    </div>"
      ]
     },
     "metadata": {},
     "output_type": "display_data"
    },
    {
     "data": {
      "application/javascript": [
       "\n",
       "(function(global) {\n",
       "  function now() {\n",
       "    return new Date();\n",
       "  }\n",
       "\n",
       "  if (typeof (window._bokeh_onload_callbacks) === \"undefined\") {\n",
       "    window._bokeh_onload_callbacks = [];\n",
       "  }\n",
       "\n",
       "  function run_callbacks() {\n",
       "    window._bokeh_onload_callbacks.forEach(function(callback) { callback() });\n",
       "    delete window._bokeh_onload_callbacks\n",
       "    console.info(\"Bokeh: all callbacks have finished\");\n",
       "  }\n",
       "\n",
       "  function load_libs(js_urls, callback) {\n",
       "    window._bokeh_onload_callbacks.push(callback);\n",
       "    if (window._bokeh_is_loading > 0) {\n",
       "      console.log(\"Bokeh: BokehJS is being loaded, scheduling callback at\", now());\n",
       "      return null;\n",
       "    }\n",
       "    if (js_urls == null || js_urls.length === 0) {\n",
       "      run_callbacks();\n",
       "      return null;\n",
       "    }\n",
       "    console.log(\"Bokeh: BokehJS not loaded, scheduling load and callback at\", now());\n",
       "    window._bokeh_is_loading = js_urls.length;\n",
       "    for (var i = 0; i < js_urls.length; i++) {\n",
       "      var url = js_urls[i];\n",
       "      var s = document.createElement('script');\n",
       "      s.src = url;\n",
       "      s.async = false;\n",
       "      s.onreadystatechange = s.onload = function() {\n",
       "        window._bokeh_is_loading--;\n",
       "        if (window._bokeh_is_loading === 0) {\n",
       "          console.log(\"Bokeh: all BokehJS libraries loaded\");\n",
       "          run_callbacks()\n",
       "        }\n",
       "      };\n",
       "      s.onerror = function() {\n",
       "        console.warn(\"failed to load library \" + url);\n",
       "      };\n",
       "      console.log(\"Bokeh: injecting script tag for BokehJS library: \", url);\n",
       "      document.getElementsByTagName(\"head\")[0].appendChild(s);\n",
       "    }\n",
       "  };\n",
       "\n",
       "  var js_urls = ['https://cdn.pydata.org/bokeh/release/bokeh-0.11.1.min.js', 'https://cdn.pydata.org/bokeh/release/bokeh-widgets-0.11.1.min.js', 'https://cdn.pydata.org/bokeh/release/bokeh-compiler-0.11.1.min.js'];\n",
       "\n",
       "  var inline_js = [\n",
       "    function(Bokeh) {\n",
       "      Bokeh.set_log_level(\"info\");\n",
       "    },\n",
       "    \n",
       "    function(Bokeh) {\n",
       "      Bokeh.$(\"#7a58dc1d-3c13-4ec0-a231-89491c4f6494\").text(\"BokehJS successfully loaded\");\n",
       "    },\n",
       "    function(Bokeh) {\n",
       "      console.log(\"Bokeh: injecting CSS: https://cdn.pydata.org/bokeh/release/bokeh-0.11.1.min.css\");\n",
       "      Bokeh.embed.inject_css(\"https://cdn.pydata.org/bokeh/release/bokeh-0.11.1.min.css\");\n",
       "      console.log(\"Bokeh: injecting CSS: https://cdn.pydata.org/bokeh/release/bokeh-widgets-0.11.1.min.css\");\n",
       "      Bokeh.embed.inject_css(\"https://cdn.pydata.org/bokeh/release/bokeh-widgets-0.11.1.min.css\");\n",
       "    }\n",
       "  ];\n",
       "\n",
       "  function run_inline_js() {\n",
       "    for (var i = 0; i < inline_js.length; i++) {\n",
       "      inline_js[i](window.Bokeh);\n",
       "    }\n",
       "  }\n",
       "\n",
       "  if (window._bokeh_is_loading === 0) {\n",
       "    console.log(\"Bokeh: BokehJS loaded, going straight to plotting\");\n",
       "    run_inline_js();\n",
       "  } else {\n",
       "    load_libs(js_urls, function() {\n",
       "      console.log(\"Bokeh: BokehJS plotting callback run at\", now());\n",
       "      run_inline_js();\n",
       "    });\n",
       "  }\n",
       "}(this));"
      ]
     },
     "metadata": {},
     "output_type": "display_data"
    }
   ],
   "source": [
    "%matplotlib inline\n",
    "import os\n",
    "import pandas as pd\n",
    "import numpy as np\n",
    "import matplotlib.pyplot as plt\n",
    "import seaborn as sns\n",
    "from bokeh.plotting import figure, output_file, show, output_notebook\n",
    "from bokeh.charts import Bar\n",
    "import thinkstats2\n",
    "import thinkplot\n",
    "from scipy import stats\n",
    "from livestockwatch.manualdata_utils import DataProvider\n",
    "output_notebook()"
   ]
  },
  {
   "cell_type": "code",
   "execution_count": 2,
   "metadata": {
    "collapsed": true
   },
   "outputs": [],
   "source": [
    "def ttest_onesided(high_vita, low_vita, confidence_interval, ttest_variant=\"welch\"):\n",
    "    # Welch’s t-test, independent variable\n",
    "    high_vita_name, high_vita_dataset = high_vita\n",
    "    low_vita_name, low_vita_dataset = low_vita\n",
    "    \n",
    "    if ttest_variant == \"welch\":\n",
    "        tstat, pval = stats.ttest_ind(high_vita_dataset, low_vita_dataset, equal_var=False)\n",
    "    elif ttest_variant == \"student\":\n",
    "        tstat, pval = stats.ttest_rel(high_vita_dataset, low_vita_dataset)\n",
    "        \n",
    "    one_tailed_pval = pval/2\n",
    "    \n",
    "    pval_critical = 1 - (confidence_interval / 100)\n",
    "    if one_tailed_pval < pval_critical:\n",
    "        print(\"PVALUE = {} (P-Critical = {})\".format(one_tailed_pval, pval_critical))\n",
    "        print(\"Tstatistics = {}\".format(tstat))\n",
    "        print(\"{} is significantly different than {}\".format(high_vita_name, low_vita_name))\n",
    "        if tstat > 0:\n",
    "            print(\"{} > {}\".format(high_vita_name, low_vita_name))\n",
    "        elif tstat < 0:\n",
    "            print(\"{} < {}\".format(high_vita_name, low_vita_name))\n",
    "    else:\n",
    "        print(\"High group is not significantly different\")\n",
    "\n",
    "def calculate_iqr_limit(series):\n",
    "    q1 = series.quantile(q=0.25)\n",
    "    q2 = series.quantile(q=0.5)\n",
    "    q3 = series.quantile(q=0.75)\n",
    "    iqr = q3 - q1\n",
    "    upper = q3 + 1.5*iqr\n",
    "    lower = q1 - 1.5*iqr\n",
    "    print(\"upper limit = {}\".format(upper))\n",
    "    print(\"lower limit = {}\".format(lower))\n",
    "    return float(upper), float(lower)\n",
    "\n",
    "def get_outlier(df, col_name):\n",
    "    uplim, lowlim = calculate_iqr_limit(df[col_name])\n",
    "    return df[(df[col_name] < lowlim) | df[col_name] > uplim]"
   ]
  },
  {
   "cell_type": "code",
   "execution_count": 3,
   "metadata": {
    "collapsed": false
   },
   "outputs": [],
   "source": [
    "ipr_path = \"ipr.xlsx\"\n",
    "if not os.path.exists(ipr_path):\n",
    "    base_path = \"/Volumes/fitramhd/BISE/WA02_month/\"\n",
    "    lst_excel_path = [\n",
    "        os.path.join(base_path, \"2015-7-data.xlsx\"),\n",
    "        os.path.join(base_path, \"2015-6-data.xlsx\"),\n",
    "        os.path.join(base_path, \"manual_data.xlsx\")\n",
    "    ]\n",
    "    lst_ipr_df = []\n",
    "\n",
    "    data_provider = DataProvider(excel_result_path=ipr_path)\n",
    "\n",
    "    for excel_path in lst_excel_path:\n",
    "        ipr_df, _ = data_provider.process_excel_ipr(excel_path)\n",
    "        if not ipr_df.empty:\n",
    "            lst_ipr_df.append(ipr_df)\n",
    "\n",
    "    lst_ipr_df.append(data_provider.process_mongo_ipr(\"livestockwatch\"))\n",
    "\n",
    "    if lst_ipr_df:\n",
    "        data_provider.save_plr_data(lst_ipr_df)"
   ]
  },
  {
   "cell_type": "code",
   "execution_count": 4,
   "metadata": {
    "collapsed": false
   },
   "outputs": [],
   "source": [
    "excel_handler = pd.ExcelFile(\"ipr.xlsx\")\n",
    "excel_data = pd.read_excel(excel_handler, sheetname=None)\n",
    "plr_df = excel_data[\"plr_all\"]\n"
   ]
  },
  {
   "cell_type": "markdown",
   "metadata": {
    "slideshow": {
     "slide_type": "slide"
    }
   },
   "source": [
    "# All region"
   ]
  },
  {
   "cell_type": "code",
   "execution_count": 5,
   "metadata": {
    "collapsed": false,
    "slideshow": {
     "slide_type": "subslide"
    }
   },
   "outputs": [
    {
     "name": "stdout",
     "output_type": "stream",
     "text": [
      "HIGH VITA ALL REGION\n",
      "count    122.000000\n",
      "mean       0.981948\n",
      "std        0.018455\n",
      "min        0.886370\n",
      "25%        0.974286\n",
      "50%        0.987205\n",
      "75%        0.995242\n",
      "max        1.000833\n",
      "Name: svg_ipr, dtype: float64\n"
     ]
    },
    {
     "data": {
      "text/plain": [
       "<matplotlib.axes._subplots.AxesSubplot at 0x11621ddd8>"
      ]
     },
     "execution_count": 5,
     "metadata": {},
     "output_type": "execute_result"
    },
    {
     "data": {
      "image/png": "[encoded data removed]",
      "text/plain": [
       "<matplotlib.figure.Figure at 0x11620db38>"
      ]
     },
     "metadata": {},
     "output_type": "display_data"
    }
   ],
   "source": [
    "# HIGH VITA ALL REGION\n",
    "hvar_df = plr_df[(plr_df.vit_a > 60) & (plr_df.same_region == True)]\n",
    "print(\"HIGH VITA ALL REGION\")\n",
    "print(hvar_df.svg_ipr.describe())\n",
    "hvar_df.svg_ipr.hist(bins=15)"
   ]
  },
  {
   "cell_type": "code",
   "execution_count": 6,
   "metadata": {
    "collapsed": false
   },
   "outputs": [
    {
     "name": "stdout",
     "output_type": "stream",
     "text": [
      "upper limit = 1.0266751589443075\n",
      "lower limit = 0.9428524298039928\n",
      "HIGH VITA OUTLIER REMOVED\n",
      "count    118.000000\n",
      "mean       0.984035\n",
      "std        0.014315\n",
      "min        0.943127\n",
      "25%        0.976957\n",
      "50%        0.988734\n",
      "75%        0.995275\n",
      "max        1.000833\n",
      "Name: svg_ipr, dtype: float64\n",
      "n = 118\n"
     ]
    },
    {
     "data": {
      "image/png": "[encoded data removed]",
      "text/plain": [
       "<matplotlib.figure.Figure at 0x11636fb38>"
      ]
     },
     "metadata": {},
     "output_type": "display_data"
    }
   ],
   "source": [
    "# HIGH VITA ALL REGION OUTLIER REMOVED\n",
    "hvar_up_lim, hvar_low_lim = calculate_iqr_limit(hvar_df.svg_ipr)\n",
    "hvar_wo_df = hvar_df[(hvar_low_lim <= hvar_df.svg_ipr) & (hvar_df.svg_ipr <= hvar_up_lim)]\n",
    "print(\"HIGH VITA OUTLIER REMOVED\")\n",
    "print(hvar_wo_df.svg_ipr.describe())\n",
    "hvar_wo_df.svg_ipr.hist(bins=15)\n",
    "print(\"n = {}\".format(len(hvar_wo_df)))"
   ]
  },
  {
   "cell_type": "code",
   "execution_count": 7,
   "metadata": {
    "collapsed": false
   },
   "outputs": [
    {
     "name": "stdout",
     "output_type": "stream",
     "text": [
      "LOW VITA ALL REGION\n",
      "count    238.000000\n",
      "mean       0.976127\n",
      "std        0.023712\n",
      "min        0.855822\n",
      "25%        0.965487\n",
      "50%        0.984126\n",
      "75%        0.993107\n",
      "max        0.999833\n",
      "Name: svg_ipr, dtype: float64\n"
     ]
    },
    {
     "data": {
      "text/plain": [
       "<matplotlib.axes._subplots.AxesSubplot at 0x1163fac50>"
      ]
     },
     "execution_count": 7,
     "metadata": {},
     "output_type": "execute_result"
    },
    {
     "data": {
      "image/png": "[encoded data removed]",
      "text/plain": [
       "<matplotlib.figure.Figure at 0x116541358>"
      ]
     },
     "metadata": {},
     "output_type": "display_data"
    }
   ],
   "source": [
    "# LOW VITA ALL REGION\n",
    "lvar_df = plr_df[(plr_df.vit_a < 30) & (plr_df.same_region == True)]\n",
    "print(\"LOW VITA ALL REGION\")\n",
    "print(lvar_df.svg_ipr.describe())\n",
    "lvar_df.svg_ipr.hist()"
   ]
  },
  {
   "cell_type": "code",
   "execution_count": 8,
   "metadata": {
    "collapsed": false
   },
   "outputs": [
    {
     "name": "stdout",
     "output_type": "stream",
     "text": [
      "upper limit = 1.0345355526292248\n",
      "lower limit = 0.9240584671647871\n",
      "LOW VITA ALL REGION OUTLIER REMOVED\n",
      "count    229.000000\n",
      "mean       0.979087\n",
      "std        0.018257\n",
      "min        0.926753\n",
      "25%        0.967936\n",
      "50%        0.984593\n",
      "75%        0.993395\n",
      "max        0.999833\n",
      "Name: svg_ipr, dtype: float64\n",
      "n = 229\n"
     ]
    },
    {
     "data": {
      "image/png": "[encoded data removed]",
      "text/plain": [
       "<matplotlib.figure.Figure at 0x116672550>"
      ]
     },
     "metadata": {},
     "output_type": "display_data"
    }
   ],
   "source": [
    "# LOW VITA ALL REGION OUTLIER REMOVED\n",
    "lvar_up_lim, lvar_low_lim = calculate_iqr_limit(lvar_df.svg_ipr)\n",
    "lvar_wo_df = lvar_df[(lvar_low_lim <= lvar_df.svg_ipr) & (lvar_df.svg_ipr <= lvar_up_lim)]\n",
    "print(\"LOW VITA ALL REGION OUTLIER REMOVED\")\n",
    "print(lvar_wo_df.svg_ipr.describe())\n",
    "lvar_wo_df.svg_ipr.hist(bins=15)\n",
    "print(\"n = {}\".format(len(lvar_wo_df)))"
   ]
  },
  {
   "cell_type": "code",
   "execution_count": 9,
   "metadata": {
    "collapsed": false
   },
   "outputs": [
    {
     "name": "stdout",
     "output_type": "stream",
     "text": [
      "118\n",
      "count    118.000000\n",
      "mean       0.984035\n",
      "std        0.014315\n",
      "min        0.943127\n",
      "25%        0.976957\n",
      "50%        0.988734\n",
      "75%        0.995275\n",
      "max        1.000833\n",
      "Name: svg_ipr, dtype: float64\n"
     ]
    },
    {
     "data": {
      "text/plain": [
       "<matplotlib.axes._subplots.AxesSubplot at 0x1166e1eb8>"
      ]
     },
     "execution_count": 9,
     "metadata": {},
     "output_type": "execute_result"
    },
    {
     "data": {
      "image/png": "[encoded data removed]",
      "text/plain": [
       "<matplotlib.figure.Figure at 0x11666bfd0>"
      ]
     },
     "metadata": {},
     "output_type": "display_data"
    }
   ],
   "source": [
    "ipr_high_RA = hvar_wo_df.svg_ipr\n",
    "print(ipr_high_RA.shape[0])\n",
    "print(ipr_high_RA.describe())\n",
    "ipr_high_RA.hist()"
   ]
  },
  {
   "cell_type": "code",
   "execution_count": 10,
   "metadata": {
    "collapsed": false
   },
   "outputs": [
    {
     "name": "stdout",
     "output_type": "stream",
     "text": [
      "229\n",
      "count    229.000000\n",
      "mean       0.979087\n",
      "std        0.018257\n",
      "min        0.926753\n",
      "25%        0.967936\n",
      "50%        0.984593\n",
      "75%        0.993395\n",
      "max        0.999833\n",
      "Name: svg_ipr, dtype: float64\n"
     ]
    },
    {
     "data": {
      "image/png": "[encoded data removed]",
      "text/plain": [
       "<matplotlib.figure.Figure at 0x1168e0278>"
      ]
     },
     "metadata": {},
     "output_type": "display_data"
    }
   ],
   "source": [
    "ipr_low_RA_s = lvar_wo_df.svg_ipr.sample(n=ipr_high_RA.shape[0])\n",
    "ipr_low_RA = lvar_wo_df.svg_ipr\n",
    "ipr_low_RA.hist()\n",
    "print(ipr_low_RA.shape[0])\n",
    "print(ipr_low_RA.describe())"
   ]
  },
  {
   "cell_type": "markdown",
   "metadata": {},
   "source": [
    "## T-test dependent"
   ]
  },
  {
   "cell_type": "code",
   "execution_count": 11,
   "metadata": {
    "collapsed": false
   },
   "outputs": [
    {
     "name": "stdout",
     "output_type": "stream",
     "text": [
      "PVALUE = 0.017320253493918022 (P-Critical = 0.050000000000000044)\n",
      "Tstatistics = 2.1374769969219742\n",
      "IPR High all region is significantly different than IPR low all region\n",
      "IPR High all region > IPR low all region\n"
     ]
    }
   ],
   "source": [
    "ttest_onesided((\"IPR High all region\",ipr_high_RA), (\"IPR low all region\",ipr_low_RA_s), 95, ttest_variant=\"student\")"
   ]
  },
  {
   "cell_type": "markdown",
   "metadata": {},
   "source": [
    "## Welch’s t-test, independent variable, 95 % confidence interval"
   ]
  },
  {
   "cell_type": "code",
   "execution_count": 12,
   "metadata": {
    "collapsed": false
   },
   "outputs": [
    {
     "name": "stdout",
     "output_type": "stream",
     "text": [
      "PVALUE = 0.002988371114171316 (P-Critical = 0.050000000000000044)\n",
      "Tstatistics = 2.7694340215962505\n",
      "IPR High all region is significantly different than IPR low all region\n",
      "IPR High all region > IPR low all region\n"
     ]
    }
   ],
   "source": [
    "ttest_onesided((\"IPR High all region\",ipr_high_RA), (\"IPR low all region\",ipr_low_RA), 95, ttest_variant=\"welch\")"
   ]
  },
  {
   "cell_type": "code",
   "execution_count": 13,
   "metadata": {
    "collapsed": false
   },
   "outputs": [
    {
     "data": {
      "text/html": [
       "\n",
       "\n",
       "    <div class=\"plotdiv\" id=\"542ac5dc-96ad-4873-a522-54618477cb85\"></div>\n",
       "<script type=\"text/javascript\">\n",
       "  \n",
       "  (function(global) {\n",
       "    function now() {\n",
       "      return new Date();\n",
       "    }\n",
       "  \n",
       "    if (typeof (window._bokeh_onload_callbacks) === \"undefined\") {\n",
       "      window._bokeh_onload_callbacks = [];\n",
       "    }\n",
       "  \n",
       "    function run_callbacks() {\n",
       "      window._bokeh_onload_callbacks.forEach(function(callback) { callback() });\n",
       "      delete window._bokeh_onload_callbacks\n",
       "      console.info(\"Bokeh: all callbacks have finished\");\n",
       "    }\n",
       "  \n",
       "    function load_libs(js_urls, callback) {\n",
       "      window._bokeh_onload_callbacks.push(callback);\n",
       "      if (window._bokeh_is_loading > 0) {\n",
       "        console.log(\"Bokeh: BokehJS is being loaded, scheduling callback at\", now());\n",
       "        return null;\n",
       "      }\n",
       "      if (js_urls == null || js_urls.length === 0) {\n",
       "        run_callbacks();\n",
       "        return null;\n",
       "      }\n",
       "      console.log(\"Bokeh: BokehJS not loaded, scheduling load and callback at\", now());\n",
       "      window._bokeh_is_loading = js_urls.length;\n",
       "      for (var i = 0; i < js_urls.length; i++) {\n",
       "        var url = js_urls[i];\n",
       "        var s = document.createElement('script');\n",
       "        s.src = url;\n",
       "        s.async = false;\n",
       "        s.onreadystatechange = s.onload = function() {\n",
       "          window._bokeh_is_loading--;\n",
       "          if (window._bokeh_is_loading === 0) {\n",
       "            console.log(\"Bokeh: all BokehJS libraries loaded\");\n",
       "            run_callbacks()\n",
       "          }\n",
       "        };\n",
       "        s.onerror = function() {\n",
       "          console.warn(\"failed to load library \" + url);\n",
       "        };\n",
       "        console.log(\"Bokeh: injecting script tag for BokehJS library: \", url);\n",
       "        document.getElementsByTagName(\"head\")[0].appendChild(s);\n",
       "      }\n",
       "    };var element = document.getElementById(\"542ac5dc-96ad-4873-a522-54618477cb85\");\n",
       "    if (element == null) {\n",
       "      console.log(\"Bokeh: ERROR: autoload.js configured with elementid '542ac5dc-96ad-4873-a522-54618477cb85' but no matching script tag was found. \")\n",
       "      return false;\n",
       "    }\n",
       "  \n",
       "    var js_urls = [];\n",
       "  \n",
       "    var inline_js = [\n",
       "      function(Bokeh) {\n",
       "        Bokeh.$(function() {\n",
       "            var docs_json = {\"17267633-1f7a-4f20-94f6-838ff3909267\":{\"roots\":{\"references\":[{\"attributes\":{},\"id\":\"1c1c0e41-6cfd-4d86-a618-ec8b42e5eb0e\",\"type\":\"BasicTicker\"},{\"attributes\":{},\"id\":\"275b88a4-7f48-4e5f-ba64-e1c3eb17524c\",\"type\":\"ToolEvents\"},{\"attributes\":{\"callback\":null,\"column_names\":[\"x\",\"y\"],\"data\":{\"x\":[29.88095238095238,29.88095238095238,29.88095238095238,29.34523809523809,28.80952380952381,28.27380952380952,28.27380952380952,25.59523809523809,25.59523809523809,25.05952380952381,25.05952380952381,25.05952380952381,24.52380952380952,24.52380952380952,23.45238095238095,23.45238095238095,23.45238095238095,22.88690476190476,22.88690476190476,22.88690476190476,22.85714285714285,22.70833333333333,22.67857142857143,22.67857142857143,22.67857142857143,22.67857142857143,22.61904761904762,22.5,22.47023809523809,22.29166666666667,22.29166666666667,22.29166666666667,22.23214285714286,22.20238095238095,23.33333333333334,29.58333333333334,23.33333333333334,23.33333333333334,29.58333333333334,29.58333333333334,23.95833333333334,23.95833333333334,25.20833333333333,25.20833333333333,25.20833333333333,29.58333333333334,29.58333333333334,29.58333333333334,25.83333333333333,25.83333333333333,26.04166666666666,26.04166666666666,29.58333333333334,26.04166666666666,26.25,26.25,26.45833333333333,26.45833333333333,26.66666666666666,26.66666666666666,15.44642857142857,26.875,26.875,26.875,26.875,26.875,26.875,26.875,26.875,26.875,27.08333333333333,27.08333333333333,27.08333333333333,27.5,27.5,27.5,27.70833333333333,27.79761904761904,29.64285714285715,27.67857142857143,27.67857142857143,27.67857142857143,27.67857142857143,27.55952380952381,27.55952380952381,27.32142857142857,29.88095238095238,27.20238095238095,27.20238095238095,27.08333333333333,24.88095238095238,24.88095238095238,23.58630952380952,26.72619047619048,23.58630952380952,23.80952380952381,23.80952380952381,27.02380952380953,27.02380952380953,24.03273809523809,27.32142857142857,27.32142857142857,24.03273809523809,25.32738095238096,27.32142857142857,27.32142857142857,24.25595238095238,27.61904761904762,24.47916666666666,24.47916666666666,24.70238095238095,28.21428571428572,24.70238095238095,24.70238095238095,24.92559523809524,28.51190476190476,25.14880952380952,28.80952380952381,25.14880952380952,25.14880952380952,25.14880952380952,29.10714285714286,26.71130952380952,26.71130952380952,26.71130952380952,26.71130952380952,26.71130952380952,26.93452380952381,26.93452380952381,27.15773809523809,27.38095238095238,27.82738095238095,27.82738095238095,28.05059523809524,28.00595238095238,29.34523809523809,29.34523809523809,29.22619047619047,28.15476190476191,28.30357142857143,28.30357142857143,29.10714285714286,29.10714285714286,28.98809523809524,28.98809523809524,28.98809523809524,28.45238095238095,28.86904761904762,28.86904761904762,28.86904761904762,28.60119047619047,28.60119047619047,28.86904761904762,28.86904761904762,28.75,28.75,28.75,28.75,28.75,28.75,28.75,28.86904761904762,28.86904761904762,28.77976190476191,28.77976190476191,28.86904761904762,28.86904761904762,28.86904761904762,29.30059523809524,28.77976190476191,28.77976190476191,28.80952380952381,28.80952380952381,28.80952380952381,28.98809523809524,28.98809523809524,28.98809523809524,28.80952380952381,29.56845238095238,29.10714285714286,28.83928571428572,29.10714285714286,29.10714285714286,28.86904761904762,29.22619047619048,29.22619047619048,28.89880952380953,29.34523809523809,29.34523809523809,28.89880952380953,29.83630952380952,29.34523809523809,29.34523809523809,28.92857142857143,28.92857142857143,29.46428571428572,29.46428571428572,29.46428571428572,29.58333333333334,29.58333333333334,28.95833333333334,28.95833333333334,29.58333333333334,29.58333333333334,28.98809523809524,28.98809523809524,29.70238095238095,29.82142857142857,29.01785714285714,29.01785714285714,29.01785714285714,29.82142857142857,29.01785714285714,29.01785714285714,29.82142857142857,29.82142857142857,29.82142857142857,29.94047619047619,29.04761904761905,29.94047619047619,29.94047619047619,29.94047619047619,29.10714285714286,29.10714285714286,29.10714285714286,29.10714285714286,29.10714285714286,29.10714285714286,29.22619047619048],\"y\":[0.9845919192685659,0.9945038803493575,0.9655912868017382,0.9922129572020181,0.9942855244693016,0.933326047066823,0.9276477082497883,0.972130532810446,0.9967068629864945,0.9449083245964326,0.9900559589776736,0.9603837650573824,0.9943866716484668,0.9982113301781681,0.9998333749186431,0.998947645710099,0.9982455806123834,0.9865361987061283,0.9907062537935941,0.9877311307848082,0.9368728114553448,0.9988272604059846,0.9933078658242462,0.9809932918940665,0.9876306559938118,0.9940978184889905,0.9963118173544485,0.9970671308670134,0.9895144906943881,0.977568076336416,0.9771682755468847,0.9987891243657443,0.9965057076128067,0.9973686922664141,0.9957376377641118,0.9808733426805304,0.9967435819777742,0.978481472167928,0.9369569288309476,0.9881534009509211,0.993394582950271,0.9979942650002179,0.9872530018127903,0.9961354247897966,0.9981137461382401,0.9740930759318902,0.9340762094689424,0.9919936714430811,0.9985419511485242,0.9645878336959566,0.9680429609445889,0.9631958712362939,0.9807776687106533,0.9618920037202449,0.9845925313129585,0.9460714220844989,0.9702343662868882,0.9841699963599537,0.9985261313392718,0.9874919572565902,0.9750261102179922,0.9980508126007089,0.9946341023004585,0.9466683023079924,0.9791386145089641,0.9931256405629892,0.9946204402332824,0.9921269242520842,0.990681723740137,0.9926357448391802,0.9907816976348961,0.9824346371786075,0.9962568756272103,0.9966672903319325,0.9990070625646286,0.9989260263660952,0.9979675724705686,0.9974667083329777,0.9629894269011792,0.9960877585104113,0.9955886942677293,0.9982352408877441,0.9998145202393559,0.9987188599917607,0.987911890376021,0.9974040919251234,0.9454573669431542,0.9662121273742473,0.9899740236385399,0.9867184457884889,0.9923920164341183,0.9940050428241919,0.9981546570751649,0.9998157493382724,0.9976367327416354,0.9753440389216852,0.9754729171435228,0.9887806330737584,0.9986427775842186,0.9843830169496268,0.9919311714839752,0.9833752219275526,0.9739225572365743,0.9840821460841834,0.9929905339935176,0.9822325087026823,0.9890478490421137,0.9786272906300373,0.9667704753705414,0.9805639095702582,0.9816937560535003,0.9937400798743029,0.9767160318345598,0.9849069918509854,0.981130325169322,0.9972984991215074,0.9681836963677053,0.9993904519812723,0.9880260279609038,0.9481085083252319,0.9482806927599162,0.9899269362747997,0.9816253447364693,0.9704958069812083,0.9969834561312362,0.9815723849098942,0.9887330034675175,0.9859325627100229,0.9819807146779417,0.9963545584946044,0.9585633109251007,0.9593384782564056,0.9914505430352314,0.990181408254927,0.997847380220369,0.9560594919531689,0.9729617481245203,0.9318699424851935,0.9618442728619004,0.9813200403787176,0.9849285079589996,0.9919584413139285,0.9851067587116525,0.9572306911787872,0.9530987611695242,0.9959303185802015,0.9877506950958299,0.9903570001233458,0.934336980325823,0.9888244786399175,0.9692087721845226,0.9799995318915276,0.9884163121070132,0.9984950568470385,0.9923732804856576,0.9464085008368679,0.9748515737262203,0.9858703680753298,0.9963409747606742,0.9699857527476348,0.9883865464352456,0.9831723148342135,0.9549091245029014,0.9837778832979668,0.9604147672137552,0.9950804622925181,0.9597573683519537,0.9936668528508782,0.9772879557379545,0.986559146871665,0.9961984014750423,0.9610939719555334,0.9640432117665172,0.9855841837493132,0.9796398556933638,0.9730953523427842,0.9652130013941161,0.962239788290686,0.947945970782969,0.960638140993712,0.9845571406712633,0.9965503407439503,0.9968222818941866,0.9724580096772719,0.9665619690212225,0.9966427174852177,0.9638870612891426,0.9593090486140918,0.9758097641579954,0.9567772159812646,0.9679363858464065,0.9819689027905746,0.9693603715376863,0.9801393093030526,0.9299234795873516,0.9465098340994376,0.9930496606312751,0.9918468600600864,0.9925096695729185,0.9458525077122696,0.9516752690658193,0.9797969863960899,0.9353342884082199,0.985859936065696,0.9474987410926458,0.9618980490157281,0.9531472896816225,0.9715589852034809,0.9658574908063572,0.9698267801321916,0.9790129321368248,0.9455178176992467,0.9469999968641555,0.9920775523063887,0.9823844571796174,0.9803888406409137,0.9909064066200972,0.9267533662318106,0.9899742394050817,0.9926553644668615,0.9856449317717846,0.9820605762803247,0.9904205029429096,0.965452736684689,0.933008141043335,0.9659101719213463,0.9861392313649971,0.9858621505492672,0.9456135152315333]}},\"id\":\"c1447ca0-dd2a-42ab-a975-6f9db9afed1e\",\"type\":\"ColumnDataSource\"},{\"attributes\":{\"callback\":null,\"column_names\":[\"x\",\"y\"],\"data\":{\"x\":[74.16666666666667,74.16666666666667,108.33,86.25,86.25,117.08,117.08,117.08,86.25,86.25,108.33,108.33,86.25,108.33,86.25,86.25,71.67,86.25,86.25,109.58,71.67,108.33,109.58,108.33,108.33,108.33,86.25,109.58,108.33,71.67,117.08,109.58,86.25,102.5,102.5,109.58,109.58,71.67,86.25,109.58,86.25,86.25,109.58,102.5,109.58,71.67,108.33,74.16666666666667,86.25,86.25,102.5,102.5,108.33,108.33,109.58,71.67,74.16666666666667,86.25,86.25,117.08,86.25,86.25,86.25,74.16666666666667,102.5,102.5,109.58,71.67,109.58,116.3225252525253,106.5750505050505,108.330101010101,108.330101010101,85.46717171717172,85.46717171717172,71.31636363636363,101.3005050505051,101.3005050505051,106.5750505050505,100.1010101010101,84.68434343434343,115.5650505050505,70.96272727272728,84.68434343434343,107.080202020202,84.68434343434343,84.68434343434343,72.5,63.00595238095238,62.88690476190476,80.77380952380952,80.47619047619047,80.47619047619047,80.47619047619047,80.17857142857142,61.59226190476191,80.17857142857142,80.17857142857142,80.17857142857142,79.88095238095238,79.88095238095238,79.58333333333333,79.58333333333333,60.52083333333334,79.58333333333333,79.58333333333333,73.63095238095238,69.6875,69.6875,68.22916666666666,67.5,65.3125,63.85416666666666,63.125,62.39583333333334,60.20833333333334,60.20833333333334,60.20833333333334],\"y\":[0.9994902380255926,0.9998742265373366,0.9996736132315215,0.9968414508623775,0.9954258002542172,0.9967342595993173,0.992085840976731,0.986578224691448,0.995343274096233,0.9840445682348584,0.9960873695921426,0.9898538892437472,0.9946126527705274,0.9795647901841543,1.000009607356134,0.9864553604549715,0.96466423315077,0.9558416740581579,0.9796551104255611,0.9895058281805429,0.9872170797815002,0.9940852658252348,0.9891435921712439,0.952484404785866,0.9621777707902249,0.9480438501798963,0.9806152375272392,0.9846952842596066,0.9616912012941792,0.9907770685389383,0.9707938556117324,0.9946783051219202,0.9685768441979802,0.9781049614677182,0.9801650780451526,0.9734554540156615,0.9785541208979189,0.9521314759684772,0.9664928439351118,0.999900514273732,0.9941154598467588,0.9751870301772392,0.9918778630530519,0.9954222102925179,0.9887123518363826,0.990425507779316,0.995182098784574,0.9959421908517578,0.976655686713533,0.9781514150969912,0.9952614810940613,0.9996823602118782,0.992341133579219,0.9937406425278321,0.9828781539518924,1.000832887977357,0.9778597250546138,0.9996739271789619,0.9722406273633676,0.955911014006057,1.000035711145914,0.9999140267091563,0.9913644633789618,0.9739855942497346,0.9917443401385474,0.9952789736372065,1.000141636627325,0.9615847318412254,0.9679632636822021,0.9871930022441222,0.9431274690522965,0.9917860998648598,0.9788671427741189,0.9983606304463928,0.9892894692272443,0.9997341508313651,0.999904158841112,0.9977213045199567,0.9707048039448047,0.976452751837583,0.982631548725661,0.9596909943776016,0.9832979872064826,0.9829961569161236,0.985231573547001,0.9495754694693465,0.9807384097335903,0.9582751425939348,0.9887563379720957,0.944473354080636,0.9978675754522799,0.9669993932493796,0.9706374083602075,0.9961770514898534,0.9838563052938823,0.9738909153010794,0.9862492881507149,0.9913596361153137,0.9979932662225837,0.9920870346073958,0.9918085587172687,0.9939008862478362,0.9821761963412171,0.9930741396802779,0.987165015142882,0.9843593957963281,0.9965424438265303,0.9900707888615794,0.9975127990558633,0.9922576072215584,0.9938912709635732,0.9985076385560314,0.9917552141079357,0.996450740748424,0.9596793798352803,0.9859318456569135,0.9667220746000617,0.9782035852044072]}},\"id\":\"d159dfd2-e11c-4097-9998-25115d02bc8c\",\"type\":\"ColumnDataSource\"},{\"attributes\":{\"plot\":{\"id\":\"b13089ad-fab9-4181-bb98-cfb42eadf2b1\",\"subtype\":\"Figure\",\"type\":\"Plot\"},\"ticker\":{\"id\":\"c2b383a8-886b-4787-baa3-aa8c90bc813c\",\"type\":\"BasicTicker\"}},\"id\":\"71c6a778-358b-44cb-955d-4766a476a31b\",\"type\":\"Grid\"},{\"attributes\":{\"below\":[{\"id\":\"53b1a144-3cb9-47af-a3f8-26e5b2ee2925\",\"type\":\"LinearAxis\"}],\"left\":[{\"id\":\"43aa75a1-8284-40e3-8fec-cb7ade338cb1\",\"type\":\"LinearAxis\"}],\"plot_height\":500,\"plot_width\":800,\"renderers\":[{\"id\":\"53b1a144-3cb9-47af-a3f8-26e5b2ee2925\",\"type\":\"LinearAxis\"},{\"id\":\"71c6a778-358b-44cb-955d-4766a476a31b\",\"type\":\"Grid\"},{\"id\":\"43aa75a1-8284-40e3-8fec-cb7ade338cb1\",\"type\":\"LinearAxis\"},{\"id\":\"4327af5b-e57d-454c-bd3d-741624fdaeda\",\"type\":\"Grid\"},{\"id\":\"45577518-5d22-4434-9c78-2ec2c82ead25\",\"type\":\"BoxAnnotation\"},{\"id\":\"5ccff2bd-4bb6-4d0b-b586-7f919cd27340\",\"type\":\"Legend\"},{\"id\":\"8a100a3b-6173-4aef-9e51-af484ae34469\",\"type\":\"GlyphRenderer\"},{\"id\":\"9f614b88-6fdf-4f6d-b0c6-9869059e82ca\",\"type\":\"GlyphRenderer\"}],\"tool_events\":{\"id\":\"275b88a4-7f48-4e5f-ba64-e1c3eb17524c\",\"type\":\"ToolEvents\"},\"tools\":[{\"id\":\"13dc6afd-b08e-42d4-9e8f-659f2275c25b\",\"type\":\"PanTool\"},{\"id\":\"edf51cac-06e1-4bb3-811d-bbfe11e4af48\",\"type\":\"WheelZoomTool\"},{\"id\":\"a0caedf4-ccc4-4d15-8c5d-c60950dcf199\",\"type\":\"BoxZoomTool\"},{\"id\":\"f8120457-8419-40c7-b5d3-38e5e3bdb46a\",\"type\":\"PreviewSaveTool\"},{\"id\":\"8d7ac3e7-fd2d-456e-8e44-be757c179aad\",\"type\":\"ResizeTool\"},{\"id\":\"7b9b20a7-b551-4d0b-940d-a2e26d6cad14\",\"type\":\"ResetTool\"},{\"id\":\"cf2bd493-e1f0-4e04-b190-985158fc6e97\",\"type\":\"HelpTool\"}],\"x_range\":{\"id\":\"a5a666c8-498f-41c1-b656-49c16a976753\",\"type\":\"DataRange1d\"},\"y_range\":{\"id\":\"ff2c6eb4-008a-4bae-860c-a1c616b9b83d\",\"type\":\"DataRange1d\"}},\"id\":\"b13089ad-fab9-4181-bb98-cfb42eadf2b1\",\"subtype\":\"Figure\",\"type\":\"Plot\"},{\"attributes\":{\"plot\":{\"id\":\"b13089ad-fab9-4181-bb98-cfb42eadf2b1\",\"subtype\":\"Figure\",\"type\":\"Plot\"}},\"id\":\"13dc6afd-b08e-42d4-9e8f-659f2275c25b\",\"type\":\"PanTool\"},{\"attributes\":{\"fill_alpha\":{\"value\":0.5},\"fill_color\":{\"value\":\"blue\"},\"line_alpha\":{\"value\":0.5},\"line_color\":{\"value\":\"blue\"},\"size\":{\"units\":\"screen\",\"value\":10},\"x\":{\"field\":\"x\"},\"y\":{\"field\":\"y\"}},\"id\":\"e6b6026c-6deb-4abb-bcee-b901bcac4823\",\"type\":\"Triangle\"},{\"attributes\":{},\"id\":\"c2b383a8-886b-4787-baa3-aa8c90bc813c\",\"type\":\"BasicTicker\"},{\"attributes\":{\"fill_alpha\":{\"value\":0.1},\"fill_color\":{\"value\":\"#1f77b4\"},\"line_alpha\":{\"value\":0.1},\"line_color\":{\"value\":\"#1f77b4\"},\"size\":{\"units\":\"screen\",\"value\":10},\"x\":{\"field\":\"x\"},\"y\":{\"field\":\"y\"}},\"id\":\"6d636679-b085-4556-bdf2-8ce3dbbe0a3a\",\"type\":\"Circle\"},{\"attributes\":{},\"id\":\"366b4290-3586-4df3-a588-552fe77f4128\",\"type\":\"BasicTickFormatter\"},{\"attributes\":{\"plot\":{\"id\":\"b13089ad-fab9-4181-bb98-cfb42eadf2b1\",\"subtype\":\"Figure\",\"type\":\"Plot\"}},\"id\":\"cf2bd493-e1f0-4e04-b190-985158fc6e97\",\"type\":\"HelpTool\"},{\"attributes\":{\"legends\":[[\"Low vitamin A < 30\",[{\"id\":\"8a100a3b-6173-4aef-9e51-af484ae34469\",\"type\":\"GlyphRenderer\"}]],[\"High vitamin A > 60\",[{\"id\":\"9f614b88-6fdf-4f6d-b0c6-9869059e82ca\",\"type\":\"GlyphRenderer\"}]]],\"plot\":{\"id\":\"b13089ad-fab9-4181-bb98-cfb42eadf2b1\",\"subtype\":\"Figure\",\"type\":\"Plot\"}},\"id\":\"5ccff2bd-4bb6-4d0b-b586-7f919cd27340\",\"type\":\"Legend\"},{\"attributes\":{\"axis_label\":\"Vit A (IU/DL)\",\"formatter\":{\"id\":\"366b4290-3586-4df3-a588-552fe77f4128\",\"type\":\"BasicTickFormatter\"},\"plot\":{\"id\":\"b13089ad-fab9-4181-bb98-cfb42eadf2b1\",\"subtype\":\"Figure\",\"type\":\"Plot\"},\"ticker\":{\"id\":\"c2b383a8-886b-4787-baa3-aa8c90bc813c\",\"type\":\"BasicTicker\"}},\"id\":\"53b1a144-3cb9-47af-a3f8-26e5b2ee2925\",\"type\":\"LinearAxis\"},{\"attributes\":{\"fill_alpha\":{\"value\":0.1},\"fill_color\":{\"value\":\"#1f77b4\"},\"line_alpha\":{\"value\":0.1},\"line_color\":{\"value\":\"#1f77b4\"},\"size\":{\"units\":\"screen\",\"value\":10},\"x\":{\"field\":\"x\"},\"y\":{\"field\":\"y\"}},\"id\":\"468e55d3-c4b7-47d9-8f26-7471d9945aea\",\"type\":\"Triangle\"},{\"attributes\":{\"bottom_units\":\"screen\",\"fill_alpha\":{\"value\":0.5},\"fill_color\":{\"value\":\"lightgrey\"},\"left_units\":\"screen\",\"level\":\"overlay\",\"line_alpha\":{\"value\":1.0},\"line_color\":{\"value\":\"black\"},\"line_dash\":[4,4],\"line_width\":{\"value\":2},\"plot\":null,\"render_mode\":\"css\",\"right_units\":\"screen\",\"top_units\":\"screen\"},\"id\":\"45577518-5d22-4434-9c78-2ec2c82ead25\",\"type\":\"BoxAnnotation\"},{\"attributes\":{\"dimension\":1,\"plot\":{\"id\":\"b13089ad-fab9-4181-bb98-cfb42eadf2b1\",\"subtype\":\"Figure\",\"type\":\"Plot\"},\"ticker\":{\"id\":\"1c1c0e41-6cfd-4d86-a618-ec8b42e5eb0e\",\"type\":\"BasicTicker\"}},\"id\":\"4327af5b-e57d-454c-bd3d-741624fdaeda\",\"type\":\"Grid\"},{\"attributes\":{\"callback\":null},\"id\":\"ff2c6eb4-008a-4bae-860c-a1c616b9b83d\",\"type\":\"DataRange1d\"},{\"attributes\":{\"callback\":null},\"id\":\"a5a666c8-498f-41c1-b656-49c16a976753\",\"type\":\"DataRange1d\"},{\"attributes\":{\"data_source\":{\"id\":\"d159dfd2-e11c-4097-9998-25115d02bc8c\",\"type\":\"ColumnDataSource\"},\"glyph\":{\"id\":\"e6b6026c-6deb-4abb-bcee-b901bcac4823\",\"type\":\"Triangle\"},\"hover_glyph\":null,\"nonselection_glyph\":{\"id\":\"468e55d3-c4b7-47d9-8f26-7471d9945aea\",\"type\":\"Triangle\"},\"selection_glyph\":null},\"id\":\"9f614b88-6fdf-4f6d-b0c6-9869059e82ca\",\"type\":\"GlyphRenderer\"},{\"attributes\":{\"axis_label\":\"IPR\",\"formatter\":{\"id\":\"ff344670-15d9-402f-858b-6b9fc02f3e2c\",\"type\":\"BasicTickFormatter\"},\"plot\":{\"id\":\"b13089ad-fab9-4181-bb98-cfb42eadf2b1\",\"subtype\":\"Figure\",\"type\":\"Plot\"},\"ticker\":{\"id\":\"1c1c0e41-6cfd-4d86-a618-ec8b42e5eb0e\",\"type\":\"BasicTicker\"}},\"id\":\"43aa75a1-8284-40e3-8fec-cb7ade338cb1\",\"type\":\"LinearAxis\"},{\"attributes\":{\"plot\":{\"id\":\"b13089ad-fab9-4181-bb98-cfb42eadf2b1\",\"subtype\":\"Figure\",\"type\":\"Plot\"}},\"id\":\"edf51cac-06e1-4bb3-811d-bbfe11e4af48\",\"type\":\"WheelZoomTool\"},{\"attributes\":{\"plot\":{\"id\":\"b13089ad-fab9-4181-bb98-cfb42eadf2b1\",\"subtype\":\"Figure\",\"type\":\"Plot\"}},\"id\":\"f8120457-8419-40c7-b5d3-38e5e3bdb46a\",\"type\":\"PreviewSaveTool\"},{\"attributes\":{\"plot\":{\"id\":\"b13089ad-fab9-4181-bb98-cfb42eadf2b1\",\"subtype\":\"Figure\",\"type\":\"Plot\"}},\"id\":\"7b9b20a7-b551-4d0b-940d-a2e26d6cad14\",\"type\":\"ResetTool\"},{\"attributes\":{\"overlay\":{\"id\":\"45577518-5d22-4434-9c78-2ec2c82ead25\",\"type\":\"BoxAnnotation\"},\"plot\":{\"id\":\"b13089ad-fab9-4181-bb98-cfb42eadf2b1\",\"subtype\":\"Figure\",\"type\":\"Plot\"}},\"id\":\"a0caedf4-ccc4-4d15-8c5d-c60950dcf199\",\"type\":\"BoxZoomTool\"},{\"attributes\":{\"fill_alpha\":{\"value\":0.5},\"fill_color\":{\"value\":\"red\"},\"line_alpha\":{\"value\":0.5},\"line_color\":{\"value\":\"red\"},\"size\":{\"units\":\"screen\",\"value\":10},\"x\":{\"field\":\"x\"},\"y\":{\"field\":\"y\"}},\"id\":\"69d28a7b-9391-44ba-906d-76c21e4b88a1\",\"type\":\"Circle\"},{\"attributes\":{},\"id\":\"ff344670-15d9-402f-858b-6b9fc02f3e2c\",\"type\":\"BasicTickFormatter\"},{\"attributes\":{\"plot\":{\"id\":\"b13089ad-fab9-4181-bb98-cfb42eadf2b1\",\"subtype\":\"Figure\",\"type\":\"Plot\"}},\"id\":\"8d7ac3e7-fd2d-456e-8e44-be757c179aad\",\"type\":\"ResizeTool\"},{\"attributes\":{\"data_source\":{\"id\":\"c1447ca0-dd2a-42ab-a975-6f9db9afed1e\",\"type\":\"ColumnDataSource\"},\"glyph\":{\"id\":\"69d28a7b-9391-44ba-906d-76c21e4b88a1\",\"type\":\"Circle\"},\"hover_glyph\":null,\"nonselection_glyph\":{\"id\":\"6d636679-b085-4556-bdf2-8ce3dbbe0a3a\",\"type\":\"Circle\"},\"selection_glyph\":null},\"id\":\"8a100a3b-6173-4aef-9e51-af484ae34469\",\"type\":\"GlyphRenderer\"}],\"root_ids\":[\"b13089ad-fab9-4181-bb98-cfb42eadf2b1\"]},\"title\":\"Bokeh Application\",\"version\":\"0.11.1\"}};\n",
       "            var render_items = [{\"docid\":\"17267633-1f7a-4f20-94f6-838ff3909267\",\"elementid\":\"542ac5dc-96ad-4873-a522-54618477cb85\",\"modelid\":\"b13089ad-fab9-4181-bb98-cfb42eadf2b1\",\"notebook_comms_target\":\"16eb0057-d9bd-41fb-bdf2-b6bb32f2a5e2\"}];\n",
       "            \n",
       "            Bokeh.embed.embed_items(docs_json, render_items);\n",
       "        });\n",
       "      },\n",
       "      function(Bokeh) {\n",
       "      }\n",
       "    ];\n",
       "  \n",
       "    function run_inline_js() {\n",
       "      for (var i = 0; i < inline_js.length; i++) {\n",
       "        inline_js[i](window.Bokeh);\n",
       "      }\n",
       "    }\n",
       "  \n",
       "    if (window._bokeh_is_loading === 0) {\n",
       "      console.log(\"Bokeh: BokehJS loaded, going straight to plotting\");\n",
       "      run_inline_js();\n",
       "    } else {\n",
       "      load_libs(js_urls, function() {\n",
       "        console.log(\"Bokeh: BokehJS plotting callback run at\", now());\n",
       "        run_inline_js();\n",
       "      });\n",
       "    }\n",
       "  }(this));\n",
       "</script>"
      ]
     },
     "metadata": {},
     "output_type": "display_data"
    },
    {
     "data": {
      "text/html": [
       "<p><code>&lt;Bokeh Notebook handle for <strong>In[13]</strong>&gt;</code></p>"
      ],
      "text/plain": [
       "<bokeh.io._CommsHandle at 0x1163e1c88>"
      ]
     },
     "execution_count": 13,
     "metadata": {},
     "output_type": "execute_result"
    }
   ],
   "source": [
    "p = figure(width=800, height=500,  x_axis_label = \"Vit A (IU/DL)\",\n",
    "       y_axis_label = \"IPR\")\n",
    "p.circle(lvar_wo_df.vit_a,lvar_wo_df.svg_ipr, size=10, color=\"red\", alpha=0.5, legend=\"Low vitamin A < 30\")\n",
    "p.triangle(hvar_wo_df.vit_a,hvar_wo_df.svg_ipr, size=10, color=\"blue\", alpha=0.5, legend=\"High vitamin A > 60\")\n",
    "show(p)"
   ]
  },
  {
   "cell_type": "code",
   "execution_count": 41,
   "metadata": {
    "collapsed": false
   },
   "outputs": [
    {
     "name": "stderr",
     "output_type": "stream",
     "text": [
      "/Users/fitram/anaconda/envs/livestockwatch/lib/python3.5/site-packages/ipykernel/__main__.py:1: SettingWithCopyWarning: \n",
      "A value is trying to be set on a copy of a slice from a DataFrame.\n",
      "Try using .loc[row_indexer,col_indexer] = value instead\n",
      "\n",
      "See the caveats in the documentation: http://pandas.pydata.org/pandas-docs/stable/indexing.html#indexing-view-versus-copy\n",
      "  if __name__ == '__main__':\n",
      "/Users/fitram/anaconda/envs/livestockwatch/lib/python3.5/site-packages/ipykernel/__main__.py:3: SettingWithCopyWarning: \n",
      "A value is trying to be set on a copy of a slice from a DataFrame.\n",
      "Try using .loc[row_indexer,col_indexer] = value instead\n",
      "\n",
      "See the caveats in the documentation: http://pandas.pydata.org/pandas-docs/stable/indexing.html#indexing-view-versus-copy\n",
      "  app.launch_new_instance()\n"
     ]
    }
   ],
   "source": [
    "lvar_df[\"VADI\"] = \"LOW\"\n",
    "low_ipr = lvar_df[[\"ipr\",\"VADI\"]]\n",
    "hvar_df[\"VADI\"] = \"HIGH\"\n",
    "high_ipr = hvar_df[[\"ipr\",\"VADI\"]]"
   ]
  },
  {
   "cell_type": "code",
   "execution_count": 42,
   "metadata": {
    "collapsed": false
   },
   "outputs": [],
   "source": [
    "ipr_df = pd.concat([high_ipr, low_ipr]).reset_index()\n",
    "ipr_df = ipr_df.drop(\"index\", 1)\n",
    "ipr_df[\"fattening_period\"] = \"2014-2015\"\n",
    "ipr_writer = pd.ExcelWriter(os.path.join(\"/Users/fitram/Documents/BISE/master_thesis\",\"ipr_vadi.xlsx\"))\n",
    "ipr_df.to_excel(ipr_writer, sheet_name=\"WA02\", index=False)\n",
    "ipr_writer.save()"
   ]
  },
  {
   "cell_type": "code",
   "execution_count": null,
   "metadata": {
    "collapsed": true
   },
   "outputs": [],
   "source": []
  }
 ],
 "metadata": {
  "kernelspec": {
   "display_name": "Python 3",
   "language": "python",
   "name": "python3"
  },
  "language_info": {
   "codemirror_mode": {
    "name": "ipython",
    "version": 3
   },
   "file_extension": ".py",
   "mimetype": "text/x-python",
   "name": "python",
   "nbconvert_exporter": "python",
   "pygments_lexer": "ipython3",
   "version": "3.5.1"
  }
 },
 "nbformat": 4,
 "nbformat_minor": 0
}
