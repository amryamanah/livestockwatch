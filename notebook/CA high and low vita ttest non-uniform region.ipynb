{
 "cells": [
  {
   "cell_type": "code",
   "execution_count": 2,
   "metadata": {
    "collapsed": false
   },
   "outputs": [
    {
     "name": "stdout",
     "output_type": "stream",
     "text": [
      "[Errno 2] No such file or directory: 'logging.json'\n"
     ]
    },
    {
     "name": "stderr",
     "output_type": "stream",
     "text": [
      "/Users/fitram/anaconda/envs/livestockwatch/lib/python3.5/site-packages/matplotlib/__init__.py:1350: UserWarning:  This call to matplotlib.use() has no effect\n",
      "because the backend has already been chosen;\n",
      "matplotlib.use() must be called *before* pylab, matplotlib.pyplot,\n",
      "or matplotlib.backends is imported for the first time.\n",
      "\n",
      "  warnings.warn(_use_error_msg)\n"
     ]
    },
    {
     "data": {
      "text/html": [
       "\n",
       "    <div class=\"bk-banner\">\n",
       "        <a href=\"http://bokeh.pydata.org\" target=\"_blank\" class=\"bk-logo bk-logo-small bk-logo-notebook\"></a>\n",
       "        <span id=\"547fc2de-9b12-488d-b2ec-e02834cc249c\">Loading BokehJS ...</span>\n",
       "    </div>"
      ]
     },
     "metadata": {},
     "output_type": "display_data"
    },
    {
     "data": {
      "application/javascript": [
       "\n",
       "(function(global) {\n",
       "  function now() {\n",
       "    return new Date();\n",
       "  }\n",
       "\n",
       "  if (typeof (window._bokeh_onload_callbacks) === \"undefined\") {\n",
       "    window._bokeh_onload_callbacks = [];\n",
       "  }\n",
       "\n",
       "  function run_callbacks() {\n",
       "    window._bokeh_onload_callbacks.forEach(function(callback) { callback() });\n",
       "    delete window._bokeh_onload_callbacks\n",
       "    console.info(\"Bokeh: all callbacks have finished\");\n",
       "  }\n",
       "\n",
       "  function load_libs(js_urls, callback) {\n",
       "    window._bokeh_onload_callbacks.push(callback);\n",
       "    if (window._bokeh_is_loading > 0) {\n",
       "      console.log(\"Bokeh: BokehJS is being loaded, scheduling callback at\", now());\n",
       "      return null;\n",
       "    }\n",
       "    if (js_urls == null || js_urls.length === 0) {\n",
       "      run_callbacks();\n",
       "      return null;\n",
       "    }\n",
       "    console.log(\"Bokeh: BokehJS not loaded, scheduling load and callback at\", now());\n",
       "    window._bokeh_is_loading = js_urls.length;\n",
       "    for (var i = 0; i < js_urls.length; i++) {\n",
       "      var url = js_urls[i];\n",
       "      var s = document.createElement('script');\n",
       "      s.src = url;\n",
       "      s.async = false;\n",
       "      s.onreadystatechange = s.onload = function() {\n",
       "        window._bokeh_is_loading--;\n",
       "        if (window._bokeh_is_loading === 0) {\n",
       "          console.log(\"Bokeh: all BokehJS libraries loaded\");\n",
       "          run_callbacks()\n",
       "        }\n",
       "      };\n",
       "      s.onerror = function() {\n",
       "        console.warn(\"failed to load library \" + url);\n",
       "      };\n",
       "      console.log(\"Bokeh: injecting script tag for BokehJS library: \", url);\n",
       "      document.getElementsByTagName(\"head\")[0].appendChild(s);\n",
       "    }\n",
       "  };\n",
       "\n",
       "  var js_urls = ['https://cdn.pydata.org/bokeh/release/bokeh-0.11.1.min.js', 'https://cdn.pydata.org/bokeh/release/bokeh-widgets-0.11.1.min.js', 'https://cdn.pydata.org/bokeh/release/bokeh-compiler-0.11.1.min.js'];\n",
       "\n",
       "  var inline_js = [\n",
       "    function(Bokeh) {\n",
       "      Bokeh.set_log_level(\"info\");\n",
       "    },\n",
       "    \n",
       "    function(Bokeh) {\n",
       "      Bokeh.$(\"#547fc2de-9b12-488d-b2ec-e02834cc249c\").text(\"BokehJS successfully loaded\");\n",
       "    },\n",
       "    function(Bokeh) {\n",
       "      console.log(\"Bokeh: injecting CSS: https://cdn.pydata.org/bokeh/release/bokeh-0.11.1.min.css\");\n",
       "      Bokeh.embed.inject_css(\"https://cdn.pydata.org/bokeh/release/bokeh-0.11.1.min.css\");\n",
       "      console.log(\"Bokeh: injecting CSS: https://cdn.pydata.org/bokeh/release/bokeh-widgets-0.11.1.min.css\");\n",
       "      Bokeh.embed.inject_css(\"https://cdn.pydata.org/bokeh/release/bokeh-widgets-0.11.1.min.css\");\n",
       "    }\n",
       "  ];\n",
       "\n",
       "  function run_inline_js() {\n",
       "    for (var i = 0; i < inline_js.length; i++) {\n",
       "      inline_js[i](window.Bokeh);\n",
       "    }\n",
       "  }\n",
       "\n",
       "  if (window._bokeh_is_loading === 0) {\n",
       "    console.log(\"Bokeh: BokehJS loaded, going straight to plotting\");\n",
       "    run_inline_js();\n",
       "  } else {\n",
       "    load_libs(js_urls, function() {\n",
       "      console.log(\"Bokeh: BokehJS plotting callback run at\", now());\n",
       "      run_inline_js();\n",
       "    });\n",
       "  }\n",
       "}(this));"
      ]
     },
     "metadata": {},
     "output_type": "display_data"
    }
   ],
   "source": [
    "%matplotlib inline\n",
    "import os\n",
    "import pandas as pd\n",
    "import numpy as np\n",
    "import matplotlib.pyplot as plt\n",
    "import seaborn as sns\n",
    "from bokeh.plotting import figure, output_file, show, output_notebook\n",
    "from bokeh.charts import Bar\n",
    "import thinkstats2\n",
    "import thinkplot\n",
    "from scipy import stats\n",
    "from livestockwatch.manualdata_utils import DataProvider\n",
    "output_notebook()"
   ]
  },
  {
   "cell_type": "code",
   "execution_count": 3,
   "metadata": {
    "collapsed": true
   },
   "outputs": [],
   "source": [
    "def ttest_onesided(high_vita, low_vita, confidence_interval, ttest_variant=\"welch\"):\n",
    "    # Welch’s t-test, independent variable\n",
    "    high_vita_name, high_vita_dataset = high_vita\n",
    "    low_vita_name, low_vita_dataset = low_vita\n",
    "    \n",
    "    if ttest_variant == \"welch\":\n",
    "        tstat, pval = stats.ttest_ind(high_vita_dataset, low_vita_dataset, equal_var=False)\n",
    "    elif ttest_variant == \"student\":\n",
    "        tstat, pval = stats.ttest_rel(high_vita_dataset, low_vita_dataset)\n",
    "        \n",
    "    one_tailed_pval = pval/2\n",
    "    \n",
    "    pval_critical = 1 - (confidence_interval / 100)\n",
    "    print(\"PVALUE = {} (P-Critical = {})\".format(one_tailed_pval, pval_critical))\n",
    "    print(\"Tstatistics = {}\".format(tstat))\n",
    "    if one_tailed_pval < pval_critical:\n",
    "        print(\"PVALUE = {} (P-Critical = {})\".format(one_tailed_pval, pval_critical))\n",
    "        print(\"Tstatistics = {}\".format(tstat))\n",
    "        print(\"{} is significantly different than {}\".format(high_vita_name, low_vita_name))\n",
    "        if tstat > 0:\n",
    "            print(\"{} > {}\".format(high_vita_name, low_vita_name))\n",
    "        elif tstat < 0:\n",
    "            print(\"{} < {}\".format(high_vita_name, low_vita_name))\n",
    "    else:\n",
    "        print(\"High group is not significantly different\")\n",
    "\n",
    "def calculate_iqr_limit(series):\n",
    "    q1 = series.quantile(q=0.25)\n",
    "    q2 = series.quantile(q=0.5)\n",
    "    q3 = series.quantile(q=0.75)\n",
    "    iqr = q3 - q1\n",
    "    upper = q3 + 1.5*iqr\n",
    "    lower = q1 - 1.5*iqr\n",
    "    print(\"upper limit = {}\".format(upper))\n",
    "    print(\"lower limit = {}\".format(lower))\n",
    "    return float(upper), float(lower)\n",
    "\n",
    "def get_outlier(df, col_name):\n",
    "    uplim, lowlim = calculate_iqr_limit(df[col_name])\n",
    "    return df[(df[col_name] < lowlim) | df[col_name] > uplim]"
   ]
  },
  {
   "cell_type": "code",
   "execution_count": 4,
   "metadata": {
    "collapsed": false
   },
   "outputs": [],
   "source": [
    "ca_path = \"ca.xlsx\"\n",
    "if not os.path.exists(ca_path):\n",
    "    base_path = \"/Volumes/fitramhd/BISE/WA02_month/\"\n",
    "    lst_excel_path = [\n",
    "        os.path.join(base_path, \"2015-7-data.xlsx\"),\n",
    "        os.path.join(base_path, \"2015-6-data.xlsx\"),\n",
    "        os.path.join(base_path, \"manual_data.xlsx\")\n",
    "    ]\n",
    "    lst_ca_df = []\n",
    "\n",
    "    data_provider = DataProvider(excel_result_path=ca_path)\n",
    "\n",
    "    for excel_path in lst_excel_path:\n",
    "        ca_df, _ = data_provider.process_excel_ca(excel_path)\n",
    "        if not ca_df.empty:\n",
    "            lst_ca_df.append(ca_df)\n",
    "\n",
    "    lst_ca_df.append(data_provider.process_mongo_ca(\"livestockwatch\", \"cs1secfirstframe\"))\n",
    "\n",
    "    if lst_ca_df:\n",
    "        data_provider.save_plr_data(lst_ca_df)"
   ]
  },
  {
   "cell_type": "code",
   "execution_count": 5,
   "metadata": {
    "collapsed": true
   },
   "outputs": [],
   "source": [
    "excel_handler = pd.ExcelFile(\"ca.xlsx\")\n",
    "excel_data = pd.read_excel(excel_handler, sheetname=None)\n",
    "plr_df = excel_data[\"plr_all\"]"
   ]
  },
  {
   "cell_type": "code",
   "execution_count": 19,
   "metadata": {
    "collapsed": false
   },
   "outputs": [
    {
     "data": {
      "text/plain": [
       "(211, 27)"
      ]
     },
     "execution_count": 19,
     "metadata": {},
     "output_type": "execute_result"
    },
    {
     "data": {
      "image/png": "[encoded data removed]",
      "text/plain": [
       "<matplotlib.figure.Figure at 0x1178a1eb8>"
      ]
     },
     "metadata": {},
     "output_type": "display_data"
    }
   ],
   "source": [
    "plr_df.frametime.hist()\n",
    "# plr_df[plr_df.vit_a < 30].shape\n",
    "plr_df[(plr_df.vit_a < 30) & (plr_df.same_region == True)].shape"
   ]
  },
  {
   "cell_type": "markdown",
   "metadata": {
    "slideshow": {
     "slide_type": "slide"
    }
   },
   "source": [
    "# All region"
   ]
  },
  {
   "cell_type": "code",
   "execution_count": 6,
   "metadata": {
    "collapsed": false,
    "slideshow": {
     "slide_type": "subslide"
    }
   },
   "outputs": [
    {
     "name": "stdout",
     "output_type": "stream",
     "text": [
      "HIGH VITA ALL REGION\n",
      "count    21.000000\n",
      "mean      0.375970\n",
      "std       0.064430\n",
      "min       0.253664\n",
      "25%       0.320307\n",
      "50%       0.376286\n",
      "75%       0.423702\n",
      "max       0.504791\n",
      "Name: svg_ca, dtype: float64\n"
     ]
    },
    {
     "data": {
      "text/plain": [
       "<matplotlib.axes._subplots.AxesSubplot at 0x116365c18>"
      ]
     },
     "execution_count": 6,
     "metadata": {},
     "output_type": "execute_result"
    },
    {
     "data": {
      "image/png": "[encoded data removed]",
      "text/plain": [
       "<matplotlib.figure.Figure at 0x11635b320>"
      ]
     },
     "metadata": {},
     "output_type": "display_data"
    }
   ],
   "source": [
    "# HIGH VITA ALL REGION\n",
    "hvar_df = plr_df[(plr_df.vit_a > 60) & (plr_df.same_region == False)]\n",
    "\n",
    "# hvar_df = plr_df[(plr_df.vit_a > 60) & (plr_df.svg_ca > 0.5)]\n",
    "print(\"HIGH VITA ALL REGION\")\n",
    "print(hvar_df.svg_ca.describe())\n",
    "hvar_df.svg_ca.hist(bins=15)\n",
    "# a = hvar_df[[\"cattle_id\",\"cs_name\",\"timestamp\",\"svg_ca\"]]\n",
    "# a.sort(columns=[\"cattle_id\", \"timestamp\"])\n",
    "# # a[a.cattle_id==1445186816]\n",
    "# a"
   ]
  },
  {
   "cell_type": "code",
   "execution_count": 7,
   "metadata": {
    "collapsed": false
   },
   "outputs": [
    {
     "name": "stdout",
     "output_type": "stream",
     "text": [
      "upper limit = 0.5787934330194127\n",
      "lower limit = 0.16521546937552123\n",
      "HIGH VITA OUTLIER REMOVED\n",
      "count    21.000000\n",
      "mean      0.375970\n",
      "std       0.064430\n",
      "min       0.253664\n",
      "25%       0.320307\n",
      "50%       0.376286\n",
      "75%       0.423702\n",
      "max       0.504791\n",
      "Name: svg_ca, dtype: float64\n",
      "n = 21\n"
     ]
    },
    {
     "data": {
      "image/png": "[encoded data removed]",
      "text/plain": [
       "<matplotlib.figure.Figure at 0x1165096d8>"
      ]
     },
     "metadata": {},
     "output_type": "display_data"
    }
   ],
   "source": [
    "# HIGH VITA ALL REGION OUTLIER REMOVED\n",
    "hvar_up_lim, hvar_low_lim = calculate_iqr_limit(hvar_df.svg_ca)\n",
    "hvar_wo_df = hvar_df[(hvar_low_lim <= hvar_df.svg_ca) & (hvar_df.svg_ca <= hvar_up_lim)]\n",
    "print(\"HIGH VITA OUTLIER REMOVED\")\n",
    "print(hvar_wo_df.svg_ca.describe())\n",
    "hvar_wo_df.svg_ca.hist(bins=15)\n",
    "print(\"n = {}\".format(len(hvar_wo_df)))"
   ]
  },
  {
   "cell_type": "code",
   "execution_count": 8,
   "metadata": {
    "collapsed": false
   },
   "outputs": [
    {
     "name": "stdout",
     "output_type": "stream",
     "text": [
      "upper limit = 0.5787934330194127\n",
      "lower limit = 0.16521546937552123\n"
     ]
    }
   ],
   "source": [
    "hvar_outlier_df = get_outlier(hvar_df, \"svg_ca\")\n",
    "# hvar_outlier_df[[\"cs_name\", \"svg_ca\"]]"
   ]
  },
  {
   "cell_type": "code",
   "execution_count": 9,
   "metadata": {
    "collapsed": false
   },
   "outputs": [
    {
     "name": "stdout",
     "output_type": "stream",
     "text": [
      "LOW VITA ALL REGION\n",
      "count    25.000000\n",
      "mean      0.366821\n",
      "std       0.134000\n",
      "min       0.096565\n",
      "25%       0.285401\n",
      "50%       0.346632\n",
      "75%       0.466782\n",
      "max       0.649408\n",
      "Name: svg_ca, dtype: float64\n"
     ]
    },
    {
     "data": {
      "text/plain": [
       "<matplotlib.axes._subplots.AxesSubplot at 0x1166094a8>"
      ]
     },
     "execution_count": 9,
     "metadata": {},
     "output_type": "execute_result"
    },
    {
     "data": {
      "image/png": "[encoded data removed]",
      "text/plain": [
       "<matplotlib.figure.Figure at 0x116365dd8>"
      ]
     },
     "metadata": {},
     "output_type": "display_data"
    }
   ],
   "source": [
    "# LOW VITA ALL REGION\n",
    "lvar_df = plr_df[(plr_df.vit_a < 30) & (plr_df.same_region == False)]\n",
    "\n",
    "# lvar_df = plr_df[(plr_df.vit_a < 30) & (plr_df.svg_ca < 0.3)]\n",
    "print(\"LOW VITA ALL REGION\")\n",
    "print(lvar_df.svg_ca.describe())\n",
    "lvar_df.svg_ca.hist()\n",
    "\n",
    "# a = lvar_df[[\"cattle_id\",\"cs_name\",\"timestamp\",\"svg_ca\"]]\n",
    "# a.sort(columns=[\"cattle_id\", \"timestamp\"])\n",
    "# # a[a.cattle_id==1445186816]\n",
    "# a\n",
    "# from pymongo import MongoClient\n",
    "# client = MongoClient()\n",
    "# db = client['livestockwatch']\n",
    "# collection = db['cs1secfirstframe']\n",
    "# for cs_name in a.cs_name:\n",
    "#     garbage = collection.delete_one({\"cs_name\": cs_name})\n",
    "#     print(garbage)"
   ]
  },
  {
   "cell_type": "code",
   "execution_count": 10,
   "metadata": {
    "collapsed": false
   },
   "outputs": [
    {
     "name": "stdout",
     "output_type": "stream",
     "text": [
      "upper limit = 0.7388530458377143\n",
      "lower limit = 0.013330391971755562\n",
      "LOW VITA ALL REGION OUTLIER REMOVED\n",
      "count    25.000000\n",
      "mean      0.366821\n",
      "std       0.134000\n",
      "min       0.096565\n",
      "25%       0.285401\n",
      "50%       0.346632\n",
      "75%       0.466782\n",
      "max       0.649408\n",
      "Name: svg_ca, dtype: float64\n",
      "n = 25\n"
     ]
    },
    {
     "data": {
      "image/png": "[encoded data removed]",
      "text/plain": [
       "<matplotlib.figure.Figure at 0x1168e0748>"
      ]
     },
     "metadata": {},
     "output_type": "display_data"
    }
   ],
   "source": [
    "# LOW VITA ALL REGION OUTLIER REMOVED\n",
    "lvar_up_lim, lvar_low_lim = calculate_iqr_limit(lvar_df.svg_ca)\n",
    "lvar_wo_df = lvar_df[(lvar_low_lim <= lvar_df.svg_ca) & (lvar_df.svg_ca <= lvar_up_lim)]\n",
    "print(\"LOW VITA ALL REGION OUTLIER REMOVED\")\n",
    "print(lvar_wo_df.svg_ca.describe())\n",
    "lvar_wo_df.svg_ca.hist(bins=15)\n",
    "print(\"n = {}\".format(len(lvar_wo_df)))"
   ]
  },
  {
   "cell_type": "code",
   "execution_count": 11,
   "metadata": {
    "collapsed": false
   },
   "outputs": [
    {
     "name": "stdout",
     "output_type": "stream",
     "text": [
      "21\n",
      "count    21.000000\n",
      "mean      0.375970\n",
      "std       0.064430\n",
      "min       0.253664\n",
      "25%       0.320307\n",
      "50%       0.376286\n",
      "75%       0.423702\n",
      "max       0.504791\n",
      "Name: svg_ca, dtype: float64\n"
     ]
    },
    {
     "data": {
      "text/plain": [
       "<matplotlib.axes._subplots.AxesSubplot at 0x1169f7710>"
      ]
     },
     "execution_count": 11,
     "metadata": {},
     "output_type": "execute_result"
    },
    {
     "data": {
      "image/png": "[encoded data removed]",
      "text/plain": [
       "<matplotlib.figure.Figure at 0x116342cc0>"
      ]
     },
     "metadata": {},
     "output_type": "display_data"
    }
   ],
   "source": [
    "ca_high_RA = hvar_wo_df.svg_ca\n",
    "print(ca_high_RA.shape[0])\n",
    "print(ca_high_RA.describe())\n",
    "ca_high_RA.hist()"
   ]
  },
  {
   "cell_type": "code",
   "execution_count": 12,
   "metadata": {
    "collapsed": false
   },
   "outputs": [
    {
     "name": "stdout",
     "output_type": "stream",
     "text": [
      "25\n",
      "count    25.000000\n",
      "mean      0.366821\n",
      "std       0.134000\n",
      "min       0.096565\n",
      "25%       0.285401\n",
      "50%       0.346632\n",
      "75%       0.466782\n",
      "max       0.649408\n",
      "Name: svg_ca, dtype: float64\n"
     ]
    },
    {
     "data": {
      "image/png": "[encoded data removed]",
      "text/plain": [
       "<matplotlib.figure.Figure at 0x1169d3ba8>"
      ]
     },
     "metadata": {},
     "output_type": "display_data"
    }
   ],
   "source": [
    "ca_low_RA_s = lvar_wo_df.svg_ca.sample(n=ca_high_RA.shape[0])\n",
    "ca_low_RA = lvar_wo_df.svg_ca\n",
    "ca_low_RA.hist()\n",
    "print(ca_low_RA.shape[0])\n",
    "print(ca_low_RA.describe())\n",
    "# print(ca_low_RA)"
   ]
  },
  {
   "cell_type": "markdown",
   "metadata": {},
   "source": [
    "## T-test dependent"
   ]
  },
  {
   "cell_type": "code",
   "execution_count": 13,
   "metadata": {
    "collapsed": false
   },
   "outputs": [
    {
     "name": "stdout",
     "output_type": "stream",
     "text": [
      "High group is not significantly different\n"
     ]
    }
   ],
   "source": [
    "ttest_onesided((\"CA High all region\",ca_high_RA), (\"CA low all region\",ca_low_RA_s), 95, ttest_variant=\"student\")"
   ]
  },
  {
   "cell_type": "markdown",
   "metadata": {},
   "source": [
    "## Welch’s t-test, independent variable, 95 % confidence interval"
   ]
  },
  {
   "cell_type": "code",
   "execution_count": 17,
   "metadata": {
    "collapsed": false
   },
   "outputs": [
    {
     "name": "stdout",
     "output_type": "stream",
     "text": [
      "PVALUE = 0.3820863131519793 (P-Critical = 0.050000000000000044)\n",
      "Tstatistics = 0.3023017196537523\n",
      "High group is not significantly different\n"
     ]
    }
   ],
   "source": [
    "ttest_onesided((\"CA High all region\",hvar_df.svg_ca), (\"CA low all region\",lvar_df.svg_ca), 95, ttest_variant=\"welch\")"
   ]
  },
  {
   "cell_type": "code",
   "execution_count": 16,
   "metadata": {
    "collapsed": false
   },
   "outputs": [
    {
     "data": {
      "text/html": [
       "\n",
       "\n",
       "    <div class=\"plotdiv\" id=\"41847899-ea44-4c0e-8154-c09ae60f0fa1\"></div>\n",
       "<script type=\"text/javascript\">\n",
       "  \n",
       "  (function(global) {\n",
       "    function now() {\n",
       "      return new Date();\n",
       "    }\n",
       "  \n",
       "    if (typeof (window._bokeh_onload_callbacks) === \"undefined\") {\n",
       "      window._bokeh_onload_callbacks = [];\n",
       "    }\n",
       "  \n",
       "    function run_callbacks() {\n",
       "      window._bokeh_onload_callbacks.forEach(function(callback) { callback() });\n",
       "      delete window._bokeh_onload_callbacks\n",
       "      console.info(\"Bokeh: all callbacks have finished\");\n",
       "    }\n",
       "  \n",
       "    function load_libs(js_urls, callback) {\n",
       "      window._bokeh_onload_callbacks.push(callback);\n",
       "      if (window._bokeh_is_loading > 0) {\n",
       "        console.log(\"Bokeh: BokehJS is being loaded, scheduling callback at\", now());\n",
       "        return null;\n",
       "      }\n",
       "      if (js_urls == null || js_urls.length === 0) {\n",
       "        run_callbacks();\n",
       "        return null;\n",
       "      }\n",
       "      console.log(\"Bokeh: BokehJS not loaded, scheduling load and callback at\", now());\n",
       "      window._bokeh_is_loading = js_urls.length;\n",
       "      for (var i = 0; i < js_urls.length; i++) {\n",
       "        var url = js_urls[i];\n",
       "        var s = document.createElement('script');\n",
       "        s.src = url;\n",
       "        s.async = false;\n",
       "        s.onreadystatechange = s.onload = function() {\n",
       "          window._bokeh_is_loading--;\n",
       "          if (window._bokeh_is_loading === 0) {\n",
       "            console.log(\"Bokeh: all BokehJS libraries loaded\");\n",
       "            run_callbacks()\n",
       "          }\n",
       "        };\n",
       "        s.onerror = function() {\n",
       "          console.warn(\"failed to load library \" + url);\n",
       "        };\n",
       "        console.log(\"Bokeh: injecting script tag for BokehJS library: \", url);\n",
       "        document.getElementsByTagName(\"head\")[0].appendChild(s);\n",
       "      }\n",
       "    };var element = document.getElementById(\"41847899-ea44-4c0e-8154-c09ae60f0fa1\");\n",
       "    if (element == null) {\n",
       "      console.log(\"Bokeh: ERROR: autoload.js configured with elementid '41847899-ea44-4c0e-8154-c09ae60f0fa1' but no matching script tag was found. \")\n",
       "      return false;\n",
       "    }\n",
       "  \n",
       "    var js_urls = [];\n",
       "  \n",
       "    var inline_js = [\n",
       "      function(Bokeh) {\n",
       "        Bokeh.$(function() {\n",
       "            var docs_json = {\"dc568d6a-a290-4ca7-9906-b0e64ef9f764\":{\"roots\":{\"references\":[{\"attributes\":{\"axis_label\":\"Vit A (IU/DL)\",\"formatter\":{\"id\":\"a56122a0-e3ca-455d-a8f5-1b32c0b7f3d7\",\"type\":\"BasicTickFormatter\"},\"plot\":{\"id\":\"e404a6a8-a8f6-4373-91d2-8dd03725d729\",\"subtype\":\"Figure\",\"type\":\"Plot\"},\"ticker\":{\"id\":\"afcc1ade-b1d1-4eb5-9c5c-6a94cd266f2f\",\"type\":\"BasicTicker\"}},\"id\":\"28a0fede-4c0e-4ba1-95d7-6242aefa33b7\",\"type\":\"LinearAxis\"},{\"attributes\":{\"axis_label\":\"CA\",\"formatter\":{\"id\":\"4cdaa30b-2a35-478d-b455-3aaf60d4d01d\",\"type\":\"BasicTickFormatter\"},\"plot\":{\"id\":\"e404a6a8-a8f6-4373-91d2-8dd03725d729\",\"subtype\":\"Figure\",\"type\":\"Plot\"},\"ticker\":{\"id\":\"656ccaf7-953d-49b3-ad99-ec9dc4c0edc6\",\"type\":\"BasicTicker\"}},\"id\":\"69378f73-e4aa-4f60-b6e7-5113d7ab5760\",\"type\":\"LinearAxis\"},{\"attributes\":{\"callback\":null},\"id\":\"c06c9260-8d06-443a-83f1-69b9f878fea7\",\"type\":\"DataRange1d\"},{\"attributes\":{\"plot\":{\"id\":\"e404a6a8-a8f6-4373-91d2-8dd03725d729\",\"subtype\":\"Figure\",\"type\":\"Plot\"}},\"id\":\"7e4bbc02-a3c7-4d19-b18a-a23ace351bdb\",\"type\":\"ResetTool\"},{\"attributes\":{\"dimension\":1,\"plot\":{\"id\":\"e404a6a8-a8f6-4373-91d2-8dd03725d729\",\"subtype\":\"Figure\",\"type\":\"Plot\"},\"ticker\":{\"id\":\"656ccaf7-953d-49b3-ad99-ec9dc4c0edc6\",\"type\":\"BasicTicker\"}},\"id\":\"16b3ce4f-1f6e-4b6a-a36e-5d081a82eeac\",\"type\":\"Grid\"},{\"attributes\":{\"fill_alpha\":{\"value\":0.1},\"fill_color\":{\"value\":\"#1f77b4\"},\"line_alpha\":{\"value\":0.1},\"line_color\":{\"value\":\"#1f77b4\"},\"size\":{\"units\":\"screen\",\"value\":10},\"x\":{\"field\":\"x\"},\"y\":{\"field\":\"y\"}},\"id\":\"4fde4956-9e03-47e8-ba5a-a3d819847981\",\"type\":\"Triangle\"},{\"attributes\":{\"callback\":null,\"column_names\":[\"x\",\"y\"],\"data\":{\"x\":[108.33,117.08,109.58,71.67,86.25,109.58,102.5,109.58,108.33,86.25,117.08,102.5,100.1010101010101,62.93154761904762,80.47619047619047,80.47619047619047,61.59226190476191,80.17857142857142,80.17857142857142,79.58333333333333,79.58333333333333],\"y\":[0.3789286243493864,0.3096034048416476,0.3626583216556241,0.4702425983776693,0.3159822449555015,0.4053045482016177,0.5047914970059891,0.2536641511054063,0.2850951545947307,0.3203072057419805,0.4237016966529534,0.3429986528724326,0.4548344791164633,0.4545275700536376,0.3182245639329405,0.3852055264737644,0.355838365938734,0.4244006981090034,0.3652303918589792,0.3762860571942186,0.3875376636308705]}},\"id\":\"a515b5c5-db41-450c-9c90-8cfff2d7f95c\",\"type\":\"ColumnDataSource\"},{\"attributes\":{\"plot\":{\"id\":\"e404a6a8-a8f6-4373-91d2-8dd03725d729\",\"subtype\":\"Figure\",\"type\":\"Plot\"},\"ticker\":{\"id\":\"afcc1ade-b1d1-4eb5-9c5c-6a94cd266f2f\",\"type\":\"BasicTicker\"}},\"id\":\"f4973503-b275-4c18-9700-b318b4b2f3f8\",\"type\":\"Grid\"},{\"attributes\":{\"plot\":{\"id\":\"e404a6a8-a8f6-4373-91d2-8dd03725d729\",\"subtype\":\"Figure\",\"type\":\"Plot\"}},\"id\":\"4ee997a0-f642-471f-a4b3-3cf3f51c4713\",\"type\":\"PanTool\"},{\"attributes\":{\"callback\":null},\"id\":\"379901f8-a62f-4aa6-ab92-63cbc71cd470\",\"type\":\"DataRange1d\"},{\"attributes\":{},\"id\":\"53abb438-7e5a-4f98-998a-ca19f7780d28\",\"type\":\"ToolEvents\"},{\"attributes\":{\"plot\":{\"id\":\"e404a6a8-a8f6-4373-91d2-8dd03725d729\",\"subtype\":\"Figure\",\"type\":\"Plot\"}},\"id\":\"ae110ffc-13f3-40b1-b9a4-39cd346bd2e7\",\"type\":\"HelpTool\"},{\"attributes\":{\"fill_alpha\":{\"value\":0.5},\"fill_color\":{\"value\":\"blue\"},\"line_alpha\":{\"value\":0.5},\"line_color\":{\"value\":\"blue\"},\"size\":{\"units\":\"screen\",\"value\":10},\"x\":{\"field\":\"x\"},\"y\":{\"field\":\"y\"}},\"id\":\"64e90573-1f82-4337-ad74-5082ca1e3339\",\"type\":\"Triangle\"},{\"attributes\":{},\"id\":\"656ccaf7-953d-49b3-ad99-ec9dc4c0edc6\",\"type\":\"BasicTicker\"},{\"attributes\":{},\"id\":\"a56122a0-e3ca-455d-a8f5-1b32c0b7f3d7\",\"type\":\"BasicTickFormatter\"},{\"attributes\":{},\"id\":\"4cdaa30b-2a35-478d-b455-3aaf60d4d01d\",\"type\":\"BasicTickFormatter\"},{\"attributes\":{\"data_source\":{\"id\":\"a515b5c5-db41-450c-9c90-8cfff2d7f95c\",\"type\":\"ColumnDataSource\"},\"glyph\":{\"id\":\"64e90573-1f82-4337-ad74-5082ca1e3339\",\"type\":\"Triangle\"},\"hover_glyph\":null,\"nonselection_glyph\":{\"id\":\"4fde4956-9e03-47e8-ba5a-a3d819847981\",\"type\":\"Triangle\"},\"selection_glyph\":null},\"id\":\"6232bc34-e55d-4aa5-a466-245c5ef15670\",\"type\":\"GlyphRenderer\"},{\"attributes\":{\"legends\":[[\"Low vitamin A < 35\",[{\"id\":\"81550710-8dbf-4c7b-be1b-f4506a06a31d\",\"type\":\"GlyphRenderer\"}]],[\"High vitamin A > 60\",[{\"id\":\"6232bc34-e55d-4aa5-a466-245c5ef15670\",\"type\":\"GlyphRenderer\"}]]],\"plot\":{\"id\":\"e404a6a8-a8f6-4373-91d2-8dd03725d729\",\"subtype\":\"Figure\",\"type\":\"Plot\"}},\"id\":\"2747b928-ad5b-4d58-abee-d924ab1d8bae\",\"type\":\"Legend\"},{\"attributes\":{\"fill_alpha\":{\"value\":0.1},\"fill_color\":{\"value\":\"#1f77b4\"},\"line_alpha\":{\"value\":0.1},\"line_color\":{\"value\":\"#1f77b4\"},\"size\":{\"units\":\"screen\",\"value\":10},\"x\":{\"field\":\"x\"},\"y\":{\"field\":\"y\"}},\"id\":\"3d02822e-25ae-4ac2-8c54-c2028b1d34e0\",\"type\":\"Circle\"},{\"attributes\":{\"callback\":null,\"column_names\":[\"x\",\"y\"],\"data\":{\"x\":[25.05952380952381,22.85714285714285,22.67857142857143,22.29166666666667,23.33333333333334,23.33333333333334,29.58333333333334,29.58333333333334,26.04166666666666,26.875,26.875,26.875,29.64285714285715,27.02380952380953,27.32142857142857,28.80952380952381,28.00595238095238,29.34523809523809,29.22619047619047,29.22619047619047,28.75,28.98809523809524,29.34523809523809,29.94047619047619,29.10714285714286],\"y\":[0.4930102842293626,0.4097184068475454,0.6494076382370049,0.3803812747562862,0.5157508749161064,0.3022918535286305,0.1693966472051699,0.0965653702797333,0.3367710599702613,0.2370927103484273,0.597858352292281,0.5513289696156131,0.4667820506379798,0.3466321781905669,0.2139709801753504,0.2676488790244426,0.4887675476070167,0.4416107953381134,0.3513916647649204,0.3645400326240577,0.3096569496017841,0.2991117294225739,0.2854013871714901,0.323144067326709,0.2722877557932707]}},\"id\":\"2490e81e-9eca-4808-810b-db67aaf74ef9\",\"type\":\"ColumnDataSource\"},{\"attributes\":{\"plot\":{\"id\":\"e404a6a8-a8f6-4373-91d2-8dd03725d729\",\"subtype\":\"Figure\",\"type\":\"Plot\"}},\"id\":\"85782d2b-f1da-4d77-be1a-19d4b9f42e92\",\"type\":\"PreviewSaveTool\"},{\"attributes\":{\"fill_alpha\":{\"value\":0.5},\"fill_color\":{\"value\":\"red\"},\"line_alpha\":{\"value\":0.5},\"line_color\":{\"value\":\"red\"},\"size\":{\"units\":\"screen\",\"value\":10},\"x\":{\"field\":\"x\"},\"y\":{\"field\":\"y\"}},\"id\":\"e57e4f4b-40b7-4da0-b6ed-962c4c8df23e\",\"type\":\"Circle\"},{\"attributes\":{\"plot\":{\"id\":\"e404a6a8-a8f6-4373-91d2-8dd03725d729\",\"subtype\":\"Figure\",\"type\":\"Plot\"}},\"id\":\"63cc86f2-c472-4642-a726-80c24fd6258a\",\"type\":\"ResizeTool\"},{\"attributes\":{},\"id\":\"afcc1ade-b1d1-4eb5-9c5c-6a94cd266f2f\",\"type\":\"BasicTicker\"},{\"attributes\":{\"below\":[{\"id\":\"28a0fede-4c0e-4ba1-95d7-6242aefa33b7\",\"type\":\"LinearAxis\"}],\"left\":[{\"id\":\"69378f73-e4aa-4f60-b6e7-5113d7ab5760\",\"type\":\"LinearAxis\"}],\"plot_height\":500,\"plot_width\":800,\"renderers\":[{\"id\":\"28a0fede-4c0e-4ba1-95d7-6242aefa33b7\",\"type\":\"LinearAxis\"},{\"id\":\"f4973503-b275-4c18-9700-b318b4b2f3f8\",\"type\":\"Grid\"},{\"id\":\"69378f73-e4aa-4f60-b6e7-5113d7ab5760\",\"type\":\"LinearAxis\"},{\"id\":\"16b3ce4f-1f6e-4b6a-a36e-5d081a82eeac\",\"type\":\"Grid\"},{\"id\":\"dc90f650-f22b-4b63-89cb-19544cddfb14\",\"type\":\"BoxAnnotation\"},{\"id\":\"2747b928-ad5b-4d58-abee-d924ab1d8bae\",\"type\":\"Legend\"},{\"id\":\"81550710-8dbf-4c7b-be1b-f4506a06a31d\",\"type\":\"GlyphRenderer\"},{\"id\":\"6232bc34-e55d-4aa5-a466-245c5ef15670\",\"type\":\"GlyphRenderer\"}],\"tool_events\":{\"id\":\"53abb438-7e5a-4f98-998a-ca19f7780d28\",\"type\":\"ToolEvents\"},\"tools\":[{\"id\":\"4ee997a0-f642-471f-a4b3-3cf3f51c4713\",\"type\":\"PanTool\"},{\"id\":\"7b5c1cea-8479-44de-9f6e-5fe8ba99fc4c\",\"type\":\"WheelZoomTool\"},{\"id\":\"59c36780-c04e-45ae-8b47-684ef357a012\",\"type\":\"BoxZoomTool\"},{\"id\":\"85782d2b-f1da-4d77-be1a-19d4b9f42e92\",\"type\":\"PreviewSaveTool\"},{\"id\":\"63cc86f2-c472-4642-a726-80c24fd6258a\",\"type\":\"ResizeTool\"},{\"id\":\"7e4bbc02-a3c7-4d19-b18a-a23ace351bdb\",\"type\":\"ResetTool\"},{\"id\":\"ae110ffc-13f3-40b1-b9a4-39cd346bd2e7\",\"type\":\"HelpTool\"}],\"x_range\":{\"id\":\"379901f8-a62f-4aa6-ab92-63cbc71cd470\",\"type\":\"DataRange1d\"},\"y_range\":{\"id\":\"c06c9260-8d06-443a-83f1-69b9f878fea7\",\"type\":\"DataRange1d\"}},\"id\":\"e404a6a8-a8f6-4373-91d2-8dd03725d729\",\"subtype\":\"Figure\",\"type\":\"Plot\"},{\"attributes\":{\"overlay\":{\"id\":\"dc90f650-f22b-4b63-89cb-19544cddfb14\",\"type\":\"BoxAnnotation\"},\"plot\":{\"id\":\"e404a6a8-a8f6-4373-91d2-8dd03725d729\",\"subtype\":\"Figure\",\"type\":\"Plot\"}},\"id\":\"59c36780-c04e-45ae-8b47-684ef357a012\",\"type\":\"BoxZoomTool\"},{\"attributes\":{\"plot\":{\"id\":\"e404a6a8-a8f6-4373-91d2-8dd03725d729\",\"subtype\":\"Figure\",\"type\":\"Plot\"}},\"id\":\"7b5c1cea-8479-44de-9f6e-5fe8ba99fc4c\",\"type\":\"WheelZoomTool\"},{\"attributes\":{\"data_source\":{\"id\":\"2490e81e-9eca-4808-810b-db67aaf74ef9\",\"type\":\"ColumnDataSource\"},\"glyph\":{\"id\":\"e57e4f4b-40b7-4da0-b6ed-962c4c8df23e\",\"type\":\"Circle\"},\"hover_glyph\":null,\"nonselection_glyph\":{\"id\":\"3d02822e-25ae-4ac2-8c54-c2028b1d34e0\",\"type\":\"Circle\"},\"selection_glyph\":null},\"id\":\"81550710-8dbf-4c7b-be1b-f4506a06a31d\",\"type\":\"GlyphRenderer\"},{\"attributes\":{\"bottom_units\":\"screen\",\"fill_alpha\":{\"value\":0.5},\"fill_color\":{\"value\":\"lightgrey\"},\"left_units\":\"screen\",\"level\":\"overlay\",\"line_alpha\":{\"value\":1.0},\"line_color\":{\"value\":\"black\"},\"line_dash\":[4,4],\"line_width\":{\"value\":2},\"plot\":null,\"render_mode\":\"css\",\"right_units\":\"screen\",\"top_units\":\"screen\"},\"id\":\"dc90f650-f22b-4b63-89cb-19544cddfb14\",\"type\":\"BoxAnnotation\"}],\"root_ids\":[\"e404a6a8-a8f6-4373-91d2-8dd03725d729\"]},\"title\":\"Bokeh Application\",\"version\":\"0.11.1\"}};\n",
       "            var render_items = [{\"docid\":\"dc568d6a-a290-4ca7-9906-b0e64ef9f764\",\"elementid\":\"41847899-ea44-4c0e-8154-c09ae60f0fa1\",\"modelid\":\"e404a6a8-a8f6-4373-91d2-8dd03725d729\",\"notebook_comms_target\":\"90b60d83-d39d-4fb1-9648-379749ae201d\"}];\n",
       "            \n",
       "            Bokeh.embed.embed_items(docs_json, render_items);\n",
       "        });\n",
       "      },\n",
       "      function(Bokeh) {\n",
       "      }\n",
       "    ];\n",
       "  \n",
       "    function run_inline_js() {\n",
       "      for (var i = 0; i < inline_js.length; i++) {\n",
       "        inline_js[i](window.Bokeh);\n",
       "      }\n",
       "    }\n",
       "  \n",
       "    if (window._bokeh_is_loading === 0) {\n",
       "      console.log(\"Bokeh: BokehJS loaded, going straight to plotting\");\n",
       "      run_inline_js();\n",
       "    } else {\n",
       "      load_libs(js_urls, function() {\n",
       "        console.log(\"Bokeh: BokehJS plotting callback run at\", now());\n",
       "        run_inline_js();\n",
       "      });\n",
       "    }\n",
       "  }(this));\n",
       "</script>"
      ]
     },
     "metadata": {},
     "output_type": "display_data"
    },
    {
     "data": {
      "text/html": [
       "<p><code>&lt;Bokeh Notebook handle for <strong>In[16]</strong>&gt;</code></p>"
      ],
      "text/plain": [
       "<bokeh.io._CommsHandle at 0x11652d7f0>"
      ]
     },
     "execution_count": 16,
     "metadata": {},
     "output_type": "execute_result"
    }
   ],
   "source": [
    "p = figure(width=800, height=500,  x_axis_label = \"Vit A (IU/DL)\",\n",
    "       y_axis_label = \"CA\")\n",
    "p.circle(lvar_wo_df.vit_a,lvar_wo_df.svg_ca, size=10, color=\"red\", alpha=0.5, legend=\"Low vitamin A < 35\")\n",
    "p.triangle(hvar_wo_df.vit_a,hvar_wo_df.svg_ca, size=10, color=\"blue\", alpha=0.5, legend=\"High vitamin A > 60\")\n",
    "show(p)"
   ]
  },
  {
   "cell_type": "markdown",
   "metadata": {},
   "source": [
    "# Region 2"
   ]
  },
  {
   "cell_type": "code",
   "execution_count": 16,
   "metadata": {
    "collapsed": false
   },
   "outputs": [
    {
     "name": "stdout",
     "output_type": "stream",
     "text": [
      "12\n",
      "count    12.000000\n",
      "mean      0.347247\n",
      "std       0.053967\n",
      "min       0.267239\n",
      "25%       0.305392\n",
      "50%       0.347043\n",
      "75%       0.377101\n",
      "max       0.428390\n",
      "Name: svg_ca, dtype: float64\n"
     ]
    },
    {
     "data": {
      "text/plain": [
       "<matplotlib.axes._subplots.AxesSubplot at 0x116e51a20>"
      ]
     },
     "execution_count": 16,
     "metadata": {},
     "output_type": "execute_result"
    },
    {
     "data": {
      "image/png": "[encoded data removed]",
      "text/plain": [
       "<matplotlib.figure.Figure at 0x1170c4198>"
      ]
     },
     "metadata": {},
     "output_type": "display_data"
    }
   ],
   "source": [
    "ca_high_R2 = hvar_wo_df.svg_ca[hvar_wo_df.region == 2]\n",
    "print(ca_high_R2.shape[0])\n",
    "print(ca_high_R2.describe())\n",
    "ca_high_R2.hist()"
   ]
  },
  {
   "cell_type": "code",
   "execution_count": 17,
   "metadata": {
    "collapsed": false
   },
   "outputs": [
    {
     "name": "stdout",
     "output_type": "stream",
     "text": [
      "52\n",
      "count    52.000000\n",
      "mean      0.324208\n",
      "std       0.078522\n",
      "min       0.162191\n",
      "25%       0.255898\n",
      "50%       0.326016\n",
      "75%       0.376514\n",
      "max       0.487775\n",
      "Name: svg_ca, dtype: float64\n"
     ]
    },
    {
     "data": {
      "image/png": "[encoded data removed]",
      "text/plain": [
       "<matplotlib.figure.Figure at 0x116e43278>"
      ]
     },
     "metadata": {},
     "output_type": "display_data"
    }
   ],
   "source": [
    "ca_low_R2 = lvar_wo_df.svg_ca[lvar_wo_df.region == 2]\n",
    "ca_low_R2_s = ca_low_R2.sample(n=ca_high_R2.shape[0])\n",
    "ca_low_R2.hist()\n",
    "print(ca_low_R2.shape[0])\n",
    "print(ca_low_R2.describe())\n",
    "# print(ca_low_RA)"
   ]
  },
  {
   "cell_type": "markdown",
   "metadata": {},
   "source": [
    "## T-test dependent"
   ]
  },
  {
   "cell_type": "code",
   "execution_count": 18,
   "metadata": {
    "collapsed": false
   },
   "outputs": [
    {
     "name": "stdout",
     "output_type": "stream",
     "text": [
      "High group is not significantly different\n"
     ]
    }
   ],
   "source": [
    "ttest_onesided((\"CA High region 2\",ca_high_R2), (\"CA low region 2\",ca_low_R2_s), 95, ttest_variant=\"student\")"
   ]
  },
  {
   "cell_type": "markdown",
   "metadata": {},
   "source": [
    "## Welch’s t-test, independent variable, 95 % confidence interval"
   ]
  },
  {
   "cell_type": "code",
   "execution_count": 19,
   "metadata": {
    "collapsed": false
   },
   "outputs": [
    {
     "name": "stdout",
     "output_type": "stream",
     "text": [
      "High group is not significantly different\n"
     ]
    }
   ],
   "source": [
    "ttest_onesided((\"CA High region 5\",ca_high_R2), (\"CA low region 5\",ca_low_R2), 95)"
   ]
  },
  {
   "cell_type": "markdown",
   "metadata": {},
   "source": [
    "# Region 5"
   ]
  },
  {
   "cell_type": "code",
   "execution_count": 20,
   "metadata": {
    "collapsed": false
   },
   "outputs": [
    {
     "name": "stdout",
     "output_type": "stream",
     "text": [
      "18\n",
      "count    18.000000\n",
      "mean      0.338048\n",
      "std       0.047448\n",
      "min       0.250714\n",
      "25%       0.310294\n",
      "50%       0.330551\n",
      "75%       0.358961\n",
      "max       0.443948\n",
      "Name: svg_ca, dtype: float64\n"
     ]
    },
    {
     "data": {
      "text/plain": [
       "<matplotlib.axes._subplots.AxesSubplot at 0x116fd7a58>"
      ]
     },
     "execution_count": 20,
     "metadata": {},
     "output_type": "execute_result"
    },
    {
     "data": {
      "image/png": "[encoded data removed]",
      "text/plain": [
       "<matplotlib.figure.Figure at 0x11742abe0>"
      ]
     },
     "metadata": {},
     "output_type": "display_data"
    }
   ],
   "source": [
    "ca_high_R5 = hvar_wo_df.svg_ca[hvar_wo_df.region == 5]\n",
    "print(ca_high_R5.shape[0])\n",
    "print(ca_high_R5.describe())\n",
    "ca_high_R5.hist()"
   ]
  },
  {
   "cell_type": "code",
   "execution_count": 21,
   "metadata": {
    "collapsed": false
   },
   "outputs": [
    {
     "name": "stdout",
     "output_type": "stream",
     "text": [
      "73\n",
      "count    73.000000\n",
      "mean      0.304120\n",
      "std       0.088947\n",
      "min       0.104471\n",
      "25%       0.255018\n",
      "50%       0.301562\n",
      "75%       0.348034\n",
      "max       0.536388\n",
      "Name: svg_ca, dtype: float64\n"
     ]
    },
    {
     "data": {
      "text/plain": [
       "<matplotlib.axes._subplots.AxesSubplot at 0x11773ac18>"
      ]
     },
     "execution_count": 21,
     "metadata": {},
     "output_type": "execute_result"
    },
    {
     "data": {
      "image/png": "[encoded data removed]",
      "text/plain": [
       "<matplotlib.figure.Figure at 0x1175c8f28>"
      ]
     },
     "metadata": {},
     "output_type": "display_data"
    }
   ],
   "source": [
    "ca_low_R5 = lvar_wo_df.svg_ca[lvar_wo_df.region == 5]\n",
    "ca_low_R5_s = ca_low_R5.sample(n=ca_high_R5.shape[0])\n",
    "print(ca_low_R5.shape[0])\n",
    "print(ca_low_R5.describe())\n",
    "ca_low_R5_s.hist()"
   ]
  },
  {
   "cell_type": "markdown",
   "metadata": {},
   "source": [
    "## T-test dependent"
   ]
  },
  {
   "cell_type": "code",
   "execution_count": 22,
   "metadata": {
    "collapsed": false
   },
   "outputs": [
    {
     "name": "stdout",
     "output_type": "stream",
     "text": [
      "High group is not significantly different\n"
     ]
    }
   ],
   "source": [
    "ttest_onesided((\"CA High region 5\",ca_high_R5), (\"CA low region 5\",ca_low_R5_s), 95, ttest_variant=\"student\")"
   ]
  },
  {
   "cell_type": "markdown",
   "metadata": {},
   "source": [
    "## Welch’s t-test, independent variable, 95 % confidence interval"
   ]
  },
  {
   "cell_type": "code",
   "execution_count": 23,
   "metadata": {
    "collapsed": false
   },
   "outputs": [
    {
     "name": "stdout",
     "output_type": "stream",
     "text": [
      "PVALUE = 0.015456733136578065 (P-Critical = 0.050000000000000044)\n",
      "Tstatistics = 2.2205516992926304\n",
      "CA High region 5 is significantly different than CA low region 5\n",
      "CA High region 5 > CA low region 5\n"
     ]
    }
   ],
   "source": [
    "ttest_onesided((\"CA High region 5\",ca_high_R5), (\"CA low region 5\",ca_low_R5), 95)"
   ]
  },
  {
   "cell_type": "markdown",
   "metadata": {},
   "source": [
    "# Region 6"
   ]
  },
  {
   "cell_type": "code",
   "execution_count": 24,
   "metadata": {
    "collapsed": false
   },
   "outputs": [
    {
     "name": "stdout",
     "output_type": "stream",
     "text": [
      "16\n",
      "count    16.000000\n",
      "mean      0.339730\n",
      "std       0.046857\n",
      "min       0.253296\n",
      "25%       0.315095\n",
      "50%       0.339371\n",
      "75%       0.358573\n",
      "max       0.461242\n",
      "Name: svg_ca, dtype: float64\n"
     ]
    },
    {
     "data": {
      "text/plain": [
       "<matplotlib.axes._subplots.AxesSubplot at 0x1177c9f28>"
      ]
     },
     "execution_count": 24,
     "metadata": {},
     "output_type": "execute_result"
    },
    {
     "data": {
      "image/png": "[encoded data removed]",
      "text/plain": [
       "<matplotlib.figure.Figure at 0x1179d56a0>"
      ]
     },
     "metadata": {},
     "output_type": "display_data"
    }
   ],
   "source": [
    "ca_high_R6 = hvar_wo_df.svg_ca[hvar_wo_df.region == 6]\n",
    "print(ca_high_R6.shape[0])\n",
    "print(ca_high_R6.describe())\n",
    "ca_high_R6.hist()"
   ]
  },
  {
   "cell_type": "code",
   "execution_count": 25,
   "metadata": {
    "collapsed": false
   },
   "outputs": [
    {
     "name": "stdout",
     "output_type": "stream",
     "text": [
      "48\n",
      "count    48.000000\n",
      "mean      0.328184\n",
      "std       0.067263\n",
      "min       0.115224\n",
      "25%       0.290453\n",
      "50%       0.329867\n",
      "75%       0.366864\n",
      "max       0.512846\n",
      "Name: svg_ca, dtype: float64\n"
     ]
    },
    {
     "data": {
      "text/plain": [
       "<matplotlib.axes._subplots.AxesSubplot at 0x1179e9ac8>"
      ]
     },
     "execution_count": 25,
     "metadata": {},
     "output_type": "execute_result"
    },
    {
     "data": {
      "image/png": "[encoded data removed]",
      "text/plain": [
       "<matplotlib.figure.Figure at 0x1179f15f8>"
      ]
     },
     "metadata": {},
     "output_type": "display_data"
    }
   ],
   "source": [
    "ca_low_R6 = lvar_wo_df.svg_ca[lvar_wo_df.region == 6]\n",
    "ca_low_R6_s = ca_low_R6.sample(n=ca_high_R6.shape[0])\n",
    "print(ca_low_R6.shape[0])\n",
    "print(ca_low_R6.describe())\n",
    "ca_low_R6_s.hist()"
   ]
  },
  {
   "cell_type": "markdown",
   "metadata": {},
   "source": [
    "## T-test dependent"
   ]
  },
  {
   "cell_type": "code",
   "execution_count": 26,
   "metadata": {
    "collapsed": false
   },
   "outputs": [
    {
     "name": "stdout",
     "output_type": "stream",
     "text": [
      "High group is not significantly different\n"
     ]
    }
   ],
   "source": [
    "ttest_onesided((\"CA High region 6\",ca_high_R6), (\"CA low region 6\",ca_low_R6_s), 95, ttest_variant=\"student\")"
   ]
  },
  {
   "cell_type": "markdown",
   "metadata": {},
   "source": [
    "## Welch’s t-test, independent variable, 95 % confidence interval"
   ]
  },
  {
   "cell_type": "code",
   "execution_count": 27,
   "metadata": {
    "collapsed": false
   },
   "outputs": [
    {
     "name": "stdout",
     "output_type": "stream",
     "text": [
      "High group is not significantly different\n"
     ]
    }
   ],
   "source": [
    "# Welch’s t-test, independent variable\n",
    "ttest_onesided((\"CA High region 6\",ca_high_R6), (\"CA low region 6\",ca_low_R6), 95)"
   ]
  },
  {
   "cell_type": "code",
   "execution_count": 28,
   "metadata": {
    "collapsed": false
   },
   "outputs": [],
   "source": [
    "a = hvar_df.groupby(\"same_region\").describe()"
   ]
  },
  {
   "cell_type": "code",
   "execution_count": 29,
   "metadata": {
    "collapsed": false
   },
   "outputs": [
    {
     "data": {
      "text/html": [
       "<div>\n",
       "<table border=\"1\" class=\"dataframe\">\n",
       "  <thead>\n",
       "    <tr style=\"text-align: right;\">\n",
       "      <th></th>\n",
       "      <th></th>\n",
       "      <th>angle</th>\n",
       "      <th>area</th>\n",
       "      <th>aspect_ratio</th>\n",
       "      <th>cattle_id</th>\n",
       "      <th>contour_area</th>\n",
       "      <th>contour_perimeter</th>\n",
       "      <th>distance</th>\n",
       "      <th>extent</th>\n",
       "      <th>firstframe</th>\n",
       "      <th>frametime</th>\n",
       "      <th>...</th>\n",
       "      <th>max_area</th>\n",
       "      <th>pupil_major_axis</th>\n",
       "      <th>pupil_minor_axis</th>\n",
       "      <th>region</th>\n",
       "      <th>solidity</th>\n",
       "      <th>svg_area</th>\n",
       "      <th>svg_ca</th>\n",
       "      <th>svg_ipr</th>\n",
       "      <th>svg_max_area</th>\n",
       "      <th>vit_a</th>\n",
       "    </tr>\n",
       "    <tr>\n",
       "      <th>same_region</th>\n",
       "      <th></th>\n",
       "      <th></th>\n",
       "      <th></th>\n",
       "      <th></th>\n",
       "      <th></th>\n",
       "      <th></th>\n",
       "      <th></th>\n",
       "      <th></th>\n",
       "      <th></th>\n",
       "      <th></th>\n",
       "      <th></th>\n",
       "      <th></th>\n",
       "      <th></th>\n",
       "      <th></th>\n",
       "      <th></th>\n",
       "      <th></th>\n",
       "      <th></th>\n",
       "      <th></th>\n",
       "      <th></th>\n",
       "      <th></th>\n",
       "      <th></th>\n",
       "      <th></th>\n",
       "    </tr>\n",
       "  </thead>\n",
       "  <tbody>\n",
       "    <tr>\n",
       "      <th rowspan=\"8\" valign=\"top\">True</th>\n",
       "      <th>count</th>\n",
       "      <td>34.000000</td>\n",
       "      <td>61.000000</td>\n",
       "      <td>4.000000</td>\n",
       "      <td>7.400000e+01</td>\n",
       "      <td>4.000000</td>\n",
       "      <td>4.000000</td>\n",
       "      <td>0.0</td>\n",
       "      <td>4.000000</td>\n",
       "      <td>74.0</td>\n",
       "      <td>74.000000</td>\n",
       "      <td>...</td>\n",
       "      <td>74.000000</td>\n",
       "      <td>61.000000</td>\n",
       "      <td>61.000000</td>\n",
       "      <td>74.000000</td>\n",
       "      <td>4.000000</td>\n",
       "      <td>74.000000</td>\n",
       "      <td>74.000000</td>\n",
       "      <td>74.000000</td>\n",
       "      <td>68.000000</td>\n",
       "      <td>74.000000</td>\n",
       "    </tr>\n",
       "    <tr>\n",
       "      <th>mean</th>\n",
       "      <td>6.716820</td>\n",
       "      <td>23531.598171</td>\n",
       "      <td>1.299377</td>\n",
       "      <td>1.395809e+09</td>\n",
       "      <td>11652.375000</td>\n",
       "      <td>491.515021</td>\n",
       "      <td>NaN</td>\n",
       "      <td>0.628032</td>\n",
       "      <td>0.0</td>\n",
       "      <td>1.241757</td>\n",
       "      <td>...</td>\n",
       "      <td>36650.457511</td>\n",
       "      <td>214.707558</td>\n",
       "      <td>137.995422</td>\n",
       "      <td>4.189189</td>\n",
       "      <td>0.871739</td>\n",
       "      <td>23181.808076</td>\n",
       "      <td>0.362418</td>\n",
       "      <td>0.902599</td>\n",
       "      <td>36706.567341</td>\n",
       "      <td>86.665299</td>\n",
       "    </tr>\n",
       "    <tr>\n",
       "      <th>std</th>\n",
       "      <td>19.315096</td>\n",
       "      <td>5498.782701</td>\n",
       "      <td>0.262452</td>\n",
       "      <td>1.326686e+08</td>\n",
       "      <td>4235.626112</td>\n",
       "      <td>110.491676</td>\n",
       "      <td>NaN</td>\n",
       "      <td>0.024846</td>\n",
       "      <td>0.0</td>\n",
       "      <td>0.135872</td>\n",
       "      <td>...</td>\n",
       "      <td>7005.613784</td>\n",
       "      <td>21.431590</td>\n",
       "      <td>22.769311</td>\n",
       "      <td>1.458801</td>\n",
       "      <td>0.028322</td>\n",
       "      <td>5626.206407</td>\n",
       "      <td>0.077442</td>\n",
       "      <td>0.056010</td>\n",
       "      <td>6627.548831</td>\n",
       "      <td>16.963816</td>\n",
       "    </tr>\n",
       "    <tr>\n",
       "      <th>min</th>\n",
       "      <td>0.000000</td>\n",
       "      <td>8019.477980</td>\n",
       "      <td>0.910714</td>\n",
       "      <td>8.600537e+08</td>\n",
       "      <td>6907.500000</td>\n",
       "      <td>365.320848</td>\n",
       "      <td>NaN</td>\n",
       "      <td>0.604648</td>\n",
       "      <td>0.0</td>\n",
       "      <td>1.000000</td>\n",
       "      <td>...</td>\n",
       "      <td>18464.027981</td>\n",
       "      <td>137.113831</td>\n",
       "      <td>74.468903</td>\n",
       "      <td>1.000000</td>\n",
       "      <td>0.832009</td>\n",
       "      <td>7704.884815</td>\n",
       "      <td>0.250714</td>\n",
       "      <td>0.612341</td>\n",
       "      <td>18258.019918</td>\n",
       "      <td>60.208333</td>\n",
       "    </tr>\n",
       "    <tr>\n",
       "      <th>25%</th>\n",
       "      <td>0.000000</td>\n",
       "      <td>19784.017787</td>\n",
       "      <td>1.258213</td>\n",
       "      <td>1.372244e+09</td>\n",
       "      <td>8683.125000</td>\n",
       "      <td>420.230751</td>\n",
       "      <td>NaN</td>\n",
       "      <td>0.613402</td>\n",
       "      <td>0.0</td>\n",
       "      <td>1.200000</td>\n",
       "      <td>...</td>\n",
       "      <td>32477.744063</td>\n",
       "      <td>204.969000</td>\n",
       "      <td>121.023000</td>\n",
       "      <td>3.000000</td>\n",
       "      <td>0.865094</td>\n",
       "      <td>19594.905067</td>\n",
       "      <td>0.318339</td>\n",
       "      <td>0.869959</td>\n",
       "      <td>32702.363567</td>\n",
       "      <td>71.877500</td>\n",
       "    </tr>\n",
       "    <tr>\n",
       "      <th>50%</th>\n",
       "      <td>0.000000</td>\n",
       "      <td>23531.937945</td>\n",
       "      <td>1.405773</td>\n",
       "      <td>1.445174e+09</td>\n",
       "      <td>12053.000000</td>\n",
       "      <td>494.646749</td>\n",
       "      <td>NaN</td>\n",
       "      <td>0.622643</td>\n",
       "      <td>0.0</td>\n",
       "      <td>1.200000</td>\n",
       "      <td>...</td>\n",
       "      <td>37238.880322</td>\n",
       "      <td>215.021000</td>\n",
       "      <td>139.062000</td>\n",
       "      <td>4.000000</td>\n",
       "      <td>0.877973</td>\n",
       "      <td>23937.645832</td>\n",
       "      <td>0.339371</td>\n",
       "      <td>0.912059</td>\n",
       "      <td>37317.067772</td>\n",
       "      <td>85.858586</td>\n",
       "    </tr>\n",
       "    <tr>\n",
       "      <th>75%</th>\n",
       "      <td>0.000000</td>\n",
       "      <td>26848.926216</td>\n",
       "      <td>1.446937</td>\n",
       "      <td>1.445175e+09</td>\n",
       "      <td>15022.250000</td>\n",
       "      <td>565.931020</td>\n",
       "      <td>NaN</td>\n",
       "      <td>0.637272</td>\n",
       "      <td>0.0</td>\n",
       "      <td>1.200000</td>\n",
       "      <td>...</td>\n",
       "      <td>40610.616068</td>\n",
       "      <td>228.020000</td>\n",
       "      <td>153.985000</td>\n",
       "      <td>5.000000</td>\n",
       "      <td>0.884619</td>\n",
       "      <td>27004.737435</td>\n",
       "      <td>0.380056</td>\n",
       "      <td>0.938794</td>\n",
       "      <td>40251.800035</td>\n",
       "      <td>105.556288</td>\n",
       "    </tr>\n",
       "    <tr>\n",
       "      <th>max</th>\n",
       "      <td>67.653755</td>\n",
       "      <td>37400.115772</td>\n",
       "      <td>1.475248</td>\n",
       "      <td>1.445187e+09</td>\n",
       "      <td>15596.000000</td>\n",
       "      <td>611.445739</td>\n",
       "      <td>NaN</td>\n",
       "      <td>0.662194</td>\n",
       "      <td>0.0</td>\n",
       "      <td>1.600000</td>\n",
       "      <td>...</td>\n",
       "      <td>55262.105810</td>\n",
       "      <td>253.991000</td>\n",
       "      <td>188.979000</td>\n",
       "      <td>6.000000</td>\n",
       "      <td>0.899002</td>\n",
       "      <td>37773.923110</td>\n",
       "      <td>0.704899</td>\n",
       "      <td>0.984193</td>\n",
       "      <td>51550.137318</td>\n",
       "      <td>117.080000</td>\n",
       "    </tr>\n",
       "  </tbody>\n",
       "</table>\n",
       "<p>8 rows × 21 columns</p>\n",
       "</div>"
      ],
      "text/plain": [
       "                       angle          area  aspect_ratio     cattle_id  \\\n",
       "same_region                                                              \n",
       "True        count  34.000000     61.000000      4.000000  7.400000e+01   \n",
       "            mean    6.716820  23531.598171      1.299377  1.395809e+09   \n",
       "            std    19.315096   5498.782701      0.262452  1.326686e+08   \n",
       "            min     0.000000   8019.477980      0.910714  8.600537e+08   \n",
       "            25%     0.000000  19784.017787      1.258213  1.372244e+09   \n",
       "            50%     0.000000  23531.937945      1.405773  1.445174e+09   \n",
       "            75%     0.000000  26848.926216      1.446937  1.445175e+09   \n",
       "            max    67.653755  37400.115772      1.475248  1.445187e+09   \n",
       "\n",
       "                   contour_area  contour_perimeter  distance    extent  \\\n",
       "same_region                                                              \n",
       "True        count      4.000000           4.000000       0.0  4.000000   \n",
       "            mean   11652.375000         491.515021       NaN  0.628032   \n",
       "            std     4235.626112         110.491676       NaN  0.024846   \n",
       "            min     6907.500000         365.320848       NaN  0.604648   \n",
       "            25%     8683.125000         420.230751       NaN  0.613402   \n",
       "            50%    12053.000000         494.646749       NaN  0.622643   \n",
       "            75%    15022.250000         565.931020       NaN  0.637272   \n",
       "            max    15596.000000         611.445739       NaN  0.662194   \n",
       "\n",
       "                   firstframe  frametime     ...          max_area  \\\n",
       "same_region                                  ...                     \n",
       "True        count        74.0  74.000000     ...         74.000000   \n",
       "            mean          0.0   1.241757     ...      36650.457511   \n",
       "            std           0.0   0.135872     ...       7005.613784   \n",
       "            min           0.0   1.000000     ...      18464.027981   \n",
       "            25%           0.0   1.200000     ...      32477.744063   \n",
       "            50%           0.0   1.200000     ...      37238.880322   \n",
       "            75%           0.0   1.200000     ...      40610.616068   \n",
       "            max           0.0   1.600000     ...      55262.105810   \n",
       "\n",
       "                   pupil_major_axis  pupil_minor_axis     region  solidity  \\\n",
       "same_region                                                                  \n",
       "True        count         61.000000         61.000000  74.000000  4.000000   \n",
       "            mean         214.707558        137.995422   4.189189  0.871739   \n",
       "            std           21.431590         22.769311   1.458801  0.028322   \n",
       "            min          137.113831         74.468903   1.000000  0.832009   \n",
       "            25%          204.969000        121.023000   3.000000  0.865094   \n",
       "            50%          215.021000        139.062000   4.000000  0.877973   \n",
       "            75%          228.020000        153.985000   5.000000  0.884619   \n",
       "            max          253.991000        188.979000   6.000000  0.899002   \n",
       "\n",
       "                       svg_area     svg_ca    svg_ipr  svg_max_area  \\\n",
       "same_region                                                           \n",
       "True        count     74.000000  74.000000  74.000000     68.000000   \n",
       "            mean   23181.808076   0.362418   0.902599  36706.567341   \n",
       "            std     5626.206407   0.077442   0.056010   6627.548831   \n",
       "            min     7704.884815   0.250714   0.612341  18258.019918   \n",
       "            25%    19594.905067   0.318339   0.869959  32702.363567   \n",
       "            50%    23937.645832   0.339371   0.912059  37317.067772   \n",
       "            75%    27004.737435   0.380056   0.938794  40251.800035   \n",
       "            max    37773.923110   0.704899   0.984193  51550.137318   \n",
       "\n",
       "                        vit_a  \n",
       "same_region                    \n",
       "True        count   74.000000  \n",
       "            mean    86.665299  \n",
       "            std     16.963816  \n",
       "            min     60.208333  \n",
       "            25%     71.877500  \n",
       "            50%     85.858586  \n",
       "            75%    105.556288  \n",
       "            max    117.080000  \n",
       "\n",
       "[8 rows x 21 columns]"
      ]
     },
     "execution_count": 29,
     "metadata": {},
     "output_type": "execute_result"
    }
   ],
   "source": [
    "a"
   ]
  },
  {
   "cell_type": "code",
   "execution_count": null,
   "metadata": {
    "collapsed": true
   },
   "outputs": [],
   "source": []
  }
 ],
 "metadata": {
  "kernelspec": {
   "display_name": "Python 3",
   "language": "python",
   "name": "python3"
  },
  "language_info": {
   "codemirror_mode": {
    "name": "ipython",
    "version": 3
   },
   "file_extension": ".py",
   "mimetype": "text/x-python",
   "name": "python",
   "nbconvert_exporter": "python",
   "pygments_lexer": "ipython3",
   "version": "3.5.1"
  }
 },
 "nbformat": 4,
 "nbformat_minor": 0
}
